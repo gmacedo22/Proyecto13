{
 "cells": [
  {
   "cell_type": "markdown",
   "metadata": {},
   "source": [
    "# Hola Gerardo!\n",
    "\n",
    "Mi nombre es David Bautista, soy code reviewer de TripleTen y voy a revisar el proyecto que acabas de desarrollar.\n",
    "\n",
    "Cuando vea un error la primera vez, lo señalaré. Deberás encontrarlo y arreglarlo. La intención es que te prepares para un espacio real de trabajo. En un trabajo, el líder de tu equipo hará lo mismo. Si no puedes solucionar el error, te daré más información en la próxima ocasión.\n",
    "\n",
    "Encontrarás mis comentarios más abajo - **por favor, no los muevas, no los modifiques ni los borres.**\n",
    "\n",
    "¿Cómo lo voy a hacer? Voy a leer detenidamente cada una de las implementaciones que has llevado a cabo para cumplir con lo solicitado. Verás los comentarios de esta forma:\n",
    "\n",
    "<div class=\"alert alert-block alert-success\">\n",
    "<b>Comentario del revisor</b> <a class=\"tocSkip\"></a>\n",
    "    \n",
    "Si todo está perfecto.\n",
    "</div>\n",
    "\n",
    "\n",
    "<div class=\"alert alert-block alert-warning\">\n",
    "<b>Comentario del revisor</b> <a class=\"tocSkip\"></a>\n",
    "    \n",
    "Si tu código está bien pero se puede mejorar o hay algún detalle que le hace falta.\n",
    "</div>\n",
    "\n",
    "\n",
    "<div class=\"alert alert-block alert-danger\">\n",
    "    \n",
    "<b>Comentario del revisor</b> <a class=\"tocSkip\"></a>\n",
    "    \n",
    "    \n",
    "Si de pronto hace falta algo o existe algún problema con tu código o conclusiones.\n",
    "</div>\n",
    "\n",
    "\n",
    "Puedes responderme de esta forma: \n",
    "\n",
    "<div class=\"alert alert-block alert-info\">\n",
    "<b>Respuesta del estudiante</b> <a class=\"tocSkip\"></a>\n",
    "</div>\n",
    "\n",
    "¡Empecemos!"
   ]
  },
  {
   "cell_type": "markdown",
   "metadata": {},
   "source": [
    "<div class=\"alert alert-block alert-success\">\n",
    "<b>Comentario del revisor </b> <a class=\"tocSkip\"></a>\n",
    "\n",
    "# Comentario General\n",
    "\n",
    "Hola Gerardo, te felicito por el desarrollo del proyecto. Lograste completar las diferentes secciones de muy buena manera . </div> "
   ]
  },
  {
   "cell_type": "markdown",
   "metadata": {},
   "source": [
    "El servicio de venta de autos usados Rusty Bargain está desarrollando una aplicación para atraer nuevos clientes. Gracias a esa app, puedes averiguar rápidamente el valor de mercado de tu coche. Tienes acceso al historial: especificaciones técnicas, versiones de equipamiento y precios. Tienes que crear un modelo que determine el valor de mercado.\n",
    "A Rusty Bargain le interesa:\n",
    "- la calidad de la predicción;\n",
    "- la velocidad de la predicción;\n",
    "- el tiempo requerido para el entrenamiento"
   ]
  },
  {
   "cell_type": "markdown",
   "metadata": {},
   "source": [
    "<div class=\"alert alert-block alert-success\">\n",
    "<b>Comentario del revisor </b> <a class=\"tocSkip\"></a>\n",
    "\n",
    "Buen trabajo estructurando esta pequeña sección de introducción.  </div> "
   ]
  },
  {
   "cell_type": "code",
   "execution_count": 1,
   "metadata": {},
   "outputs": [],
   "source": [
    "import pandas as pd\n",
    "import numpy as np\n",
    "import matplotlib.pyplot as plt\n",
    "\n",
    "from sklearn.model_selection import train_test_split\n",
    "from sklearn.metrics import mean_squared_error\n",
    "\n",
    "from catboost import CatBoostClassifier\n",
    "import lightgbm as lgb\n",
    "\n",
    "from sklearn.linear_model import LinearRegression\n",
    "from sklearn.ensemble import RandomForestClassifier\n",
    "from sklearn.tree import DecisionTreeClassifier\n",
    "\n",
    "from sklearn.preprocessing import OrdinalEncoder\n",
    "from sklearn.preprocessing import OneHotEncoder\n",
    "\n",
    "from sklearn.preprocessing import MaxAbsScaler"
   ]
  },
  {
   "cell_type": "markdown",
   "metadata": {},
   "source": [
    "<div class=\"alert alert-block alert-success\">\n",
    "<b>Comentario del revisor </b> <a class=\"tocSkip\"></a>\n",
    "\n",
    "Perfecto, buen trabajo importando las librerías necesarias para el desarrollo del proyecto.  </div> "
   ]
  },
  {
   "cell_type": "markdown",
   "metadata": {},
   "source": [
    "## Preparación de datos"
   ]
  },
  {
   "cell_type": "code",
   "execution_count": 2,
   "metadata": {},
   "outputs": [],
   "source": [
    "df = pd.read_csv('/datasets/car_data.csv')"
   ]
  },
  {
   "cell_type": "code",
   "execution_count": 3,
   "metadata": {
    "scrolled": false
   },
   "outputs": [
    {
     "data": {
      "text/html": [
       "<div>\n",
       "<style scoped>\n",
       "    .dataframe tbody tr th:only-of-type {\n",
       "        vertical-align: middle;\n",
       "    }\n",
       "\n",
       "    .dataframe tbody tr th {\n",
       "        vertical-align: top;\n",
       "    }\n",
       "\n",
       "    .dataframe thead th {\n",
       "        text-align: right;\n",
       "    }\n",
       "</style>\n",
       "<table border=\"1\" class=\"dataframe\">\n",
       "  <thead>\n",
       "    <tr style=\"text-align: right;\">\n",
       "      <th></th>\n",
       "      <th>DateCrawled</th>\n",
       "      <th>Price</th>\n",
       "      <th>VehicleType</th>\n",
       "      <th>RegistrationYear</th>\n",
       "      <th>Gearbox</th>\n",
       "      <th>Power</th>\n",
       "      <th>Model</th>\n",
       "      <th>Mileage</th>\n",
       "      <th>RegistrationMonth</th>\n",
       "      <th>FuelType</th>\n",
       "      <th>Brand</th>\n",
       "      <th>NotRepaired</th>\n",
       "      <th>DateCreated</th>\n",
       "      <th>NumberOfPictures</th>\n",
       "      <th>PostalCode</th>\n",
       "      <th>LastSeen</th>\n",
       "    </tr>\n",
       "  </thead>\n",
       "  <tbody>\n",
       "    <tr>\n",
       "      <th>0</th>\n",
       "      <td>24/03/2016 11:52</td>\n",
       "      <td>480</td>\n",
       "      <td>NaN</td>\n",
       "      <td>1993</td>\n",
       "      <td>manual</td>\n",
       "      <td>0</td>\n",
       "      <td>golf</td>\n",
       "      <td>150000</td>\n",
       "      <td>0</td>\n",
       "      <td>petrol</td>\n",
       "      <td>volkswagen</td>\n",
       "      <td>NaN</td>\n",
       "      <td>24/03/2016 00:00</td>\n",
       "      <td>0</td>\n",
       "      <td>70435</td>\n",
       "      <td>07/04/2016 03:16</td>\n",
       "    </tr>\n",
       "    <tr>\n",
       "      <th>1</th>\n",
       "      <td>24/03/2016 10:58</td>\n",
       "      <td>18300</td>\n",
       "      <td>coupe</td>\n",
       "      <td>2011</td>\n",
       "      <td>manual</td>\n",
       "      <td>190</td>\n",
       "      <td>NaN</td>\n",
       "      <td>125000</td>\n",
       "      <td>5</td>\n",
       "      <td>gasoline</td>\n",
       "      <td>audi</td>\n",
       "      <td>yes</td>\n",
       "      <td>24/03/2016 00:00</td>\n",
       "      <td>0</td>\n",
       "      <td>66954</td>\n",
       "      <td>07/04/2016 01:46</td>\n",
       "    </tr>\n",
       "    <tr>\n",
       "      <th>2</th>\n",
       "      <td>14/03/2016 12:52</td>\n",
       "      <td>9800</td>\n",
       "      <td>suv</td>\n",
       "      <td>2004</td>\n",
       "      <td>auto</td>\n",
       "      <td>163</td>\n",
       "      <td>grand</td>\n",
       "      <td>125000</td>\n",
       "      <td>8</td>\n",
       "      <td>gasoline</td>\n",
       "      <td>jeep</td>\n",
       "      <td>NaN</td>\n",
       "      <td>14/03/2016 00:00</td>\n",
       "      <td>0</td>\n",
       "      <td>90480</td>\n",
       "      <td>05/04/2016 12:47</td>\n",
       "    </tr>\n",
       "    <tr>\n",
       "      <th>3</th>\n",
       "      <td>17/03/2016 16:54</td>\n",
       "      <td>1500</td>\n",
       "      <td>small</td>\n",
       "      <td>2001</td>\n",
       "      <td>manual</td>\n",
       "      <td>75</td>\n",
       "      <td>golf</td>\n",
       "      <td>150000</td>\n",
       "      <td>6</td>\n",
       "      <td>petrol</td>\n",
       "      <td>volkswagen</td>\n",
       "      <td>no</td>\n",
       "      <td>17/03/2016 00:00</td>\n",
       "      <td>0</td>\n",
       "      <td>91074</td>\n",
       "      <td>17/03/2016 17:40</td>\n",
       "    </tr>\n",
       "    <tr>\n",
       "      <th>4</th>\n",
       "      <td>31/03/2016 17:25</td>\n",
       "      <td>3600</td>\n",
       "      <td>small</td>\n",
       "      <td>2008</td>\n",
       "      <td>manual</td>\n",
       "      <td>69</td>\n",
       "      <td>fabia</td>\n",
       "      <td>90000</td>\n",
       "      <td>7</td>\n",
       "      <td>gasoline</td>\n",
       "      <td>skoda</td>\n",
       "      <td>no</td>\n",
       "      <td>31/03/2016 00:00</td>\n",
       "      <td>0</td>\n",
       "      <td>60437</td>\n",
       "      <td>06/04/2016 10:17</td>\n",
       "    </tr>\n",
       "  </tbody>\n",
       "</table>\n",
       "</div>"
      ],
      "text/plain": [
       "        DateCrawled  Price VehicleType  RegistrationYear Gearbox  Power  \\\n",
       "0  24/03/2016 11:52    480         NaN              1993  manual      0   \n",
       "1  24/03/2016 10:58  18300       coupe              2011  manual    190   \n",
       "2  14/03/2016 12:52   9800         suv              2004    auto    163   \n",
       "3  17/03/2016 16:54   1500       small              2001  manual     75   \n",
       "4  31/03/2016 17:25   3600       small              2008  manual     69   \n",
       "\n",
       "   Model  Mileage  RegistrationMonth  FuelType       Brand NotRepaired  \\\n",
       "0   golf   150000                  0    petrol  volkswagen         NaN   \n",
       "1    NaN   125000                  5  gasoline        audi         yes   \n",
       "2  grand   125000                  8  gasoline        jeep         NaN   \n",
       "3   golf   150000                  6    petrol  volkswagen          no   \n",
       "4  fabia    90000                  7  gasoline       skoda          no   \n",
       "\n",
       "        DateCreated  NumberOfPictures  PostalCode          LastSeen  \n",
       "0  24/03/2016 00:00                 0       70435  07/04/2016 03:16  \n",
       "1  24/03/2016 00:00                 0       66954  07/04/2016 01:46  \n",
       "2  14/03/2016 00:00                 0       90480  05/04/2016 12:47  \n",
       "3  17/03/2016 00:00                 0       91074  17/03/2016 17:40  \n",
       "4  31/03/2016 00:00                 0       60437  06/04/2016 10:17  "
      ]
     },
     "execution_count": 3,
     "metadata": {},
     "output_type": "execute_result"
    }
   ],
   "source": [
    "df.head()"
   ]
  },
  {
   "cell_type": "markdown",
   "metadata": {},
   "source": [
    "<div class=\"alert alert-block alert-success\">\n",
    "<b>Comentario del revisor </b> <a class=\"tocSkip\"></a>\n",
    "\n",
    "Perfecto, buen trabajo cargando y revisando de manera inicial el contenido del dataset.   </div> "
   ]
  },
  {
   "cell_type": "code",
   "execution_count": 4,
   "metadata": {},
   "outputs": [],
   "source": [
    "#df['DateCrawled'] = pd.to_datetime(df['DateCrawled'])\n",
    "#df['DateCreated'] = pd.to_datetime(df['DateCreated'])\n",
    "#df['LastSeen'] = pd.to_datetime(df['LastSeen'])"
   ]
  },
  {
   "cell_type": "markdown",
   "metadata": {},
   "source": [
    "### Datos\n",
    "\n",
    "POdemos observar que tiene 16 columnas, donde tenemos 6 datos categoricos y el resto son valores numericos.\n",
    "\n",
    "Tenemos valores nulos en nuestras filas pero con la potenciacion deberia de no generar problema."
   ]
  },
  {
   "cell_type": "code",
   "execution_count": 5,
   "metadata": {
    "scrolled": true
   },
   "outputs": [
    {
     "data": {
      "text/plain": [
       "DateCrawled          262\n",
       "Price                262\n",
       "VehicleType          256\n",
       "RegistrationYear     262\n",
       "Gearbox              259\n",
       "Power                262\n",
       "Model                258\n",
       "Mileage              262\n",
       "RegistrationMonth    262\n",
       "FuelType             256\n",
       "Brand                262\n",
       "NotRepaired          253\n",
       "DateCreated          262\n",
       "NumberOfPictures     262\n",
       "PostalCode           262\n",
       "LastSeen             262\n",
       "dtype: int64"
      ]
     },
     "execution_count": 5,
     "metadata": {},
     "output_type": "execute_result"
    }
   ],
   "source": [
    "df[df.duplicated()].count()"
   ]
  },
  {
   "cell_type": "markdown",
   "metadata": {},
   "source": [
    "Eliminamos los valores duplicados por que solo son relleno inecesario y hace que nuestros datos sean redundantes."
   ]
  },
  {
   "cell_type": "code",
   "execution_count": 6,
   "metadata": {},
   "outputs": [],
   "source": [
    "df= df.drop_duplicates()"
   ]
  },
  {
   "cell_type": "code",
   "execution_count": 7,
   "metadata": {
    "scrolled": true
   },
   "outputs": [
    {
     "name": "stdout",
     "output_type": "stream",
     "text": [
      "<class 'pandas.core.frame.DataFrame'>\n",
      "Int64Index: 354107 entries, 0 to 354368\n",
      "Data columns (total 16 columns):\n",
      " #   Column             Non-Null Count   Dtype \n",
      "---  ------             --------------   ----- \n",
      " 0   DateCrawled        354107 non-null  object\n",
      " 1   Price              354107 non-null  int64 \n",
      " 2   VehicleType        316623 non-null  object\n",
      " 3   RegistrationYear   354107 non-null  int64 \n",
      " 4   Gearbox            334277 non-null  object\n",
      " 5   Power              354107 non-null  int64 \n",
      " 6   Model              334406 non-null  object\n",
      " 7   Mileage            354107 non-null  int64 \n",
      " 8   RegistrationMonth  354107 non-null  int64 \n",
      " 9   FuelType           321218 non-null  object\n",
      " 10  Brand              354107 non-null  object\n",
      " 11  NotRepaired        282962 non-null  object\n",
      " 12  DateCreated        354107 non-null  object\n",
      " 13  NumberOfPictures   354107 non-null  int64 \n",
      " 14  PostalCode         354107 non-null  int64 \n",
      " 15  LastSeen           354107 non-null  object\n",
      "dtypes: int64(7), object(9)\n",
      "memory usage: 45.9+ MB\n"
     ]
    }
   ],
   "source": [
    "df.info()"
   ]
  },
  {
   "cell_type": "code",
   "execution_count": 8,
   "metadata": {
    "scrolled": false
   },
   "outputs": [
    {
     "data": {
      "text/html": [
       "<div>\n",
       "<style scoped>\n",
       "    .dataframe tbody tr th:only-of-type {\n",
       "        vertical-align: middle;\n",
       "    }\n",
       "\n",
       "    .dataframe tbody tr th {\n",
       "        vertical-align: top;\n",
       "    }\n",
       "\n",
       "    .dataframe thead th {\n",
       "        text-align: right;\n",
       "    }\n",
       "</style>\n",
       "<table border=\"1\" class=\"dataframe\">\n",
       "  <thead>\n",
       "    <tr style=\"text-align: right;\">\n",
       "      <th></th>\n",
       "      <th>Price</th>\n",
       "      <th>RegistrationYear</th>\n",
       "      <th>Power</th>\n",
       "      <th>Mileage</th>\n",
       "      <th>RegistrationMonth</th>\n",
       "      <th>NumberOfPictures</th>\n",
       "      <th>PostalCode</th>\n",
       "    </tr>\n",
       "  </thead>\n",
       "  <tbody>\n",
       "    <tr>\n",
       "      <th>count</th>\n",
       "      <td>354107.000000</td>\n",
       "      <td>354107.000000</td>\n",
       "      <td>354107.000000</td>\n",
       "      <td>354107.000000</td>\n",
       "      <td>354107.000000</td>\n",
       "      <td>354107.0</td>\n",
       "      <td>354107.000000</td>\n",
       "    </tr>\n",
       "    <tr>\n",
       "      <th>mean</th>\n",
       "      <td>4416.433287</td>\n",
       "      <td>2004.235355</td>\n",
       "      <td>110.089651</td>\n",
       "      <td>128211.811684</td>\n",
       "      <td>5.714182</td>\n",
       "      <td>0.0</td>\n",
       "      <td>50507.145030</td>\n",
       "    </tr>\n",
       "    <tr>\n",
       "      <th>std</th>\n",
       "      <td>4514.338584</td>\n",
       "      <td>90.261168</td>\n",
       "      <td>189.914972</td>\n",
       "      <td>37906.590101</td>\n",
       "      <td>3.726682</td>\n",
       "      <td>0.0</td>\n",
       "      <td>25784.212094</td>\n",
       "    </tr>\n",
       "    <tr>\n",
       "      <th>min</th>\n",
       "      <td>0.000000</td>\n",
       "      <td>1000.000000</td>\n",
       "      <td>0.000000</td>\n",
       "      <td>5000.000000</td>\n",
       "      <td>0.000000</td>\n",
       "      <td>0.0</td>\n",
       "      <td>1067.000000</td>\n",
       "    </tr>\n",
       "    <tr>\n",
       "      <th>25%</th>\n",
       "      <td>1050.000000</td>\n",
       "      <td>1999.000000</td>\n",
       "      <td>69.000000</td>\n",
       "      <td>125000.000000</td>\n",
       "      <td>3.000000</td>\n",
       "      <td>0.0</td>\n",
       "      <td>30165.000000</td>\n",
       "    </tr>\n",
       "    <tr>\n",
       "      <th>50%</th>\n",
       "      <td>2700.000000</td>\n",
       "      <td>2003.000000</td>\n",
       "      <td>105.000000</td>\n",
       "      <td>150000.000000</td>\n",
       "      <td>6.000000</td>\n",
       "      <td>0.0</td>\n",
       "      <td>49406.000000</td>\n",
       "    </tr>\n",
       "    <tr>\n",
       "      <th>75%</th>\n",
       "      <td>6400.000000</td>\n",
       "      <td>2008.000000</td>\n",
       "      <td>143.000000</td>\n",
       "      <td>150000.000000</td>\n",
       "      <td>9.000000</td>\n",
       "      <td>0.0</td>\n",
       "      <td>71083.000000</td>\n",
       "    </tr>\n",
       "    <tr>\n",
       "      <th>max</th>\n",
       "      <td>20000.000000</td>\n",
       "      <td>9999.000000</td>\n",
       "      <td>20000.000000</td>\n",
       "      <td>150000.000000</td>\n",
       "      <td>12.000000</td>\n",
       "      <td>0.0</td>\n",
       "      <td>99998.000000</td>\n",
       "    </tr>\n",
       "  </tbody>\n",
       "</table>\n",
       "</div>"
      ],
      "text/plain": [
       "               Price  RegistrationYear          Power        Mileage  \\\n",
       "count  354107.000000     354107.000000  354107.000000  354107.000000   \n",
       "mean     4416.433287       2004.235355     110.089651  128211.811684   \n",
       "std      4514.338584         90.261168     189.914972   37906.590101   \n",
       "min         0.000000       1000.000000       0.000000    5000.000000   \n",
       "25%      1050.000000       1999.000000      69.000000  125000.000000   \n",
       "50%      2700.000000       2003.000000     105.000000  150000.000000   \n",
       "75%      6400.000000       2008.000000     143.000000  150000.000000   \n",
       "max     20000.000000       9999.000000   20000.000000  150000.000000   \n",
       "\n",
       "       RegistrationMonth  NumberOfPictures     PostalCode  \n",
       "count      354107.000000          354107.0  354107.000000  \n",
       "mean            5.714182               0.0   50507.145030  \n",
       "std             3.726682               0.0   25784.212094  \n",
       "min             0.000000               0.0    1067.000000  \n",
       "25%             3.000000               0.0   30165.000000  \n",
       "50%             6.000000               0.0   49406.000000  \n",
       "75%             9.000000               0.0   71083.000000  \n",
       "max            12.000000               0.0   99998.000000  "
      ]
     },
     "execution_count": 8,
     "metadata": {},
     "output_type": "execute_result"
    }
   ],
   "source": [
    "df.describe()"
   ]
  },
  {
   "cell_type": "markdown",
   "metadata": {},
   "source": [
    "Aqui use el describe para ver valores atípicos y fuera de los limites, esto para reducir el numero de variables, y pues tambien ayuda a hacer mas eficiente nuestro codigo ya que no trabajamos con posibles datos falsos"
   ]
  },
  {
   "cell_type": "code",
   "execution_count": 9,
   "metadata": {},
   "outputs": [],
   "source": [
    "Q1 = df.quantile(0.25)\n",
    "Q3 = df.quantile(0.75)\n",
    "IQR = Q3 - Q1\n",
    "df_no_outliers = df[~((df < (Q1 - 1.5 * IQR)) | (df > (Q3 + 1.5 * IQR))).any(axis=1)]\n"
   ]
  },
  {
   "cell_type": "code",
   "execution_count": 10,
   "metadata": {},
   "outputs": [
    {
     "name": "stdout",
     "output_type": "stream",
     "text": [
      "Price                  1050.0\n",
      "RegistrationYear       1999.0\n",
      "Power                    69.0\n",
      "Mileage              125000.0\n",
      "RegistrationMonth         3.0\n",
      "NumberOfPictures          0.0\n",
      "PostalCode            30165.0\n",
      "Name: 0.25, dtype: float64\n"
     ]
    }
   ],
   "source": [
    "print(Q1)"
   ]
  },
  {
   "cell_type": "code",
   "execution_count": 11,
   "metadata": {
    "scrolled": false
   },
   "outputs": [
    {
     "data": {
      "text/html": [
       "<div>\n",
       "<style scoped>\n",
       "    .dataframe tbody tr th:only-of-type {\n",
       "        vertical-align: middle;\n",
       "    }\n",
       "\n",
       "    .dataframe tbody tr th {\n",
       "        vertical-align: top;\n",
       "    }\n",
       "\n",
       "    .dataframe thead th {\n",
       "        text-align: right;\n",
       "    }\n",
       "</style>\n",
       "<table border=\"1\" class=\"dataframe\">\n",
       "  <thead>\n",
       "    <tr style=\"text-align: right;\">\n",
       "      <th></th>\n",
       "      <th>Price</th>\n",
       "      <th>RegistrationYear</th>\n",
       "      <th>Power</th>\n",
       "      <th>Mileage</th>\n",
       "      <th>RegistrationMonth</th>\n",
       "      <th>NumberOfPictures</th>\n",
       "      <th>PostalCode</th>\n",
       "    </tr>\n",
       "  </thead>\n",
       "  <tbody>\n",
       "    <tr>\n",
       "      <th>count</th>\n",
       "      <td>282621.000000</td>\n",
       "      <td>282621.000000</td>\n",
       "      <td>282621.000000</td>\n",
       "      <td>282621.000000</td>\n",
       "      <td>282621.000000</td>\n",
       "      <td>282621.0</td>\n",
       "      <td>282621.000000</td>\n",
       "    </tr>\n",
       "    <tr>\n",
       "      <th>mean</th>\n",
       "      <td>3288.787383</td>\n",
       "      <td>2002.707605</td>\n",
       "      <td>102.191465</td>\n",
       "      <td>142656.384345</td>\n",
       "      <td>5.704955</td>\n",
       "      <td>0.0</td>\n",
       "      <td>50267.653147</td>\n",
       "    </tr>\n",
       "    <tr>\n",
       "      <th>std</th>\n",
       "      <td>3154.956258</td>\n",
       "      <td>6.113736</td>\n",
       "      <td>55.906518</td>\n",
       "      <td>16145.268530</td>\n",
       "      <td>3.741212</td>\n",
       "      <td>0.0</td>\n",
       "      <td>25653.110815</td>\n",
       "    </tr>\n",
       "    <tr>\n",
       "      <th>min</th>\n",
       "      <td>0.000000</td>\n",
       "      <td>1986.000000</td>\n",
       "      <td>0.000000</td>\n",
       "      <td>90000.000000</td>\n",
       "      <td>0.000000</td>\n",
       "      <td>0.0</td>\n",
       "      <td>1067.000000</td>\n",
       "    </tr>\n",
       "    <tr>\n",
       "      <th>25%</th>\n",
       "      <td>975.000000</td>\n",
       "      <td>1999.000000</td>\n",
       "      <td>68.000000</td>\n",
       "      <td>150000.000000</td>\n",
       "      <td>3.000000</td>\n",
       "      <td>0.0</td>\n",
       "      <td>29664.000000</td>\n",
       "    </tr>\n",
       "    <tr>\n",
       "      <th>50%</th>\n",
       "      <td>2200.000000</td>\n",
       "      <td>2002.000000</td>\n",
       "      <td>102.000000</td>\n",
       "      <td>150000.000000</td>\n",
       "      <td>6.000000</td>\n",
       "      <td>0.0</td>\n",
       "      <td>49090.000000</td>\n",
       "    </tr>\n",
       "    <tr>\n",
       "      <th>75%</th>\n",
       "      <td>4650.000000</td>\n",
       "      <td>2006.000000</td>\n",
       "      <td>140.000000</td>\n",
       "      <td>150000.000000</td>\n",
       "      <td>9.000000</td>\n",
       "      <td>0.0</td>\n",
       "      <td>70376.000000</td>\n",
       "    </tr>\n",
       "    <tr>\n",
       "      <th>max</th>\n",
       "      <td>14400.000000</td>\n",
       "      <td>2019.000000</td>\n",
       "      <td>254.000000</td>\n",
       "      <td>150000.000000</td>\n",
       "      <td>12.000000</td>\n",
       "      <td>0.0</td>\n",
       "      <td>99998.000000</td>\n",
       "    </tr>\n",
       "  </tbody>\n",
       "</table>\n",
       "</div>"
      ],
      "text/plain": [
       "               Price  RegistrationYear          Power        Mileage  \\\n",
       "count  282621.000000     282621.000000  282621.000000  282621.000000   \n",
       "mean     3288.787383       2002.707605     102.191465  142656.384345   \n",
       "std      3154.956258          6.113736      55.906518   16145.268530   \n",
       "min         0.000000       1986.000000       0.000000   90000.000000   \n",
       "25%       975.000000       1999.000000      68.000000  150000.000000   \n",
       "50%      2200.000000       2002.000000     102.000000  150000.000000   \n",
       "75%      4650.000000       2006.000000     140.000000  150000.000000   \n",
       "max     14400.000000       2019.000000     254.000000  150000.000000   \n",
       "\n",
       "       RegistrationMonth  NumberOfPictures     PostalCode  \n",
       "count      282621.000000          282621.0  282621.000000  \n",
       "mean            5.704955               0.0   50267.653147  \n",
       "std             3.741212               0.0   25653.110815  \n",
       "min             0.000000               0.0    1067.000000  \n",
       "25%             3.000000               0.0   29664.000000  \n",
       "50%             6.000000               0.0   49090.000000  \n",
       "75%             9.000000               0.0   70376.000000  \n",
       "max            12.000000               0.0   99998.000000  "
      ]
     },
     "execution_count": 11,
     "metadata": {},
     "output_type": "execute_result"
    }
   ],
   "source": [
    "df_no_outliers.describe()"
   ]
  },
  {
   "cell_type": "markdown",
   "metadata": {},
   "source": [
    "<div class=\"alert alert-block alert-success\">\n",
    "<b>Comentario del revisor </b> <a class=\"tocSkip\"></a>\n",
    "\n",
    "Buen trabajo realizando esta exploración un poco más detallada del contenido del dataset.  </div> "
   ]
  },
  {
   "cell_type": "markdown",
   "metadata": {},
   "source": [
    "## Entrenamiento del modelo "
   ]
  },
  {
   "cell_type": "markdown",
   "metadata": {},
   "source": [
    "### Separacion de datos"
   ]
  },
  {
   "cell_type": "code",
   "execution_count": 12,
   "metadata": {
    "scrolled": false
   },
   "outputs": [],
   "source": [
    "df_Copy = df_no_outliers.copy()"
   ]
  },
  {
   "cell_type": "code",
   "execution_count": 13,
   "metadata": {},
   "outputs": [],
   "source": [
    "features_Columns = df_Copy.select_dtypes(include=object).columns.tolist()"
   ]
  },
  {
   "cell_type": "code",
   "execution_count": 14,
   "metadata": {
    "scrolled": true
   },
   "outputs": [],
   "source": [
    "number_Columns = df_Copy.select_dtypes(include=int).columns.tolist()"
   ]
  },
  {
   "cell_type": "code",
   "execution_count": 15,
   "metadata": {},
   "outputs": [],
   "source": [
    "df_Copy[features_Columns] = df_Copy[features_Columns].fillna('None')"
   ]
  },
  {
   "cell_type": "code",
   "execution_count": 16,
   "metadata": {},
   "outputs": [],
   "source": [
    "df_Copy[number_Columns] = df_Copy[number_Columns].fillna(df_Copy[number_Columns].mean())"
   ]
  },
  {
   "cell_type": "markdown",
   "metadata": {},
   "source": [
    "Realizamos un fill de los valores los cuales se encontraban vacios, los categoricos les pusimos None y los valores numericos nos fuimos por la media.\n",
    "\n",
    "Esto por que hay filas que les falte un valor pueden sumar mucho al codigo"
   ]
  },
  {
   "cell_type": "markdown",
   "metadata": {},
   "source": [
    "<div class=\"alert alert-block alert-success\">\n",
    "<b>Comentario del revisor </b> <a class=\"tocSkip\"></a>\n",
    "\n",
    "Buen trabajo modificando temas como el de los valores nulos, aun así yo hubiera preferido que se realizara una exploración un poco más detallada de posibles soluciones a ese fenómeno en vez de simplemente eliminar los valores.  </div> "
   ]
  },
  {
   "cell_type": "markdown",
   "metadata": {},
   "source": [
    "### Vamos a codificar las variables categoricas\n"
   ]
  },
  {
   "cell_type": "code",
   "execution_count": 17,
   "metadata": {},
   "outputs": [],
   "source": [
    "encoder = OrdinalEncoder()\n",
    "data_ordinal = pd.DataFrame(encoder.fit_transform(df_Copy), columns=df_Copy.columns)"
   ]
  },
  {
   "cell_type": "code",
   "execution_count": 18,
   "metadata": {
    "scrolled": true
   },
   "outputs": [
    {
     "data": {
      "text/html": [
       "<div>\n",
       "<style scoped>\n",
       "    .dataframe tbody tr th:only-of-type {\n",
       "        vertical-align: middle;\n",
       "    }\n",
       "\n",
       "    .dataframe tbody tr th {\n",
       "        vertical-align: top;\n",
       "    }\n",
       "\n",
       "    .dataframe thead th {\n",
       "        text-align: right;\n",
       "    }\n",
       "</style>\n",
       "<table border=\"1\" class=\"dataframe\">\n",
       "  <thead>\n",
       "    <tr style=\"text-align: right;\">\n",
       "      <th></th>\n",
       "      <th>DateCrawled</th>\n",
       "      <th>Price</th>\n",
       "      <th>VehicleType</th>\n",
       "      <th>RegistrationYear</th>\n",
       "      <th>Gearbox</th>\n",
       "      <th>Power</th>\n",
       "      <th>Model</th>\n",
       "      <th>Mileage</th>\n",
       "      <th>RegistrationMonth</th>\n",
       "      <th>FuelType</th>\n",
       "      <th>Brand</th>\n",
       "      <th>NotRepaired</th>\n",
       "      <th>DateCreated</th>\n",
       "      <th>NumberOfPictures</th>\n",
       "      <th>PostalCode</th>\n",
       "      <th>LastSeen</th>\n",
       "    </tr>\n",
       "  </thead>\n",
       "  <tbody>\n",
       "    <tr>\n",
       "      <th>157021</th>\n",
       "      <td>9469.0</td>\n",
       "      <td>876.0</td>\n",
       "      <td>0.0</td>\n",
       "      <td>31.0</td>\n",
       "      <td>2.0</td>\n",
       "      <td>112.0</td>\n",
       "      <td>170.0</td>\n",
       "      <td>3.0</td>\n",
       "      <td>6.0</td>\n",
       "      <td>3.0</td>\n",
       "      <td>38.0</td>\n",
       "      <td>1.0</td>\n",
       "      <td>66.0</td>\n",
       "      <td>0.0</td>\n",
       "      <td>2219.0</td>\n",
       "      <td>3730.0</td>\n",
       "    </tr>\n",
       "    <tr>\n",
       "      <th>73991</th>\n",
       "      <td>3469.0</td>\n",
       "      <td>1333.0</td>\n",
       "      <td>2.0</td>\n",
       "      <td>16.0</td>\n",
       "      <td>2.0</td>\n",
       "      <td>146.0</td>\n",
       "      <td>207.0</td>\n",
       "      <td>3.0</td>\n",
       "      <td>5.0</td>\n",
       "      <td>7.0</td>\n",
       "      <td>0.0</td>\n",
       "      <td>1.0</td>\n",
       "      <td>26.0</td>\n",
       "      <td>0.0</td>\n",
       "      <td>5320.0</td>\n",
       "      <td>6115.0</td>\n",
       "    </tr>\n",
       "    <tr>\n",
       "      <th>105836</th>\n",
       "      <td>11446.0</td>\n",
       "      <td>788.0</td>\n",
       "      <td>5.0</td>\n",
       "      <td>17.0</td>\n",
       "      <td>2.0</td>\n",
       "      <td>71.0</td>\n",
       "      <td>101.0</td>\n",
       "      <td>3.0</td>\n",
       "      <td>11.0</td>\n",
       "      <td>7.0</td>\n",
       "      <td>31.0</td>\n",
       "      <td>1.0</td>\n",
       "      <td>78.0</td>\n",
       "      <td>0.0</td>\n",
       "      <td>1909.0</td>\n",
       "      <td>255.0</td>\n",
       "    </tr>\n",
       "    <tr>\n",
       "      <th>276196</th>\n",
       "      <td>349.0</td>\n",
       "      <td>635.0</td>\n",
       "      <td>6.0</td>\n",
       "      <td>15.0</td>\n",
       "      <td>2.0</td>\n",
       "      <td>71.0</td>\n",
       "      <td>83.0</td>\n",
       "      <td>3.0</td>\n",
       "      <td>12.0</td>\n",
       "      <td>7.0</td>\n",
       "      <td>24.0</td>\n",
       "      <td>1.0</td>\n",
       "      <td>2.0</td>\n",
       "      <td>0.0</td>\n",
       "      <td>3171.0</td>\n",
       "      <td>3083.0</td>\n",
       "    </tr>\n",
       "    <tr>\n",
       "      <th>60898</th>\n",
       "      <td>9556.0</td>\n",
       "      <td>940.0</td>\n",
       "      <td>0.0</td>\n",
       "      <td>30.0</td>\n",
       "      <td>2.0</td>\n",
       "      <td>114.0</td>\n",
       "      <td>11.0</td>\n",
       "      <td>3.0</td>\n",
       "      <td>11.0</td>\n",
       "      <td>0.0</td>\n",
       "      <td>2.0</td>\n",
       "      <td>1.0</td>\n",
       "      <td>66.0</td>\n",
       "      <td>0.0</td>\n",
       "      <td>1944.0</td>\n",
       "      <td>4228.0</td>\n",
       "    </tr>\n",
       "  </tbody>\n",
       "</table>\n",
       "</div>"
      ],
      "text/plain": [
       "        DateCrawled   Price  VehicleType  RegistrationYear  Gearbox  Power  \\\n",
       "157021       9469.0   876.0          0.0              31.0      2.0  112.0   \n",
       "73991        3469.0  1333.0          2.0              16.0      2.0  146.0   \n",
       "105836      11446.0   788.0          5.0              17.0      2.0   71.0   \n",
       "276196        349.0   635.0          6.0              15.0      2.0   71.0   \n",
       "60898        9556.0   940.0          0.0              30.0      2.0  114.0   \n",
       "\n",
       "        Model  Mileage  RegistrationMonth  FuelType  Brand  NotRepaired  \\\n",
       "157021  170.0      3.0                6.0       3.0   38.0          1.0   \n",
       "73991   207.0      3.0                5.0       7.0    0.0          1.0   \n",
       "105836  101.0      3.0               11.0       7.0   31.0          1.0   \n",
       "276196   83.0      3.0               12.0       7.0   24.0          1.0   \n",
       "60898    11.0      3.0               11.0       0.0    2.0          1.0   \n",
       "\n",
       "        DateCreated  NumberOfPictures  PostalCode  LastSeen  \n",
       "157021         66.0               0.0      2219.0    3730.0  \n",
       "73991          26.0               0.0      5320.0    6115.0  \n",
       "105836         78.0               0.0      1909.0     255.0  \n",
       "276196          2.0               0.0      3171.0    3083.0  \n",
       "60898          66.0               0.0      1944.0    4228.0  "
      ]
     },
     "execution_count": 18,
     "metadata": {},
     "output_type": "execute_result"
    }
   ],
   "source": [
    "data_ordinal.sample(5)"
   ]
  },
  {
   "cell_type": "markdown",
   "metadata": {},
   "source": [
    "Usamos un enconder ordinario, ya que si utilizabamos un OneHot teniamos muchas columnas lo que ocasionaba mucho consumo de memoria y que el Kernel fallara."
   ]
  },
  {
   "cell_type": "code",
   "execution_count": 19,
   "metadata": {},
   "outputs": [],
   "source": [
    "features_train, features_valid, target_train, target_valid = train_test_split(data_ordinal.drop('Price', axis=1), data_ordinal.Price, test_size=0.3, random_state=0)"
   ]
  },
  {
   "cell_type": "markdown",
   "metadata": {},
   "source": [
    "Separación del codigo para entrenamiento y validación, utilizamos estas variables para todos para ahorrar consumo de memoria ya que este programa requiere de mucha memoria."
   ]
  },
  {
   "cell_type": "markdown",
   "metadata": {},
   "source": [
    "<div class=\"alert alert-block alert-success\">\n",
    "<b>Comentario del revisor </b> <a class=\"tocSkip\"></a>\n",
    "\n",
    "Perfecto, buen trabajo terminando de alistar las características y realizando el split de los datos.   </div> "
   ]
  },
  {
   "cell_type": "markdown",
   "metadata": {},
   "source": [
    "### Lightgmb"
   ]
  },
  {
   "cell_type": "code",
   "execution_count": 20,
   "metadata": {},
   "outputs": [],
   "source": [
    "train_data =lgb.Dataset(features_train, label=target_train)"
   ]
  },
  {
   "cell_type": "code",
   "execution_count": 21,
   "metadata": {},
   "outputs": [],
   "source": [
    "params = {\n",
    "    'objective': 'regression', \n",
    "    'metric': 'l2',  \n",
    "    'boosting_type': 'gbdt',\n",
    "    'num_leaves': 31,\n",
    "    'learning_rate': 0.05,\n",
    "    'feature_fraction': 0.9\n",
    "}\n"
   ]
  },
  {
   "cell_type": "code",
   "execution_count": 22,
   "metadata": {},
   "outputs": [
    {
     "name": "stdout",
     "output_type": "stream",
     "text": [
      "[LightGBM] [Warning] Auto-choosing row-wise multi-threading, the overhead of testing was 0.084212 seconds.\n",
      "You can set `force_row_wise=true` to remove the overhead.\n",
      "And if memory is not enough, you can set `force_col_wise=true`.\n",
      "[LightGBM] [Info] Total Bins 1427\n",
      "[LightGBM] [Info] Number of data points in the train set: 197834, number of used features: 14\n",
      "[LightGBM] [Info] Start training from score 997.319894\n"
     ]
    }
   ],
   "source": [
    "model = lgb.train(params, train_data, num_boost_round=50)"
   ]
  },
  {
   "cell_type": "code",
   "execution_count": 23,
   "metadata": {},
   "outputs": [],
   "source": [
    "prediction = model.predict(features_valid)"
   ]
  },
  {
   "cell_type": "code",
   "execution_count": 24,
   "metadata": {},
   "outputs": [],
   "source": [
    "MSE = mean_squared_error(target_valid,prediction)\n",
    "RMSE = np.sqrt(MSE)"
   ]
  },
  {
   "cell_type": "code",
   "execution_count": 25,
   "metadata": {
    "scrolled": true
   },
   "outputs": [
    {
     "name": "stdout",
     "output_type": "stream",
     "text": [
      "El error medio cuadratido es: 129245.42127556674 \n",
      "La raiz del error cuadratico es: 359.50719224455963\n"
     ]
    }
   ],
   "source": [
    "print('El error medio cuadratido es:',MSE,'\\nLa raiz del error cuadratico es:',RMSE)"
   ]
  },
  {
   "cell_type": "markdown",
   "metadata": {},
   "source": [
    "No muestra un error cuadratico muy bajo y tambien es muy rapido."
   ]
  },
  {
   "cell_type": "markdown",
   "metadata": {},
   "source": [
    "<div class=\"alert alert-block alert-success\">\n",
    "<b>Comentario del revisor </b> <a class=\"tocSkip\"></a>\n",
    "\n",
    "Perfecto, buen trabajo desplegando y evaluando el desempeño del modelo Lightgmb. </div> "
   ]
  },
  {
   "cell_type": "markdown",
   "metadata": {},
   "source": [
    "### Bosque Aleatorio"
   ]
  },
  {
   "cell_type": "code",
   "execution_count": 26,
   "metadata": {},
   "outputs": [],
   "source": [
    "model_forest = RandomForestClassifier(n_estimators=10,max_depth=1,random_state=0)"
   ]
  },
  {
   "cell_type": "code",
   "execution_count": 27,
   "metadata": {},
   "outputs": [
    {
     "name": "stdout",
     "output_type": "stream",
     "text": [
      "CPU times: user 694 ms, sys: 0 ns, total: 694 ms\n",
      "Wall time: 745 ms\n"
     ]
    },
    {
     "data": {
      "text/plain": [
       "RandomForestClassifier(max_depth=1, n_estimators=10, random_state=0)"
      ]
     },
     "execution_count": 27,
     "metadata": {},
     "output_type": "execute_result"
    }
   ],
   "source": [
    "%%time\n",
    "model_forest.fit(features_train,target_train)"
   ]
  },
  {
   "cell_type": "code",
   "execution_count": 28,
   "metadata": {
    "scrolled": false
   },
   "outputs": [
    {
     "name": "stdout",
     "output_type": "stream",
     "text": [
      "CPU times: user 4.14 s, sys: 2.08 s, total: 6.23 s\n",
      "Wall time: 6.24 s\n"
     ]
    }
   ],
   "source": [
    "%%time\n",
    "predict_forest = model_forest.predict(features_valid)"
   ]
  },
  {
   "cell_type": "code",
   "execution_count": 29,
   "metadata": {},
   "outputs": [],
   "source": [
    "MSE = mean_squared_error(target_valid,predict_forest)\n",
    "RMSE = np.sqrt(MSE)"
   ]
  },
  {
   "cell_type": "code",
   "execution_count": 30,
   "metadata": {},
   "outputs": [
    {
     "name": "stdout",
     "output_type": "stream",
     "text": [
      "El error medio cuadratido es: 1506123.7102975692 \n",
      "La raiz del error cuadratico es: 1227.2423193068146\n"
     ]
    }
   ],
   "source": [
    "print('El error medio cuadratido es:',MSE,'\\nLa raiz del error cuadratico es:',RMSE)"
   ]
  },
  {
   "cell_type": "markdown",
   "metadata": {},
   "source": [
    "En este caso el bosque aleatorio se le tuvieron que realizar muchas modificacion para que su consumo fuera menor ya que si se eleva un poco tumba el programa, aun asi mostro un error elevado y mucho tiempo de procesamiento."
   ]
  },
  {
   "cell_type": "markdown",
   "metadata": {},
   "source": [
    "<div class=\"alert alert-block alert-success\">\n",
    "<b>Comentario del revisor </b> <a class=\"tocSkip\"></a>\n",
    "\n",
    "Perfecto, buen trabajo desplegando, evaluando y estudiando las métricas de despliegue del Random Forest. </div> "
   ]
  },
  {
   "cell_type": "markdown",
   "metadata": {},
   "source": [
    "### Arbol de decisión"
   ]
  },
  {
   "cell_type": "code",
   "execution_count": 31,
   "metadata": {},
   "outputs": [],
   "source": [
    "model_tree = DecisionTreeClassifier(max_depth=10)"
   ]
  },
  {
   "cell_type": "code",
   "execution_count": 32,
   "metadata": {},
   "outputs": [
    {
     "data": {
      "text/plain": [
       "DecisionTreeClassifier(max_depth=10)"
      ]
     },
     "execution_count": 32,
     "metadata": {},
     "output_type": "execute_result"
    }
   ],
   "source": [
    "model_tree.fit(features_train,target_train)"
   ]
  },
  {
   "cell_type": "code",
   "execution_count": 33,
   "metadata": {},
   "outputs": [],
   "source": [
    "predict_tree = model_tree.predict(features_valid)"
   ]
  },
  {
   "cell_type": "code",
   "execution_count": 34,
   "metadata": {},
   "outputs": [],
   "source": [
    "MSE = mean_squared_error(target_valid,predict_tree)\n",
    "RMSE = np.sqrt(MSE)"
   ]
  },
  {
   "cell_type": "code",
   "execution_count": 35,
   "metadata": {
    "scrolled": true
   },
   "outputs": [
    {
     "name": "stdout",
     "output_type": "stream",
     "text": [
      "El error medio cuadratido es: 256525.86416549707 \n",
      "La raiz del error cuadratico es: 506.4838241893783\n"
     ]
    }
   ],
   "source": [
    "print('El error medio cuadratido es:',MSE,'\\nLa raiz del error cuadratico es:',RMSE)"
   ]
  },
  {
   "cell_type": "markdown",
   "metadata": {},
   "source": [
    "El arbol de decisión se comporta adecuadamente, a este si se le pudo aumentar el numero de profundida sin que el Kernel se callera, si tarda un poco en procesar pero es casi nulo y encontramos muy buenos resultados, el error cuadratico se sigue reduciendo."
   ]
  },
  {
   "cell_type": "markdown",
   "metadata": {},
   "source": [
    "<div class=\"alert alert-block alert-success\">\n",
    "<b>Comentario del revisor </b> <a class=\"tocSkip\"></a>\n",
    "\n",
    "Perfecto, buen trabajo desplegando y evaluando el desempeño del Decision Tree. </div> "
   ]
  },
  {
   "cell_type": "markdown",
   "metadata": {},
   "source": [
    "### Regresion lineal"
   ]
  },
  {
   "cell_type": "code",
   "execution_count": 36,
   "metadata": {},
   "outputs": [],
   "source": [
    "model_lineal = LinearRegression().fit(features_train,target_train)"
   ]
  },
  {
   "cell_type": "code",
   "execution_count": 37,
   "metadata": {},
   "outputs": [],
   "source": [
    "predict_lineal = model_lineal.predict(features_valid)"
   ]
  },
  {
   "cell_type": "code",
   "execution_count": 38,
   "metadata": {},
   "outputs": [],
   "source": [
    "MSE = mean_squared_error(target_valid,predict_lineal)\n",
    "RMSE = np.sqrt(MSE)\n"
   ]
  },
  {
   "cell_type": "code",
   "execution_count": 39,
   "metadata": {},
   "outputs": [
    {
     "name": "stdout",
     "output_type": "stream",
     "text": [
      "El error medio cuadratido es: 278448.92784709524 \n",
      "La raiz del error cuadratico es: 527.6826014254168\n"
     ]
    }
   ],
   "source": [
    "print('El error medio cuadratido es:',MSE,'\\nLa raiz del error cuadratico es:',RMSE)"
   ]
  },
  {
   "cell_type": "markdown",
   "metadata": {},
   "source": [
    "El modelo de regresion lineal rapido y eficiente, con error bajo."
   ]
  },
  {
   "cell_type": "markdown",
   "metadata": {},
   "source": [
    "<div class=\"alert alert-block alert-success\">\n",
    "<b>Comentario del revisor </b> <a class=\"tocSkip\"></a>\n",
    "\n",
    "Perfecto, buen trabajo desplegando y evaluando el desempeño de la Regresión. </div> "
   ]
  },
  {
   "cell_type": "markdown",
   "metadata": {},
   "source": [
    "## Análisis del modelo"
   ]
  },
  {
   "cell_type": "markdown",
   "metadata": {},
   "source": [
    "El modelo con hiperparametros demostro su eficiencia, fue rapido y preciso, mas aparte de poder procesar una tabla con muchas columnas. Los demas modelos como el randomforest si mostro una deficiencia al hablarse de una tabla tan amplica, el decisiontree sigue siendo adecuado pero tiene un tiempo minimo. Regresion lineal mostro resultado rapidos y eficientes."
   ]
  },
  {
   "cell_type": "markdown",
   "metadata": {},
   "source": [
    "<div class=\"alert alert-block alert-success\">\n",
    "<b>Comentario del revisor </b> <a class=\"tocSkip\"></a>\n",
    "\n",
    "Buen trabajo. </div> "
   ]
  },
  {
   "cell_type": "markdown",
   "metadata": {},
   "source": [
    "# Lista de control"
   ]
  },
  {
   "cell_type": "markdown",
   "metadata": {},
   "source": [
    "Escribe 'x' para verificar. Luego presiona Shift+Enter"
   ]
  },
  {
   "cell_type": "markdown",
   "metadata": {},
   "source": [
    "- [x]  Jupyter Notebook está abierto\n",
    "- [ ]  El código no tiene errores- [ ]  Las celdas con el código han sido colocadas en orden de ejecución- [ ]  Los datos han sido descargados y preparados- [ ]  Los modelos han sido entrenados\n",
    "- [ ]  Se realizó el análisis de velocidad y calidad de los modelos"
   ]
  },
  {
   "cell_type": "markdown",
   "metadata": {},
   "source": [
    "### "
   ]
  }
 ],
 "metadata": {
  "ExecuteTimeLog": [
   {
    "duration": 2777,
    "start_time": "2024-12-17T21:19:55.816Z"
   },
   {
    "duration": 94,
    "start_time": "2024-12-17T21:20:05.891Z"
   },
   {
    "duration": 58,
    "start_time": "2024-12-17T21:20:33.371Z"
   },
   {
    "duration": 458,
    "start_time": "2024-12-17T21:20:56.189Z"
   },
   {
    "duration": 20,
    "start_time": "2024-12-17T21:21:01.876Z"
   },
   {
    "duration": 89,
    "start_time": "2024-12-17T21:21:10.328Z"
   },
   {
    "duration": 17,
    "start_time": "2024-12-17T21:21:17.928Z"
   },
   {
    "duration": 10,
    "start_time": "2024-12-17T21:21:20.185Z"
   },
   {
    "duration": 56,
    "start_time": "2024-12-17T21:21:33.351Z"
   },
   {
    "duration": 177,
    "start_time": "2024-12-17T21:21:54.173Z"
   },
   {
    "duration": 2002,
    "start_time": "2024-12-17T21:22:05.980Z"
   },
   {
    "duration": 218,
    "start_time": "2024-12-17T21:22:11.602Z"
   },
   {
    "duration": 1050,
    "start_time": "2024-12-17T21:24:12.764Z"
   },
   {
    "duration": 397,
    "start_time": "2024-12-17T21:24:13.816Z"
   },
   {
    "duration": 13,
    "start_time": "2024-12-17T21:24:14.215Z"
   },
   {
    "duration": 114,
    "start_time": "2024-12-17T21:24:14.229Z"
   },
   {
    "duration": 58,
    "start_time": "2024-12-17T21:24:14.345Z"
   },
   {
    "duration": 263,
    "start_time": "2024-12-17T21:24:14.405Z"
   },
   {
    "duration": 998,
    "start_time": "2024-12-17T21:24:28.329Z"
   },
   {
    "duration": 405,
    "start_time": "2024-12-17T21:24:29.330Z"
   },
   {
    "duration": 16,
    "start_time": "2024-12-17T21:24:29.737Z"
   },
   {
    "duration": 259,
    "start_time": "2024-12-17T21:24:29.755Z"
   },
   {
    "duration": 95,
    "start_time": "2024-12-17T21:24:30.016Z"
   },
   {
    "duration": 71,
    "start_time": "2024-12-17T21:24:30.113Z"
   },
   {
    "duration": 225,
    "start_time": "2024-12-17T21:25:16.657Z"
   },
   {
    "duration": 982,
    "start_time": "2024-12-17T21:25:20.938Z"
   },
   {
    "duration": 404,
    "start_time": "2024-12-17T21:25:21.922Z"
   },
   {
    "duration": 16,
    "start_time": "2024-12-17T21:25:22.328Z"
   },
   {
    "duration": 244,
    "start_time": "2024-12-17T21:25:22.346Z"
   },
   {
    "duration": 263,
    "start_time": "2024-12-17T21:25:22.593Z"
   },
   {
    "duration": 92,
    "start_time": "2024-12-17T21:25:22.857Z"
   },
   {
    "duration": 69,
    "start_time": "2024-12-17T21:25:22.951Z"
   },
   {
    "duration": 136,
    "start_time": "2024-12-17T21:32:28.474Z"
   },
   {
    "duration": 30,
    "start_time": "2024-12-17T21:36:54.367Z"
   },
   {
    "duration": 31,
    "start_time": "2024-12-17T21:37:02.931Z"
   },
   {
    "duration": 3,
    "start_time": "2024-12-17T21:38:38.780Z"
   },
   {
    "duration": 758,
    "start_time": "2024-12-17T21:38:39.455Z"
   },
   {
    "duration": 20,
    "start_time": "2024-12-17T21:40:06.872Z"
   },
   {
    "duration": 39,
    "start_time": "2024-12-17T21:40:15.048Z"
   },
   {
    "duration": 107,
    "start_time": "2024-12-17T21:40:33.391Z"
   },
   {
    "duration": 20,
    "start_time": "2024-12-17T21:40:55.621Z"
   },
   {
    "duration": 87,
    "start_time": "2024-12-17T21:40:58.304Z"
   },
   {
    "duration": 6,
    "start_time": "2024-12-17T21:41:41.825Z"
   },
   {
    "duration": 2,
    "start_time": "2024-12-17T21:41:45.410Z"
   },
   {
    "duration": 19,
    "start_time": "2024-12-17T21:44:03.590Z"
   },
   {
    "duration": 213,
    "start_time": "2024-12-17T21:44:06.740Z"
   },
   {
    "duration": 1010,
    "start_time": "2024-12-17T21:44:12.118Z"
   },
   {
    "duration": 408,
    "start_time": "2024-12-17T21:44:13.131Z"
   },
   {
    "duration": 18,
    "start_time": "2024-12-17T21:44:13.544Z"
   },
   {
    "duration": 248,
    "start_time": "2024-12-17T21:44:13.566Z"
   },
   {
    "duration": 273,
    "start_time": "2024-12-17T21:44:13.817Z"
   },
   {
    "duration": 96,
    "start_time": "2024-12-17T21:44:14.092Z"
   },
   {
    "duration": 68,
    "start_time": "2024-12-17T21:44:14.189Z"
   },
   {
    "duration": 158,
    "start_time": "2024-12-17T21:44:14.259Z"
   },
   {
    "duration": 311,
    "start_time": "2024-12-17T21:44:14.418Z"
   },
   {
    "duration": 0,
    "start_time": "2024-12-17T21:44:14.731Z"
   },
   {
    "duration": 0,
    "start_time": "2024-12-17T21:44:14.742Z"
   },
   {
    "duration": 28,
    "start_time": "2024-12-17T21:44:20.266Z"
   },
   {
    "duration": 3,
    "start_time": "2024-12-17T21:44:26.048Z"
   },
   {
    "duration": 775,
    "start_time": "2024-12-17T21:44:26.517Z"
   },
   {
    "duration": 102,
    "start_time": "2024-12-17T21:46:39.352Z"
   },
   {
    "duration": 101,
    "start_time": "2024-12-17T21:47:43.285Z"
   },
   {
    "duration": 3,
    "start_time": "2024-12-17T21:47:44.055Z"
   },
   {
    "duration": 119,
    "start_time": "2024-12-17T21:47:45.740Z"
   },
   {
    "duration": 93,
    "start_time": "2024-12-17T21:48:11.017Z"
   },
   {
    "duration": 179,
    "start_time": "2024-12-17T21:49:37.380Z"
   },
   {
    "duration": 2,
    "start_time": "2024-12-17T21:49:39.146Z"
   },
   {
    "duration": 121,
    "start_time": "2024-12-17T21:49:39.530Z"
   },
   {
    "duration": 94,
    "start_time": "2024-12-17T21:49:50.402Z"
   },
   {
    "duration": 981,
    "start_time": "2024-12-17T21:50:03.121Z"
   },
   {
    "duration": 420,
    "start_time": "2024-12-17T21:50:04.104Z"
   },
   {
    "duration": 18,
    "start_time": "2024-12-17T21:50:04.525Z"
   },
   {
    "duration": 249,
    "start_time": "2024-12-17T21:50:04.545Z"
   },
   {
    "duration": 268,
    "start_time": "2024-12-17T21:50:04.797Z"
   },
   {
    "duration": 96,
    "start_time": "2024-12-17T21:50:05.066Z"
   },
   {
    "duration": 62,
    "start_time": "2024-12-17T21:50:05.164Z"
   },
   {
    "duration": 158,
    "start_time": "2024-12-17T21:50:05.228Z"
   },
   {
    "duration": 30,
    "start_time": "2024-12-17T21:50:05.388Z"
   },
   {
    "duration": 115,
    "start_time": "2024-12-17T21:50:05.420Z"
   },
   {
    "duration": 184,
    "start_time": "2024-12-17T21:50:05.537Z"
   },
   {
    "duration": 2,
    "start_time": "2024-12-17T21:50:05.723Z"
   },
   {
    "duration": 96,
    "start_time": "2024-12-17T21:50:05.727Z"
   },
   {
    "duration": 770,
    "start_time": "2024-12-17T21:50:05.826Z"
   },
   {
    "duration": 48,
    "start_time": "2024-12-17T21:51:03.692Z"
   },
   {
    "duration": 143,
    "start_time": "2024-12-17T21:51:10.030Z"
   },
   {
    "duration": 105,
    "start_time": "2024-12-17T21:51:19.461Z"
   },
   {
    "duration": 10,
    "start_time": "2024-12-17T21:52:40.362Z"
   },
   {
    "duration": 8,
    "start_time": "2024-12-17T21:52:55.024Z"
   },
   {
    "duration": 19,
    "start_time": "2024-12-17T21:54:24.767Z"
   },
   {
    "duration": 8,
    "start_time": "2024-12-17T21:54:29.658Z"
   },
   {
    "duration": 22,
    "start_time": "2024-12-17T21:54:30.202Z"
   },
   {
    "duration": 3,
    "start_time": "2024-12-17T21:54:35.720Z"
   },
   {
    "duration": 183,
    "start_time": "2024-12-17T21:54:36.340Z"
   },
   {
    "duration": 158,
    "start_time": "2024-12-17T21:55:15.700Z"
   },
   {
    "duration": 2,
    "start_time": "2024-12-17T21:55:17.852Z"
   },
   {
    "duration": 98,
    "start_time": "2024-12-17T21:55:18.367Z"
   },
   {
    "duration": 1051,
    "start_time": "2024-12-17T21:55:23.664Z"
   },
   {
    "duration": 429,
    "start_time": "2024-12-17T21:55:24.717Z"
   },
   {
    "duration": 16,
    "start_time": "2024-12-17T21:55:25.148Z"
   },
   {
    "duration": 285,
    "start_time": "2024-12-17T21:55:25.167Z"
   },
   {
    "duration": 261,
    "start_time": "2024-12-17T21:55:25.455Z"
   },
   {
    "duration": 97,
    "start_time": "2024-12-17T21:55:25.717Z"
   },
   {
    "duration": 92,
    "start_time": "2024-12-17T21:55:25.816Z"
   },
   {
    "duration": 31,
    "start_time": "2024-12-17T21:55:25.909Z"
   },
   {
    "duration": 31,
    "start_time": "2024-12-17T21:55:25.943Z"
   },
   {
    "duration": 136,
    "start_time": "2024-12-17T21:55:25.976Z"
   },
   {
    "duration": 175,
    "start_time": "2024-12-17T21:55:26.114Z"
   },
   {
    "duration": 8,
    "start_time": "2024-12-17T21:55:26.291Z"
   },
   {
    "duration": 18,
    "start_time": "2024-12-17T21:55:26.301Z"
   },
   {
    "duration": 198,
    "start_time": "2024-12-17T21:55:26.322Z"
   },
   {
    "duration": 4,
    "start_time": "2024-12-17T21:55:26.523Z"
   },
   {
    "duration": 724,
    "start_time": "2024-12-17T21:55:26.528Z"
   },
   {
    "duration": 20,
    "start_time": "2024-12-17T21:56:23.576Z"
   },
   {
    "duration": 133,
    "start_time": "2024-12-17T21:56:47.270Z"
   },
   {
    "duration": 29,
    "start_time": "2024-12-17T21:57:08.807Z"
   },
   {
    "duration": 120,
    "start_time": "2024-12-17T21:57:09.168Z"
   },
   {
    "duration": 198,
    "start_time": "2024-12-17T21:57:09.775Z"
   },
   {
    "duration": 7,
    "start_time": "2024-12-17T21:57:10.776Z"
   },
   {
    "duration": 123,
    "start_time": "2024-12-17T21:57:55.008Z"
   },
   {
    "duration": 15,
    "start_time": "2024-12-17T22:00:29.535Z"
   },
   {
    "duration": 13,
    "start_time": "2024-12-17T22:00:33.852Z"
   },
   {
    "duration": 97,
    "start_time": "2024-12-17T22:00:34.828Z"
   },
   {
    "duration": 159,
    "start_time": "2024-12-17T22:00:45.065Z"
   },
   {
    "duration": 4,
    "start_time": "2024-12-17T22:00:45.529Z"
   },
   {
    "duration": 75,
    "start_time": "2024-12-17T22:00:45.908Z"
   },
   {
    "duration": 95,
    "start_time": "2024-12-17T22:01:26.459Z"
   },
   {
    "duration": 73,
    "start_time": "2024-12-17T22:03:17.073Z"
   },
   {
    "duration": 17,
    "start_time": "2024-12-17T22:03:30.298Z"
   },
   {
    "duration": 4,
    "start_time": "2024-12-17T22:03:43.269Z"
   },
   {
    "duration": 521,
    "start_time": "2024-12-17T22:05:37.852Z"
   },
   {
    "duration": 12,
    "start_time": "2024-12-17T22:06:37.649Z"
   },
   {
    "duration": 17,
    "start_time": "2024-12-17T22:06:40.852Z"
   },
   {
    "duration": 4,
    "start_time": "2024-12-17T22:06:45.404Z"
   },
   {
    "duration": 4,
    "start_time": "2024-12-17T22:06:58.283Z"
   },
   {
    "duration": 980,
    "start_time": "2024-12-17T22:07:08.118Z"
   },
   {
    "duration": 404,
    "start_time": "2024-12-17T22:07:09.101Z"
   },
   {
    "duration": 17,
    "start_time": "2024-12-17T22:07:09.507Z"
   },
   {
    "duration": 253,
    "start_time": "2024-12-17T22:07:09.526Z"
   },
   {
    "duration": 276,
    "start_time": "2024-12-17T22:07:09.782Z"
   },
   {
    "duration": 97,
    "start_time": "2024-12-17T22:07:10.059Z"
   },
   {
    "duration": 58,
    "start_time": "2024-12-17T22:07:10.158Z"
   },
   {
    "duration": 40,
    "start_time": "2024-12-17T22:07:10.218Z"
   },
   {
    "duration": 145,
    "start_time": "2024-12-17T22:07:10.261Z"
   },
   {
    "duration": 25,
    "start_time": "2024-12-17T22:07:10.407Z"
   },
   {
    "duration": 11,
    "start_time": "2024-12-17T22:07:10.434Z"
   },
   {
    "duration": 2,
    "start_time": "2024-12-17T22:07:10.448Z"
   },
   {
    "duration": 729,
    "start_time": "2024-12-17T22:07:10.451Z"
   },
   {
    "duration": 18,
    "start_time": "2024-12-17T22:07:19.932Z"
   },
   {
    "duration": 4,
    "start_time": "2024-12-17T22:07:21.356Z"
   },
   {
    "duration": 3,
    "start_time": "2024-12-17T22:07:22.858Z"
   },
   {
    "duration": 90,
    "start_time": "2024-12-17T22:07:23.563Z"
   },
   {
    "duration": 133,
    "start_time": "2024-12-17T22:07:50.210Z"
   },
   {
    "duration": 89,
    "start_time": "2024-12-17T22:08:32.542Z"
   },
   {
    "duration": 91,
    "start_time": "2024-12-17T22:08:41.830Z"
   },
   {
    "duration": 94,
    "start_time": "2024-12-17T22:08:55.924Z"
   },
   {
    "duration": 167,
    "start_time": "2024-12-17T22:09:14.397Z"
   },
   {
    "duration": 214,
    "start_time": "2024-12-17T22:09:16.753Z"
   },
   {
    "duration": 89,
    "start_time": "2024-12-17T22:09:24.317Z"
   },
   {
    "duration": 100,
    "start_time": "2024-12-17T22:11:00.346Z"
   },
   {
    "duration": 87,
    "start_time": "2024-12-17T22:11:40.258Z"
   },
   {
    "duration": 90,
    "start_time": "2024-12-17T22:11:48.176Z"
   },
   {
    "duration": 112,
    "start_time": "2024-12-17T22:12:14.304Z"
   },
   {
    "duration": 132,
    "start_time": "2024-12-17T22:12:17.237Z"
   },
   {
    "duration": 133,
    "start_time": "2024-12-17T22:12:54.895Z"
   },
   {
    "duration": 97,
    "start_time": "2024-12-18T03:13:30.807Z"
   },
   {
    "duration": 6,
    "start_time": "2024-12-18T03:13:43.479Z"
   },
   {
    "duration": 180,
    "start_time": "2024-12-18T03:13:46.094Z"
   },
   {
    "duration": 147,
    "start_time": "2024-12-18T03:13:54.850Z"
   },
   {
    "duration": 155,
    "start_time": "2024-12-18T03:14:00.461Z"
   },
   {
    "duration": 137,
    "start_time": "2024-12-18T03:14:32.038Z"
   },
   {
    "duration": 137,
    "start_time": "2024-12-18T03:14:39.716Z"
   },
   {
    "duration": 18,
    "start_time": "2024-12-18T03:14:40.026Z"
   },
   {
    "duration": 9,
    "start_time": "2024-12-18T03:14:40.495Z"
   },
   {
    "duration": 3,
    "start_time": "2024-12-18T03:14:41.319Z"
   },
   {
    "duration": 121,
    "start_time": "2024-12-18T03:14:42.382Z"
   },
   {
    "duration": 89,
    "start_time": "2024-12-18T03:15:01.343Z"
   },
   {
    "duration": 26,
    "start_time": "2024-12-18T03:15:44.952Z"
   },
   {
    "duration": 1051,
    "start_time": "2024-12-18T03:15:50.165Z"
   },
   {
    "duration": 408,
    "start_time": "2024-12-18T03:15:51.218Z"
   },
   {
    "duration": 17,
    "start_time": "2024-12-18T03:15:51.628Z"
   },
   {
    "duration": 259,
    "start_time": "2024-12-18T03:15:51.646Z"
   },
   {
    "duration": 266,
    "start_time": "2024-12-18T03:15:51.908Z"
   },
   {
    "duration": 97,
    "start_time": "2024-12-18T03:15:52.176Z"
   },
   {
    "duration": 70,
    "start_time": "2024-12-18T03:15:52.274Z"
   },
   {
    "duration": 24,
    "start_time": "2024-12-18T03:15:52.346Z"
   },
   {
    "duration": 102,
    "start_time": "2024-12-18T03:15:52.371Z"
   },
   {
    "duration": 155,
    "start_time": "2024-12-18T03:15:52.474Z"
   },
   {
    "duration": 30,
    "start_time": "2024-12-18T03:15:52.630Z"
   },
   {
    "duration": 4,
    "start_time": "2024-12-18T03:15:52.662Z"
   },
   {
    "duration": 3,
    "start_time": "2024-12-18T03:15:52.667Z"
   },
   {
    "duration": 740,
    "start_time": "2024-12-18T03:15:52.673Z"
   },
   {
    "duration": 118,
    "start_time": "2024-12-18T03:16:10.331Z"
   },
   {
    "duration": 977,
    "start_time": "2024-12-18T03:16:14.939Z"
   },
   {
    "duration": 395,
    "start_time": "2024-12-18T03:16:15.918Z"
   },
   {
    "duration": 12,
    "start_time": "2024-12-18T03:16:16.315Z"
   },
   {
    "duration": 237,
    "start_time": "2024-12-18T03:16:16.330Z"
   },
   {
    "duration": 253,
    "start_time": "2024-12-18T03:16:16.571Z"
   },
   {
    "duration": 94,
    "start_time": "2024-12-18T03:16:16.826Z"
   },
   {
    "duration": 67,
    "start_time": "2024-12-18T03:16:16.922Z"
   },
   {
    "duration": 26,
    "start_time": "2024-12-18T03:16:16.991Z"
   },
   {
    "duration": 134,
    "start_time": "2024-12-18T03:16:17.019Z"
   },
   {
    "duration": 98,
    "start_time": "2024-12-18T03:16:17.155Z"
   },
   {
    "duration": 150,
    "start_time": "2024-12-18T03:16:17.255Z"
   },
   {
    "duration": 25,
    "start_time": "2024-12-18T03:16:17.407Z"
   },
   {
    "duration": 3,
    "start_time": "2024-12-18T03:16:17.443Z"
   },
   {
    "duration": 2,
    "start_time": "2024-12-18T03:16:17.449Z"
   },
   {
    "duration": 737,
    "start_time": "2024-12-18T03:16:17.454Z"
   },
   {
    "duration": 109,
    "start_time": "2024-12-18T03:16:31.052Z"
   },
   {
    "duration": 88,
    "start_time": "2024-12-18T03:16:32.471Z"
   },
   {
    "duration": 174,
    "start_time": "2024-12-18T03:16:35.135Z"
   },
   {
    "duration": 17,
    "start_time": "2024-12-18T03:16:36.149Z"
   },
   {
    "duration": 3,
    "start_time": "2024-12-18T03:16:36.625Z"
   },
   {
    "duration": 3,
    "start_time": "2024-12-18T03:16:37.555Z"
   },
   {
    "duration": 615,
    "start_time": "2024-12-18T03:16:37.906Z"
   },
   {
    "duration": 3,
    "start_time": "2024-12-18T03:17:57.823Z"
   },
   {
    "duration": 166,
    "start_time": "2024-12-18T03:18:24.083Z"
   },
   {
    "duration": 993,
    "start_time": "2024-12-18T03:18:29.036Z"
   },
   {
    "duration": 453,
    "start_time": "2024-12-18T03:18:30.031Z"
   },
   {
    "duration": 18,
    "start_time": "2024-12-18T03:18:30.487Z"
   },
   {
    "duration": 253,
    "start_time": "2024-12-18T03:18:30.507Z"
   },
   {
    "duration": 261,
    "start_time": "2024-12-18T03:18:30.764Z"
   },
   {
    "duration": 96,
    "start_time": "2024-12-18T03:18:31.027Z"
   },
   {
    "duration": 72,
    "start_time": "2024-12-18T03:18:31.125Z"
   },
   {
    "duration": 24,
    "start_time": "2024-12-18T03:18:31.199Z"
   },
   {
    "duration": 136,
    "start_time": "2024-12-18T03:18:31.225Z"
   },
   {
    "duration": 93,
    "start_time": "2024-12-18T03:18:31.362Z"
   },
   {
    "duration": 184,
    "start_time": "2024-12-18T03:18:31.458Z"
   },
   {
    "duration": 19,
    "start_time": "2024-12-18T03:18:31.644Z"
   },
   {
    "duration": 3,
    "start_time": "2024-12-18T03:18:31.665Z"
   },
   {
    "duration": 2,
    "start_time": "2024-12-18T03:18:31.671Z"
   },
   {
    "duration": 1026,
    "start_time": "2024-12-18T03:18:43.891Z"
   },
   {
    "duration": 480,
    "start_time": "2024-12-18T03:18:44.919Z"
   },
   {
    "duration": 13,
    "start_time": "2024-12-18T03:18:45.402Z"
   },
   {
    "duration": 232,
    "start_time": "2024-12-18T03:18:45.417Z"
   },
   {
    "duration": 255,
    "start_time": "2024-12-18T03:18:45.652Z"
   },
   {
    "duration": 94,
    "start_time": "2024-12-18T03:18:45.908Z"
   },
   {
    "duration": 66,
    "start_time": "2024-12-18T03:18:46.004Z"
   },
   {
    "duration": 24,
    "start_time": "2024-12-18T03:18:46.072Z"
   },
   {
    "duration": 127,
    "start_time": "2024-12-18T03:18:46.098Z"
   },
   {
    "duration": 117,
    "start_time": "2024-12-18T03:18:46.226Z"
   },
   {
    "duration": 213,
    "start_time": "2024-12-18T03:18:46.344Z"
   },
   {
    "duration": 18,
    "start_time": "2024-12-18T03:18:46.559Z"
   },
   {
    "duration": 3,
    "start_time": "2024-12-18T03:18:46.579Z"
   },
   {
    "duration": 3,
    "start_time": "2024-12-18T03:18:46.585Z"
   },
   {
    "duration": 1054,
    "start_time": "2024-12-18T03:19:01.673Z"
   },
   {
    "duration": 454,
    "start_time": "2024-12-18T03:19:02.730Z"
   },
   {
    "duration": 13,
    "start_time": "2024-12-18T03:19:03.186Z"
   },
   {
    "duration": 252,
    "start_time": "2024-12-18T03:19:03.200Z"
   },
   {
    "duration": 270,
    "start_time": "2024-12-18T03:19:03.455Z"
   },
   {
    "duration": 97,
    "start_time": "2024-12-18T03:19:03.727Z"
   },
   {
    "duration": 67,
    "start_time": "2024-12-18T03:19:03.825Z"
   },
   {
    "duration": 25,
    "start_time": "2024-12-18T03:19:03.894Z"
   },
   {
    "duration": 131,
    "start_time": "2024-12-18T03:19:03.921Z"
   },
   {
    "duration": 94,
    "start_time": "2024-12-18T03:19:04.054Z"
   },
   {
    "duration": 182,
    "start_time": "2024-12-18T03:19:04.150Z"
   },
   {
    "duration": 22,
    "start_time": "2024-12-18T03:19:04.334Z"
   },
   {
    "duration": 4,
    "start_time": "2024-12-18T03:19:04.357Z"
   },
   {
    "duration": 2,
    "start_time": "2024-12-18T03:19:04.365Z"
   },
   {
    "duration": 8,
    "start_time": "2024-12-18T03:19:21.538Z"
   },
   {
    "duration": 153,
    "start_time": "2024-12-18T03:19:24.796Z"
   },
   {
    "duration": 12,
    "start_time": "2024-12-18T03:21:08.991Z"
   },
   {
    "duration": 1020,
    "start_time": "2024-12-18T03:21:19.209Z"
   },
   {
    "duration": 450,
    "start_time": "2024-12-18T03:21:20.233Z"
   },
   {
    "duration": 13,
    "start_time": "2024-12-18T03:21:20.684Z"
   },
   {
    "duration": 235,
    "start_time": "2024-12-18T03:21:20.699Z"
   },
   {
    "duration": 257,
    "start_time": "2024-12-18T03:21:20.942Z"
   },
   {
    "duration": 97,
    "start_time": "2024-12-18T03:21:21.203Z"
   },
   {
    "duration": 89,
    "start_time": "2024-12-18T03:21:21.302Z"
   },
   {
    "duration": 32,
    "start_time": "2024-12-18T03:21:21.394Z"
   },
   {
    "duration": 129,
    "start_time": "2024-12-18T03:21:21.428Z"
   },
   {
    "duration": 39,
    "start_time": "2024-12-18T03:21:21.560Z"
   },
   {
    "duration": 10,
    "start_time": "2024-12-18T03:21:21.600Z"
   },
   {
    "duration": 142,
    "start_time": "2024-12-18T03:21:21.613Z"
   },
   {
    "duration": 3,
    "start_time": "2024-12-18T03:21:21.757Z"
   },
   {
    "duration": 4,
    "start_time": "2024-12-18T03:21:21.763Z"
   },
   {
    "duration": 6,
    "start_time": "2024-12-18T03:21:33.046Z"
   },
   {
    "duration": 228,
    "start_time": "2024-12-18T03:22:30.250Z"
   },
   {
    "duration": 140,
    "start_time": "2024-12-18T03:22:43.786Z"
   },
   {
    "duration": 14,
    "start_time": "2024-12-18T03:23:09.655Z"
   },
   {
    "duration": 989,
    "start_time": "2024-12-18T03:23:25.328Z"
   },
   {
    "duration": 396,
    "start_time": "2024-12-18T03:23:26.320Z"
   },
   {
    "duration": 12,
    "start_time": "2024-12-18T03:23:26.718Z"
   },
   {
    "duration": 234,
    "start_time": "2024-12-18T03:23:26.731Z"
   },
   {
    "duration": 266,
    "start_time": "2024-12-18T03:23:26.968Z"
   },
   {
    "duration": 94,
    "start_time": "2024-12-18T03:23:27.236Z"
   },
   {
    "duration": 66,
    "start_time": "2024-12-18T03:23:27.333Z"
   },
   {
    "duration": 24,
    "start_time": "2024-12-18T03:23:27.401Z"
   },
   {
    "duration": 103,
    "start_time": "2024-12-18T03:23:27.427Z"
   },
   {
    "duration": 36,
    "start_time": "2024-12-18T03:23:27.532Z"
   },
   {
    "duration": 8,
    "start_time": "2024-12-18T03:23:27.570Z"
   },
   {
    "duration": 153,
    "start_time": "2024-12-18T03:23:27.579Z"
   },
   {
    "duration": 18,
    "start_time": "2024-12-18T03:23:27.734Z"
   },
   {
    "duration": 101,
    "start_time": "2024-12-18T03:23:27.754Z"
   },
   {
    "duration": 133,
    "start_time": "2024-12-18T03:23:27.857Z"
   },
   {
    "duration": 3,
    "start_time": "2024-12-18T03:23:27.992Z"
   },
   {
    "duration": 3,
    "start_time": "2024-12-18T03:23:27.997Z"
   },
   {
    "duration": 226,
    "start_time": "2024-12-18T03:23:36.424Z"
   },
   {
    "duration": 2907,
    "start_time": "2024-12-18T19:13:50.372Z"
   },
   {
    "duration": 4,
    "start_time": "2024-12-18T19:14:57.189Z"
   },
   {
    "duration": 14,
    "start_time": "2024-12-18T19:15:28.072Z"
   },
   {
    "duration": 978,
    "start_time": "2024-12-18T19:15:34.172Z"
   },
   {
    "duration": 451,
    "start_time": "2024-12-18T19:15:35.153Z"
   },
   {
    "duration": 16,
    "start_time": "2024-12-18T19:15:35.606Z"
   },
   {
    "duration": 239,
    "start_time": "2024-12-18T19:15:35.623Z"
   },
   {
    "duration": 257,
    "start_time": "2024-12-18T19:15:35.865Z"
   },
   {
    "duration": 98,
    "start_time": "2024-12-18T19:15:36.124Z"
   },
   {
    "duration": 61,
    "start_time": "2024-12-18T19:15:36.224Z"
   },
   {
    "duration": 40,
    "start_time": "2024-12-18T19:15:36.286Z"
   },
   {
    "duration": 93,
    "start_time": "2024-12-18T19:15:36.327Z"
   },
   {
    "duration": 27,
    "start_time": "2024-12-18T19:15:36.422Z"
   },
   {
    "duration": 9,
    "start_time": "2024-12-18T19:15:36.451Z"
   },
   {
    "duration": 164,
    "start_time": "2024-12-18T19:15:36.461Z"
   },
   {
    "duration": 19,
    "start_time": "2024-12-18T19:15:36.627Z"
   },
   {
    "duration": 16,
    "start_time": "2024-12-18T19:15:36.649Z"
   },
   {
    "duration": 104,
    "start_time": "2024-12-18T19:15:36.666Z"
   },
   {
    "duration": 135,
    "start_time": "2024-12-18T19:15:36.772Z"
   },
   {
    "duration": 3,
    "start_time": "2024-12-18T19:15:36.909Z"
   },
   {
    "duration": 1074,
    "start_time": "2024-12-18T19:16:19.216Z"
   },
   {
    "duration": 446,
    "start_time": "2024-12-18T19:16:20.293Z"
   },
   {
    "duration": 13,
    "start_time": "2024-12-18T19:16:20.741Z"
   },
   {
    "duration": 242,
    "start_time": "2024-12-18T19:16:20.756Z"
   },
   {
    "duration": 262,
    "start_time": "2024-12-18T19:16:21.000Z"
   },
   {
    "duration": 109,
    "start_time": "2024-12-18T19:16:21.264Z"
   },
   {
    "duration": 70,
    "start_time": "2024-12-18T19:16:21.374Z"
   },
   {
    "duration": 26,
    "start_time": "2024-12-18T19:16:21.446Z"
   },
   {
    "duration": 99,
    "start_time": "2024-12-18T19:16:21.473Z"
   },
   {
    "duration": 39,
    "start_time": "2024-12-18T19:16:21.575Z"
   },
   {
    "duration": 8,
    "start_time": "2024-12-18T19:16:21.616Z"
   },
   {
    "duration": 153,
    "start_time": "2024-12-18T19:16:21.626Z"
   },
   {
    "duration": 19,
    "start_time": "2024-12-18T19:16:21.780Z"
   },
   {
    "duration": 26,
    "start_time": "2024-12-18T19:16:21.800Z"
   },
   {
    "duration": 99,
    "start_time": "2024-12-18T19:16:21.828Z"
   },
   {
    "duration": 136,
    "start_time": "2024-12-18T19:16:21.929Z"
   },
   {
    "duration": 2,
    "start_time": "2024-12-18T19:16:22.067Z"
   },
   {
    "duration": 3,
    "start_time": "2024-12-18T19:16:22.071Z"
   },
   {
    "duration": 1003,
    "start_time": "2024-12-18T19:21:14.309Z"
   },
   {
    "duration": 408,
    "start_time": "2024-12-18T19:21:15.314Z"
   },
   {
    "duration": 12,
    "start_time": "2024-12-18T19:21:15.724Z"
   },
   {
    "duration": 229,
    "start_time": "2024-12-18T19:21:15.738Z"
   },
   {
    "duration": 277,
    "start_time": "2024-12-18T19:21:15.970Z"
   },
   {
    "duration": 95,
    "start_time": "2024-12-18T19:21:16.249Z"
   },
   {
    "duration": 71,
    "start_time": "2024-12-18T19:21:16.345Z"
   },
   {
    "duration": 23,
    "start_time": "2024-12-18T19:21:16.417Z"
   },
   {
    "duration": 100,
    "start_time": "2024-12-18T19:21:16.441Z"
   },
   {
    "duration": 27,
    "start_time": "2024-12-18T19:21:16.542Z"
   },
   {
    "duration": 9,
    "start_time": "2024-12-18T19:21:16.570Z"
   },
   {
    "duration": 164,
    "start_time": "2024-12-18T19:21:16.581Z"
   },
   {
    "duration": 18,
    "start_time": "2024-12-18T19:21:16.747Z"
   },
   {
    "duration": 16,
    "start_time": "2024-12-18T19:21:16.767Z"
   },
   {
    "duration": 105,
    "start_time": "2024-12-18T19:21:16.785Z"
   },
   {
    "duration": 127,
    "start_time": "2024-12-18T19:21:16.891Z"
   },
   {
    "duration": 3,
    "start_time": "2024-12-18T19:21:17.020Z"
   },
   {
    "duration": 712,
    "start_time": "2024-12-18T19:21:17.024Z"
   },
   {
    "duration": 983,
    "start_time": "2024-12-18T19:24:05.488Z"
   },
   {
    "duration": 400,
    "start_time": "2024-12-18T19:24:06.473Z"
   },
   {
    "duration": 13,
    "start_time": "2024-12-18T19:24:06.875Z"
   },
   {
    "duration": 645,
    "start_time": "2024-12-18T19:24:06.889Z"
   },
   {
    "duration": 0,
    "start_time": "2024-12-18T19:24:07.537Z"
   },
   {
    "duration": 0,
    "start_time": "2024-12-18T19:24:07.538Z"
   },
   {
    "duration": 1,
    "start_time": "2024-12-18T19:24:07.539Z"
   },
   {
    "duration": 0,
    "start_time": "2024-12-18T19:24:07.541Z"
   },
   {
    "duration": 0,
    "start_time": "2024-12-18T19:24:07.542Z"
   },
   {
    "duration": 0,
    "start_time": "2024-12-18T19:24:07.544Z"
   },
   {
    "duration": 0,
    "start_time": "2024-12-18T19:24:07.545Z"
   },
   {
    "duration": 0,
    "start_time": "2024-12-18T19:24:07.547Z"
   },
   {
    "duration": 0,
    "start_time": "2024-12-18T19:24:07.548Z"
   },
   {
    "duration": 0,
    "start_time": "2024-12-18T19:24:07.550Z"
   },
   {
    "duration": 0,
    "start_time": "2024-12-18T19:24:07.550Z"
   },
   {
    "duration": 0,
    "start_time": "2024-12-18T19:24:07.552Z"
   },
   {
    "duration": 0,
    "start_time": "2024-12-18T19:24:07.553Z"
   },
   {
    "duration": 0,
    "start_time": "2024-12-18T19:24:07.554Z"
   },
   {
    "duration": 0,
    "start_time": "2024-12-18T19:24:07.556Z"
   },
   {
    "duration": 978,
    "start_time": "2024-12-18T19:24:23.682Z"
   },
   {
    "duration": 409,
    "start_time": "2024-12-18T19:24:24.663Z"
   },
   {
    "duration": 14,
    "start_time": "2024-12-18T19:24:25.073Z"
   },
   {
    "duration": 5,
    "start_time": "2024-12-18T19:24:25.089Z"
   },
   {
    "duration": 0,
    "start_time": "2024-12-18T19:24:25.096Z"
   },
   {
    "duration": 0,
    "start_time": "2024-12-18T19:24:25.112Z"
   },
   {
    "duration": 0,
    "start_time": "2024-12-18T19:24:25.113Z"
   },
   {
    "duration": 0,
    "start_time": "2024-12-18T19:24:25.114Z"
   },
   {
    "duration": 0,
    "start_time": "2024-12-18T19:24:25.116Z"
   },
   {
    "duration": 0,
    "start_time": "2024-12-18T19:24:25.117Z"
   },
   {
    "duration": 0,
    "start_time": "2024-12-18T19:24:25.119Z"
   },
   {
    "duration": 0,
    "start_time": "2024-12-18T19:24:25.120Z"
   },
   {
    "duration": 0,
    "start_time": "2024-12-18T19:24:25.121Z"
   },
   {
    "duration": 0,
    "start_time": "2024-12-18T19:24:25.123Z"
   },
   {
    "duration": 0,
    "start_time": "2024-12-18T19:24:25.124Z"
   },
   {
    "duration": 0,
    "start_time": "2024-12-18T19:24:25.125Z"
   },
   {
    "duration": 0,
    "start_time": "2024-12-18T19:24:25.127Z"
   },
   {
    "duration": 0,
    "start_time": "2024-12-18T19:24:25.128Z"
   },
   {
    "duration": 0,
    "start_time": "2024-12-18T19:24:25.130Z"
   },
   {
    "duration": 3,
    "start_time": "2024-12-18T19:24:43.975Z"
   },
   {
    "duration": 277,
    "start_time": "2024-12-18T19:24:56.746Z"
   },
   {
    "duration": 39,
    "start_time": "2024-12-18T19:28:10.717Z"
   },
   {
    "duration": 17679,
    "start_time": "2024-12-18T19:28:48.142Z"
   },
   {
    "duration": 85,
    "start_time": "2024-12-18T19:29:12.207Z"
   },
   {
    "duration": 51,
    "start_time": "2024-12-18T19:29:46.382Z"
   },
   {
    "duration": 17869,
    "start_time": "2024-12-18T19:30:15.810Z"
   },
   {
    "duration": 963,
    "start_time": "2024-12-18T19:30:50.674Z"
   },
   {
    "duration": 410,
    "start_time": "2024-12-18T19:30:51.640Z"
   },
   {
    "duration": 13,
    "start_time": "2024-12-18T19:30:52.052Z"
   },
   {
    "duration": 36358,
    "start_time": "2024-12-18T19:30:52.067Z"
   },
   {
    "duration": 184,
    "start_time": "2024-12-18T19:31:28.428Z"
   },
   {
    "duration": 198,
    "start_time": "2024-12-18T19:31:28.614Z"
   },
   {
    "duration": 77,
    "start_time": "2024-12-18T19:31:28.814Z"
   },
   {
    "duration": 66,
    "start_time": "2024-12-18T19:31:28.894Z"
   },
   {
    "duration": 19,
    "start_time": "2024-12-18T19:31:28.962Z"
   },
   {
    "duration": 114,
    "start_time": "2024-12-18T19:31:28.983Z"
   },
   {
    "duration": 24,
    "start_time": "2024-12-18T19:31:29.100Z"
   },
   {
    "duration": 10,
    "start_time": "2024-12-18T19:31:29.126Z"
   },
   {
    "duration": 146,
    "start_time": "2024-12-18T19:31:29.138Z"
   },
   {
    "duration": 28,
    "start_time": "2024-12-18T19:31:29.288Z"
   },
   {
    "duration": 26,
    "start_time": "2024-12-18T19:31:29.318Z"
   },
   {
    "duration": 103,
    "start_time": "2024-12-18T19:31:29.347Z"
   },
   {
    "duration": 105,
    "start_time": "2024-12-18T19:31:29.453Z"
   },
   {
    "duration": 3,
    "start_time": "2024-12-18T19:31:29.560Z"
   },
   {
    "duration": 826,
    "start_time": "2024-12-18T19:31:29.565Z"
   },
   {
    "duration": 170,
    "start_time": "2024-12-18T19:33:18.581Z"
   },
   {
    "duration": 163,
    "start_time": "2024-12-18T19:35:02.712Z"
   },
   {
    "duration": 11,
    "start_time": "2024-12-18T19:35:06.415Z"
   },
   {
    "duration": 1020,
    "start_time": "2024-12-18T19:35:19.322Z"
   },
   {
    "duration": 458,
    "start_time": "2024-12-18T19:35:20.345Z"
   },
   {
    "duration": 17,
    "start_time": "2024-12-18T19:35:20.805Z"
   },
   {
    "duration": 35189,
    "start_time": "2024-12-18T19:35:20.824Z"
   },
   {
    "duration": 177,
    "start_time": "2024-12-18T19:35:56.017Z"
   },
   {
    "duration": 197,
    "start_time": "2024-12-18T19:35:56.196Z"
   },
   {
    "duration": 68,
    "start_time": "2024-12-18T19:35:56.394Z"
   },
   {
    "duration": 60,
    "start_time": "2024-12-18T19:35:56.464Z"
   },
   {
    "duration": 15,
    "start_time": "2024-12-18T19:35:56.526Z"
   },
   {
    "duration": 80,
    "start_time": "2024-12-18T19:35:56.543Z"
   },
   {
    "duration": 18,
    "start_time": "2024-12-18T19:35:56.624Z"
   },
   {
    "duration": 7,
    "start_time": "2024-12-18T19:35:56.644Z"
   },
   {
    "duration": 106,
    "start_time": "2024-12-18T19:35:56.653Z"
   },
   {
    "duration": 16,
    "start_time": "2024-12-18T19:35:56.762Z"
   },
   {
    "duration": 16,
    "start_time": "2024-12-18T19:35:56.780Z"
   },
   {
    "duration": 62,
    "start_time": "2024-12-18T19:35:56.811Z"
   },
   {
    "duration": 107,
    "start_time": "2024-12-18T19:35:56.874Z"
   },
   {
    "duration": 5,
    "start_time": "2024-12-18T19:35:56.982Z"
   },
   {
    "duration": 3,
    "start_time": "2024-12-18T19:35:56.988Z"
   },
   {
    "duration": 3,
    "start_time": "2024-12-18T19:35:56.993Z"
   },
   {
    "duration": 4,
    "start_time": "2024-12-18T19:37:21.049Z"
   },
   {
    "duration": 3,
    "start_time": "2024-12-18T19:37:25.773Z"
   },
   {
    "duration": 5,
    "start_time": "2024-12-18T19:37:36.527Z"
   },
   {
    "duration": 4,
    "start_time": "2024-12-18T19:37:39.990Z"
   },
   {
    "duration": 4,
    "start_time": "2024-12-18T19:37:51.604Z"
   },
   {
    "duration": 5,
    "start_time": "2024-12-18T19:37:54.097Z"
   },
   {
    "duration": 4,
    "start_time": "2024-12-18T19:41:02.217Z"
   },
   {
    "duration": 259,
    "start_time": "2024-12-18T19:43:33.688Z"
   },
   {
    "duration": 17,
    "start_time": "2024-12-18T19:43:52.666Z"
   },
   {
    "duration": 147,
    "start_time": "2024-12-18T19:44:00.823Z"
   },
   {
    "duration": 145,
    "start_time": "2024-12-18T19:47:46.816Z"
   },
   {
    "duration": 146,
    "start_time": "2024-12-18T19:50:50.790Z"
   },
   {
    "duration": 144,
    "start_time": "2024-12-18T19:51:45.436Z"
   },
   {
    "duration": 4,
    "start_time": "2024-12-18T19:51:49.701Z"
   },
   {
    "duration": 14,
    "start_time": "2024-12-18T19:54:53.970Z"
   },
   {
    "duration": 336,
    "start_time": "2024-12-18T19:55:04.466Z"
   },
   {
    "duration": 346,
    "start_time": "2024-12-18T19:55:07.462Z"
   },
   {
    "duration": 2,
    "start_time": "2024-12-18T19:59:18.765Z"
   },
   {
    "duration": 703,
    "start_time": "2024-12-18T20:01:15.770Z"
   },
   {
    "duration": 990,
    "start_time": "2024-12-18T20:01:29.167Z"
   },
   {
    "duration": 392,
    "start_time": "2024-12-18T20:01:30.159Z"
   },
   {
    "duration": 14,
    "start_time": "2024-12-18T20:01:30.552Z"
   },
   {
    "duration": 35380,
    "start_time": "2024-12-18T20:01:30.568Z"
   },
   {
    "duration": 181,
    "start_time": "2024-12-18T20:02:05.950Z"
   },
   {
    "duration": 186,
    "start_time": "2024-12-18T20:02:06.133Z"
   },
   {
    "duration": 64,
    "start_time": "2024-12-18T20:02:06.321Z"
   },
   {
    "duration": 69,
    "start_time": "2024-12-18T20:02:06.386Z"
   },
   {
    "duration": 16,
    "start_time": "2024-12-18T20:02:06.457Z"
   },
   {
    "duration": 79,
    "start_time": "2024-12-18T20:02:06.474Z"
   },
   {
    "duration": 16,
    "start_time": "2024-12-18T20:02:06.555Z"
   },
   {
    "duration": 8,
    "start_time": "2024-12-18T20:02:06.574Z"
   },
   {
    "duration": 108,
    "start_time": "2024-12-18T20:02:06.583Z"
   },
   {
    "duration": 24,
    "start_time": "2024-12-18T20:02:06.694Z"
   },
   {
    "duration": 17,
    "start_time": "2024-12-18T20:02:06.719Z"
   },
   {
    "duration": 73,
    "start_time": "2024-12-18T20:02:06.738Z"
   },
   {
    "duration": 99,
    "start_time": "2024-12-18T20:02:06.815Z"
   },
   {
    "duration": 3,
    "start_time": "2024-12-18T20:02:06.916Z"
   },
   {
    "duration": 3,
    "start_time": "2024-12-18T20:02:06.921Z"
   },
   {
    "duration": 366,
    "start_time": "2024-12-18T20:02:06.926Z"
   },
   {
    "duration": 700,
    "start_time": "2024-12-18T20:02:07.294Z"
   },
   {
    "duration": 2,
    "start_time": "2024-12-18T20:02:07.996Z"
   },
   {
    "duration": 235,
    "start_time": "2024-12-18T20:02:08.000Z"
   },
   {
    "duration": 14,
    "start_time": "2024-12-18T20:02:26.225Z"
   },
   {
    "duration": 2068,
    "start_time": "2024-12-18T20:02:33.886Z"
   },
   {
    "duration": 2,
    "start_time": "2024-12-18T20:03:06.282Z"
   },
   {
    "duration": 987,
    "start_time": "2024-12-18T20:03:11.156Z"
   },
   {
    "duration": 399,
    "start_time": "2024-12-18T20:03:12.145Z"
   },
   {
    "duration": 13,
    "start_time": "2024-12-18T20:03:12.546Z"
   },
   {
    "duration": 2,
    "start_time": "2024-12-18T20:03:12.561Z"
   },
   {
    "duration": 240,
    "start_time": "2024-12-18T20:03:12.567Z"
   },
   {
    "duration": 250,
    "start_time": "2024-12-18T20:03:12.808Z"
   },
   {
    "duration": 99,
    "start_time": "2024-12-18T20:03:13.060Z"
   },
   {
    "duration": 71,
    "start_time": "2024-12-18T20:03:13.161Z"
   },
   {
    "duration": 24,
    "start_time": "2024-12-18T20:03:13.234Z"
   },
   {
    "duration": 99,
    "start_time": "2024-12-18T20:03:13.259Z"
   },
   {
    "duration": 27,
    "start_time": "2024-12-18T20:03:13.360Z"
   },
   {
    "duration": 24,
    "start_time": "2024-12-18T20:03:13.389Z"
   },
   {
    "duration": 148,
    "start_time": "2024-12-18T20:03:13.414Z"
   },
   {
    "duration": 18,
    "start_time": "2024-12-18T20:03:13.567Z"
   },
   {
    "duration": 28,
    "start_time": "2024-12-18T20:03:13.587Z"
   },
   {
    "duration": 95,
    "start_time": "2024-12-18T20:03:13.618Z"
   },
   {
    "duration": 134,
    "start_time": "2024-12-18T20:03:13.715Z"
   },
   {
    "duration": 2,
    "start_time": "2024-12-18T20:03:13.851Z"
   },
   {
    "duration": 3,
    "start_time": "2024-12-18T20:03:13.855Z"
   },
   {
    "duration": 1037,
    "start_time": "2024-12-18T20:03:40.769Z"
   },
   {
    "duration": 447,
    "start_time": "2024-12-18T20:03:41.808Z"
   },
   {
    "duration": 12,
    "start_time": "2024-12-18T20:03:42.257Z"
   },
   {
    "duration": 2,
    "start_time": "2024-12-18T20:03:42.271Z"
   },
   {
    "duration": 235,
    "start_time": "2024-12-18T20:03:42.277Z"
   },
   {
    "duration": 251,
    "start_time": "2024-12-18T20:03:42.514Z"
   },
   {
    "duration": 92,
    "start_time": "2024-12-18T20:03:42.767Z"
   },
   {
    "duration": 68,
    "start_time": "2024-12-18T20:03:42.861Z"
   },
   {
    "duration": 29,
    "start_time": "2024-12-18T20:03:42.930Z"
   },
   {
    "duration": 103,
    "start_time": "2024-12-18T20:03:42.960Z"
   },
   {
    "duration": 27,
    "start_time": "2024-12-18T20:03:43.066Z"
   },
   {
    "duration": 20,
    "start_time": "2024-12-18T20:03:43.095Z"
   },
   {
    "duration": 149,
    "start_time": "2024-12-18T20:03:43.117Z"
   },
   {
    "duration": 19,
    "start_time": "2024-12-18T20:03:43.269Z"
   },
   {
    "duration": 28,
    "start_time": "2024-12-18T20:03:43.289Z"
   },
   {
    "duration": 97,
    "start_time": "2024-12-18T20:03:43.319Z"
   },
   {
    "duration": 135,
    "start_time": "2024-12-18T20:03:43.418Z"
   },
   {
    "duration": 3,
    "start_time": "2024-12-18T20:03:43.555Z"
   },
   {
    "duration": 2,
    "start_time": "2024-12-18T20:03:43.559Z"
   },
   {
    "duration": 1011,
    "start_time": "2024-12-18T20:04:02.883Z"
   },
   {
    "duration": 441,
    "start_time": "2024-12-18T20:04:03.896Z"
   },
   {
    "duration": 12,
    "start_time": "2024-12-18T20:04:04.340Z"
   },
   {
    "duration": 2,
    "start_time": "2024-12-18T20:04:04.354Z"
   },
   {
    "duration": 241,
    "start_time": "2024-12-18T20:04:04.359Z"
   },
   {
    "duration": 260,
    "start_time": "2024-12-18T20:04:04.602Z"
   },
   {
    "duration": 98,
    "start_time": "2024-12-18T20:04:04.864Z"
   },
   {
    "duration": 75,
    "start_time": "2024-12-18T20:04:04.964Z"
   },
   {
    "duration": 23,
    "start_time": "2024-12-18T20:04:05.041Z"
   },
   {
    "duration": 102,
    "start_time": "2024-12-18T20:04:05.066Z"
   },
   {
    "duration": 28,
    "start_time": "2024-12-18T20:04:05.169Z"
   },
   {
    "duration": 11,
    "start_time": "2024-12-18T20:04:05.212Z"
   },
   {
    "duration": 156,
    "start_time": "2024-12-18T20:04:05.224Z"
   },
   {
    "duration": 18,
    "start_time": "2024-12-18T20:04:05.383Z"
   },
   {
    "duration": 27,
    "start_time": "2024-12-18T20:04:05.403Z"
   },
   {
    "duration": 105,
    "start_time": "2024-12-18T20:04:05.432Z"
   },
   {
    "duration": 132,
    "start_time": "2024-12-18T20:04:05.539Z"
   },
   {
    "duration": 4,
    "start_time": "2024-12-18T20:04:05.673Z"
   },
   {
    "duration": 2,
    "start_time": "2024-12-18T20:04:05.679Z"
   },
   {
    "duration": 163,
    "start_time": "2024-12-18T20:04:12.847Z"
   },
   {
    "duration": 1028,
    "start_time": "2024-12-18T20:05:53.162Z"
   },
   {
    "duration": 448,
    "start_time": "2024-12-18T20:05:54.192Z"
   },
   {
    "duration": 12,
    "start_time": "2024-12-18T20:05:54.642Z"
   },
   {
    "duration": 2,
    "start_time": "2024-12-18T20:05:54.656Z"
   },
   {
    "duration": 255,
    "start_time": "2024-12-18T20:05:54.661Z"
   },
   {
    "duration": 256,
    "start_time": "2024-12-18T20:05:54.918Z"
   },
   {
    "duration": 95,
    "start_time": "2024-12-18T20:05:55.176Z"
   },
   {
    "duration": 73,
    "start_time": "2024-12-18T20:05:55.273Z"
   },
   {
    "duration": 24,
    "start_time": "2024-12-18T20:05:55.348Z"
   },
   {
    "duration": 103,
    "start_time": "2024-12-18T20:05:55.374Z"
   },
   {
    "duration": 34,
    "start_time": "2024-12-18T20:05:55.479Z"
   },
   {
    "duration": 9,
    "start_time": "2024-12-18T20:05:55.515Z"
   },
   {
    "duration": 157,
    "start_time": "2024-12-18T20:05:55.526Z"
   },
   {
    "duration": 26,
    "start_time": "2024-12-18T20:05:55.686Z"
   },
   {
    "duration": 16,
    "start_time": "2024-12-18T20:05:55.714Z"
   },
   {
    "duration": 98,
    "start_time": "2024-12-18T20:05:55.732Z"
   },
   {
    "duration": 131,
    "start_time": "2024-12-18T20:05:55.832Z"
   },
   {
    "duration": 3,
    "start_time": "2024-12-18T20:05:55.964Z"
   },
   {
    "duration": 3,
    "start_time": "2024-12-18T20:05:55.969Z"
   },
   {
    "duration": 1005,
    "start_time": "2024-12-18T20:06:17.914Z"
   },
   {
    "duration": 469,
    "start_time": "2024-12-18T20:06:18.921Z"
   },
   {
    "duration": 22,
    "start_time": "2024-12-18T20:06:19.392Z"
   },
   {
    "duration": 2,
    "start_time": "2024-12-18T20:06:19.416Z"
   },
   {
    "duration": 236,
    "start_time": "2024-12-18T20:06:19.421Z"
   },
   {
    "duration": 267,
    "start_time": "2024-12-18T20:06:19.659Z"
   },
   {
    "duration": 104,
    "start_time": "2024-12-18T20:06:19.928Z"
   },
   {
    "duration": 58,
    "start_time": "2024-12-18T20:06:20.033Z"
   },
   {
    "duration": 40,
    "start_time": "2024-12-18T20:06:20.094Z"
   },
   {
    "duration": 100,
    "start_time": "2024-12-18T20:06:20.136Z"
   },
   {
    "duration": 27,
    "start_time": "2024-12-18T20:06:20.238Z"
   },
   {
    "duration": 9,
    "start_time": "2024-12-18T20:06:20.267Z"
   },
   {
    "duration": 162,
    "start_time": "2024-12-18T20:06:20.278Z"
   },
   {
    "duration": 17,
    "start_time": "2024-12-18T20:06:20.444Z"
   },
   {
    "duration": 17,
    "start_time": "2024-12-18T20:06:20.463Z"
   },
   {
    "duration": 109,
    "start_time": "2024-12-18T20:06:20.481Z"
   },
   {
    "duration": 3,
    "start_time": "2024-12-18T20:06:20.592Z"
   },
   {
    "duration": 3,
    "start_time": "2024-12-18T20:06:20.596Z"
   },
   {
    "duration": 12,
    "start_time": "2024-12-18T20:06:20.601Z"
   },
   {
    "duration": 1038,
    "start_time": "2024-12-18T20:06:54.152Z"
   },
   {
    "duration": 447,
    "start_time": "2024-12-18T20:06:56.347Z"
   },
   {
    "duration": 13,
    "start_time": "2024-12-18T20:06:56.928Z"
   },
   {
    "duration": 3,
    "start_time": "2024-12-18T20:06:57.613Z"
   },
   {
    "duration": 238,
    "start_time": "2024-12-18T20:06:58.458Z"
   },
   {
    "duration": 253,
    "start_time": "2024-12-18T20:06:58.813Z"
   },
   {
    "duration": 94,
    "start_time": "2024-12-18T20:06:59.150Z"
   },
   {
    "duration": 61,
    "start_time": "2024-12-18T20:06:59.485Z"
   },
   {
    "duration": 24,
    "start_time": "2024-12-18T20:07:00.643Z"
   },
   {
    "duration": 95,
    "start_time": "2024-12-18T20:07:01.124Z"
   },
   {
    "duration": 27,
    "start_time": "2024-12-18T20:07:01.559Z"
   },
   {
    "duration": 8,
    "start_time": "2024-12-18T20:07:02.103Z"
   },
   {
    "duration": 141,
    "start_time": "2024-12-18T20:07:02.489Z"
   },
   {
    "duration": 18,
    "start_time": "2024-12-18T20:07:02.983Z"
   },
   {
    "duration": 17,
    "start_time": "2024-12-18T20:07:03.416Z"
   },
   {
    "duration": 89,
    "start_time": "2024-12-18T20:07:03.729Z"
   },
   {
    "duration": 2,
    "start_time": "2024-12-18T20:07:05.031Z"
   },
   {
    "duration": 2,
    "start_time": "2024-12-18T20:07:05.596Z"
   },
   {
    "duration": 2,
    "start_time": "2024-12-18T20:07:06.259Z"
   },
   {
    "duration": 1003,
    "start_time": "2024-12-18T20:07:36.811Z"
   },
   {
    "duration": 439,
    "start_time": "2024-12-18T20:07:37.816Z"
   },
   {
    "duration": 16,
    "start_time": "2024-12-18T20:07:38.258Z"
   },
   {
    "duration": 2,
    "start_time": "2024-12-18T20:07:38.276Z"
   },
   {
    "duration": 243,
    "start_time": "2024-12-18T20:07:38.281Z"
   },
   {
    "duration": 258,
    "start_time": "2024-12-18T20:07:38.526Z"
   },
   {
    "duration": 99,
    "start_time": "2024-12-18T20:07:38.786Z"
   },
   {
    "duration": 69,
    "start_time": "2024-12-18T20:07:38.887Z"
   },
   {
    "duration": 24,
    "start_time": "2024-12-18T20:07:38.959Z"
   },
   {
    "duration": 98,
    "start_time": "2024-12-18T20:07:38.984Z"
   },
   {
    "duration": 37,
    "start_time": "2024-12-18T20:07:39.083Z"
   },
   {
    "duration": 8,
    "start_time": "2024-12-18T20:07:39.123Z"
   },
   {
    "duration": 158,
    "start_time": "2024-12-18T20:07:39.134Z"
   },
   {
    "duration": 23,
    "start_time": "2024-12-18T20:07:39.295Z"
   },
   {
    "duration": 22,
    "start_time": "2024-12-18T20:07:39.320Z"
   },
   {
    "duration": 105,
    "start_time": "2024-12-18T20:07:39.343Z"
   },
   {
    "duration": 2,
    "start_time": "2024-12-18T20:07:39.450Z"
   },
   {
    "duration": 3,
    "start_time": "2024-12-18T20:07:39.454Z"
   },
   {
    "duration": 3,
    "start_time": "2024-12-18T20:07:39.458Z"
   },
   {
    "duration": 1004,
    "start_time": "2024-12-18T20:07:53.663Z"
   },
   {
    "duration": 449,
    "start_time": "2024-12-18T20:07:54.669Z"
   },
   {
    "duration": 15,
    "start_time": "2024-12-18T20:07:55.120Z"
   },
   {
    "duration": 2,
    "start_time": "2024-12-18T20:07:55.137Z"
   },
   {
    "duration": 245,
    "start_time": "2024-12-18T20:07:55.141Z"
   },
   {
    "duration": 258,
    "start_time": "2024-12-18T20:07:55.388Z"
   },
   {
    "duration": 95,
    "start_time": "2024-12-18T20:07:55.648Z"
   },
   {
    "duration": 69,
    "start_time": "2024-12-18T20:07:55.744Z"
   },
   {
    "duration": 25,
    "start_time": "2024-12-18T20:07:55.814Z"
   },
   {
    "duration": 104,
    "start_time": "2024-12-18T20:07:55.840Z"
   },
   {
    "duration": 27,
    "start_time": "2024-12-18T20:07:55.945Z"
   },
   {
    "duration": 9,
    "start_time": "2024-12-18T20:07:55.974Z"
   },
   {
    "duration": 178,
    "start_time": "2024-12-18T20:07:55.985Z"
   },
   {
    "duration": 19,
    "start_time": "2024-12-18T20:07:56.166Z"
   },
   {
    "duration": 26,
    "start_time": "2024-12-18T20:07:56.187Z"
   },
   {
    "duration": 98,
    "start_time": "2024-12-18T20:07:56.214Z"
   },
   {
    "duration": 4,
    "start_time": "2024-12-18T20:07:56.314Z"
   },
   {
    "duration": 4,
    "start_time": "2024-12-18T20:07:56.319Z"
   },
   {
    "duration": 3,
    "start_time": "2024-12-18T20:07:56.324Z"
   },
   {
    "duration": 964,
    "start_time": "2024-12-18T20:09:28.473Z"
   },
   {
    "duration": 446,
    "start_time": "2024-12-18T20:09:29.439Z"
   },
   {
    "duration": 13,
    "start_time": "2024-12-18T20:09:29.887Z"
   },
   {
    "duration": 2,
    "start_time": "2024-12-18T20:09:29.902Z"
   },
   {
    "duration": 241,
    "start_time": "2024-12-18T20:09:29.913Z"
   },
   {
    "duration": 266,
    "start_time": "2024-12-18T20:09:30.155Z"
   },
   {
    "duration": 105,
    "start_time": "2024-12-18T20:09:30.423Z"
   },
   {
    "duration": 58,
    "start_time": "2024-12-18T20:09:30.529Z"
   },
   {
    "duration": 39,
    "start_time": "2024-12-18T20:09:30.589Z"
   },
   {
    "duration": 96,
    "start_time": "2024-12-18T20:09:30.630Z"
   },
   {
    "duration": 26,
    "start_time": "2024-12-18T20:09:30.728Z"
   },
   {
    "duration": 8,
    "start_time": "2024-12-18T20:09:30.756Z"
   },
   {
    "duration": 169,
    "start_time": "2024-12-18T20:09:30.766Z"
   },
   {
    "duration": 19,
    "start_time": "2024-12-18T20:09:30.938Z"
   },
   {
    "duration": 2,
    "start_time": "2024-12-18T20:09:30.959Z"
   },
   {
    "duration": 3,
    "start_time": "2024-12-18T20:09:30.963Z"
   },
   {
    "duration": 3,
    "start_time": "2024-12-18T20:09:30.967Z"
   },
   {
    "duration": 3,
    "start_time": "2024-12-18T20:09:30.971Z"
   },
   {
    "duration": 3,
    "start_time": "2024-12-18T20:09:30.976Z"
   },
   {
    "duration": 167,
    "start_time": "2024-12-18T20:09:44.959Z"
   },
   {
    "duration": 1022,
    "start_time": "2024-12-18T20:10:39.687Z"
   },
   {
    "duration": 442,
    "start_time": "2024-12-18T20:10:40.713Z"
   },
   {
    "duration": 14,
    "start_time": "2024-12-18T20:10:41.156Z"
   },
   {
    "duration": 3,
    "start_time": "2024-12-18T20:10:41.171Z"
   },
   {
    "duration": 234,
    "start_time": "2024-12-18T20:10:41.177Z"
   },
   {
    "duration": 258,
    "start_time": "2024-12-18T20:10:41.413Z"
   },
   {
    "duration": 95,
    "start_time": "2024-12-18T20:10:41.673Z"
   },
   {
    "duration": 67,
    "start_time": "2024-12-18T20:10:41.771Z"
   },
   {
    "duration": 30,
    "start_time": "2024-12-18T20:10:41.839Z"
   },
   {
    "duration": 100,
    "start_time": "2024-12-18T20:10:41.872Z"
   },
   {
    "duration": 26,
    "start_time": "2024-12-18T20:10:41.975Z"
   },
   {
    "duration": 9,
    "start_time": "2024-12-18T20:10:42.012Z"
   },
   {
    "duration": 157,
    "start_time": "2024-12-18T20:10:42.023Z"
   },
   {
    "duration": 18,
    "start_time": "2024-12-18T20:10:42.183Z"
   },
   {
    "duration": 3,
    "start_time": "2024-12-18T20:10:42.211Z"
   },
   {
    "duration": 3,
    "start_time": "2024-12-18T20:10:42.215Z"
   },
   {
    "duration": 2,
    "start_time": "2024-12-18T20:10:42.220Z"
   },
   {
    "duration": 3,
    "start_time": "2024-12-18T20:10:42.224Z"
   },
   {
    "duration": 3,
    "start_time": "2024-12-18T20:10:42.229Z"
   },
   {
    "duration": 989,
    "start_time": "2024-12-18T20:12:02.004Z"
   },
   {
    "duration": 443,
    "start_time": "2024-12-18T20:12:02.995Z"
   },
   {
    "duration": 13,
    "start_time": "2024-12-18T20:12:03.439Z"
   },
   {
    "duration": 2,
    "start_time": "2024-12-18T20:12:03.454Z"
   },
   {
    "duration": 245,
    "start_time": "2024-12-18T20:12:03.458Z"
   },
   {
    "duration": 259,
    "start_time": "2024-12-18T20:12:03.713Z"
   },
   {
    "duration": 98,
    "start_time": "2024-12-18T20:12:03.973Z"
   },
   {
    "duration": 67,
    "start_time": "2024-12-18T20:12:04.073Z"
   },
   {
    "duration": 25,
    "start_time": "2024-12-18T20:12:04.143Z"
   },
   {
    "duration": 101,
    "start_time": "2024-12-18T20:12:04.170Z"
   },
   {
    "duration": 40,
    "start_time": "2024-12-18T20:12:04.273Z"
   },
   {
    "duration": 10,
    "start_time": "2024-12-18T20:12:04.315Z"
   },
   {
    "duration": 157,
    "start_time": "2024-12-18T20:12:04.327Z"
   },
   {
    "duration": 24,
    "start_time": "2024-12-18T20:12:04.488Z"
   },
   {
    "duration": 2,
    "start_time": "2024-12-18T20:12:04.514Z"
   },
   {
    "duration": 3,
    "start_time": "2024-12-18T20:12:04.518Z"
   },
   {
    "duration": 3,
    "start_time": "2024-12-18T20:12:04.522Z"
   },
   {
    "duration": 3,
    "start_time": "2024-12-18T20:12:04.527Z"
   },
   {
    "duration": 3,
    "start_time": "2024-12-18T20:12:04.532Z"
   },
   {
    "duration": 3,
    "start_time": "2024-12-18T20:12:04.536Z"
   },
   {
    "duration": 3,
    "start_time": "2024-12-18T20:12:04.541Z"
   },
   {
    "duration": 3,
    "start_time": "2024-12-18T20:12:04.545Z"
   },
   {
    "duration": 3,
    "start_time": "2024-12-18T20:12:04.550Z"
   },
   {
    "duration": 984,
    "start_time": "2024-12-18T20:13:17.871Z"
   },
   {
    "duration": 395,
    "start_time": "2024-12-18T20:13:18.857Z"
   },
   {
    "duration": 14,
    "start_time": "2024-12-18T20:13:19.254Z"
   },
   {
    "duration": 2,
    "start_time": "2024-12-18T20:13:19.269Z"
   },
   {
    "duration": 238,
    "start_time": "2024-12-18T20:13:19.274Z"
   },
   {
    "duration": 245,
    "start_time": "2024-12-18T20:13:19.514Z"
   },
   {
    "duration": 107,
    "start_time": "2024-12-18T20:13:19.761Z"
   },
   {
    "duration": 70,
    "start_time": "2024-12-18T20:13:19.870Z"
   },
   {
    "duration": 26,
    "start_time": "2024-12-18T20:13:19.942Z"
   },
   {
    "duration": 103,
    "start_time": "2024-12-18T20:13:19.970Z"
   },
   {
    "duration": 27,
    "start_time": "2024-12-18T20:13:20.075Z"
   },
   {
    "duration": 9,
    "start_time": "2024-12-18T20:13:20.113Z"
   },
   {
    "duration": 153,
    "start_time": "2024-12-18T20:13:20.124Z"
   },
   {
    "duration": 18,
    "start_time": "2024-12-18T20:13:20.281Z"
   },
   {
    "duration": 3,
    "start_time": "2024-12-18T20:13:20.311Z"
   },
   {
    "duration": 2,
    "start_time": "2024-12-18T20:13:20.316Z"
   },
   {
    "duration": 3,
    "start_time": "2024-12-18T20:13:20.320Z"
   },
   {
    "duration": 3,
    "start_time": "2024-12-18T20:13:20.324Z"
   },
   {
    "duration": 3,
    "start_time": "2024-12-18T20:13:20.329Z"
   },
   {
    "duration": 3,
    "start_time": "2024-12-18T20:13:20.333Z"
   },
   {
    "duration": 853,
    "start_time": "2024-12-18T20:13:20.338Z"
   },
   {
    "duration": 2,
    "start_time": "2024-12-18T20:13:21.193Z"
   },
   {
    "duration": 2,
    "start_time": "2024-12-18T20:13:21.197Z"
   },
   {
    "duration": 11,
    "start_time": "2024-12-18T20:13:21.201Z"
   },
   {
    "duration": 20,
    "start_time": "2024-12-18T20:13:28.122Z"
   },
   {
    "duration": 20,
    "start_time": "2024-12-18T20:13:43.529Z"
   },
   {
    "duration": 52,
    "start_time": "2024-12-18T20:14:16.209Z"
   },
   {
    "duration": 1004,
    "start_time": "2024-12-18T20:14:21.685Z"
   },
   {
    "duration": 401,
    "start_time": "2024-12-18T20:14:22.691Z"
   },
   {
    "duration": 19,
    "start_time": "2024-12-18T20:14:23.093Z"
   },
   {
    "duration": 2,
    "start_time": "2024-12-18T20:14:23.115Z"
   },
   {
    "duration": 261,
    "start_time": "2024-12-18T20:14:23.119Z"
   },
   {
    "duration": 269,
    "start_time": "2024-12-18T20:14:23.382Z"
   },
   {
    "duration": 102,
    "start_time": "2024-12-18T20:14:23.653Z"
   },
   {
    "duration": 70,
    "start_time": "2024-12-18T20:14:23.757Z"
   },
   {
    "duration": 24,
    "start_time": "2024-12-18T20:14:23.829Z"
   },
   {
    "duration": 105,
    "start_time": "2024-12-18T20:14:23.855Z"
   },
   {
    "duration": 27,
    "start_time": "2024-12-18T20:14:23.961Z"
   },
   {
    "duration": 7,
    "start_time": "2024-12-18T20:14:23.991Z"
   },
   {
    "duration": 147,
    "start_time": "2024-12-18T20:14:24.012Z"
   },
   {
    "duration": 20,
    "start_time": "2024-12-18T20:14:24.160Z"
   },
   {
    "duration": 2,
    "start_time": "2024-12-18T20:14:24.182Z"
   },
   {
    "duration": 3,
    "start_time": "2024-12-18T20:14:24.186Z"
   },
   {
    "duration": 3,
    "start_time": "2024-12-18T20:14:24.191Z"
   },
   {
    "duration": 2,
    "start_time": "2024-12-18T20:14:24.213Z"
   },
   {
    "duration": 3,
    "start_time": "2024-12-18T20:14:24.217Z"
   },
   {
    "duration": 3,
    "start_time": "2024-12-18T20:14:24.221Z"
   },
   {
    "duration": 865,
    "start_time": "2024-12-18T20:14:24.227Z"
   },
   {
    "duration": 28,
    "start_time": "2024-12-18T20:14:25.094Z"
   },
   {
    "duration": 46,
    "start_time": "2024-12-18T20:14:25.124Z"
   },
   {
    "duration": 3,
    "start_time": "2024-12-18T20:14:25.171Z"
   },
   {
    "duration": 2,
    "start_time": "2024-12-18T20:14:25.176Z"
   },
   {
    "duration": 220,
    "start_time": "2024-12-18T20:14:30.644Z"
   },
   {
    "duration": 970,
    "start_time": "2024-12-18T20:14:36.113Z"
   },
   {
    "duration": 413,
    "start_time": "2024-12-18T20:14:37.086Z"
   },
   {
    "duration": 18,
    "start_time": "2024-12-18T20:14:37.501Z"
   },
   {
    "duration": 2,
    "start_time": "2024-12-18T20:14:37.521Z"
   },
   {
    "duration": 251,
    "start_time": "2024-12-18T20:14:37.526Z"
   },
   {
    "duration": 267,
    "start_time": "2024-12-18T20:14:37.779Z"
   },
   {
    "duration": 95,
    "start_time": "2024-12-18T20:14:38.048Z"
   },
   {
    "duration": 70,
    "start_time": "2024-12-18T20:14:38.145Z"
   },
   {
    "duration": 26,
    "start_time": "2024-12-18T20:14:38.216Z"
   },
   {
    "duration": 108,
    "start_time": "2024-12-18T20:14:38.244Z"
   },
   {
    "duration": 29,
    "start_time": "2024-12-18T20:14:38.354Z"
   },
   {
    "duration": 27,
    "start_time": "2024-12-18T20:14:38.385Z"
   },
   {
    "duration": 147,
    "start_time": "2024-12-18T20:14:38.414Z"
   },
   {
    "duration": 19,
    "start_time": "2024-12-18T20:14:38.564Z"
   },
   {
    "duration": 2,
    "start_time": "2024-12-18T20:14:38.585Z"
   },
   {
    "duration": 22,
    "start_time": "2024-12-18T20:14:38.589Z"
   },
   {
    "duration": 3,
    "start_time": "2024-12-18T20:14:38.613Z"
   },
   {
    "duration": 3,
    "start_time": "2024-12-18T20:14:38.617Z"
   },
   {
    "duration": 3,
    "start_time": "2024-12-18T20:14:38.622Z"
   },
   {
    "duration": 3,
    "start_time": "2024-12-18T20:14:38.626Z"
   },
   {
    "duration": 852,
    "start_time": "2024-12-18T20:14:38.631Z"
   },
   {
    "duration": 29,
    "start_time": "2024-12-18T20:14:39.484Z"
   },
   {
    "duration": 48,
    "start_time": "2024-12-18T20:14:39.514Z"
   },
   {
    "duration": 4,
    "start_time": "2024-12-18T20:14:39.563Z"
   },
   {
    "duration": 238,
    "start_time": "2024-12-18T20:14:39.569Z"
   },
   {
    "duration": 1002,
    "start_time": "2024-12-18T20:15:16.977Z"
   },
   {
    "duration": 405,
    "start_time": "2024-12-18T20:15:17.982Z"
   },
   {
    "duration": 23,
    "start_time": "2024-12-18T20:15:18.389Z"
   },
   {
    "duration": 2,
    "start_time": "2024-12-18T20:15:18.414Z"
   },
   {
    "duration": 242,
    "start_time": "2024-12-18T20:15:18.420Z"
   },
   {
    "duration": 260,
    "start_time": "2024-12-18T20:15:18.663Z"
   },
   {
    "duration": 97,
    "start_time": "2024-12-18T20:15:18.924Z"
   },
   {
    "duration": 59,
    "start_time": "2024-12-18T20:15:19.023Z"
   },
   {
    "duration": 42,
    "start_time": "2024-12-18T20:15:19.083Z"
   },
   {
    "duration": 96,
    "start_time": "2024-12-18T20:15:19.126Z"
   },
   {
    "duration": 29,
    "start_time": "2024-12-18T20:15:19.224Z"
   },
   {
    "duration": 7,
    "start_time": "2024-12-18T20:15:19.255Z"
   },
   {
    "duration": 162,
    "start_time": "2024-12-18T20:15:19.264Z"
   },
   {
    "duration": 18,
    "start_time": "2024-12-18T20:15:19.429Z"
   },
   {
    "duration": 3,
    "start_time": "2024-12-18T20:15:19.449Z"
   },
   {
    "duration": 3,
    "start_time": "2024-12-18T20:15:19.453Z"
   },
   {
    "duration": 3,
    "start_time": "2024-12-18T20:15:19.458Z"
   },
   {
    "duration": 4,
    "start_time": "2024-12-18T20:15:19.462Z"
   },
   {
    "duration": 3,
    "start_time": "2024-12-18T20:15:19.467Z"
   },
   {
    "duration": 3,
    "start_time": "2024-12-18T20:15:19.472Z"
   },
   {
    "duration": 866,
    "start_time": "2024-12-18T20:15:19.477Z"
   },
   {
    "duration": 21,
    "start_time": "2024-12-18T20:15:20.345Z"
   },
   {
    "duration": 61,
    "start_time": "2024-12-18T20:15:20.368Z"
   },
   {
    "duration": 2,
    "start_time": "2024-12-18T20:15:20.431Z"
   },
   {
    "duration": 1055,
    "start_time": "2024-12-18T20:16:44.930Z"
   },
   {
    "duration": 418,
    "start_time": "2024-12-18T20:16:45.987Z"
   },
   {
    "duration": 15,
    "start_time": "2024-12-18T20:16:46.406Z"
   },
   {
    "duration": 3,
    "start_time": "2024-12-18T20:16:46.422Z"
   },
   {
    "duration": 252,
    "start_time": "2024-12-18T20:16:46.427Z"
   },
   {
    "duration": 257,
    "start_time": "2024-12-18T20:16:46.681Z"
   },
   {
    "duration": 100,
    "start_time": "2024-12-18T20:16:46.940Z"
   },
   {
    "duration": 70,
    "start_time": "2024-12-18T20:16:47.042Z"
   },
   {
    "duration": 23,
    "start_time": "2024-12-18T20:16:47.114Z"
   },
   {
    "duration": 99,
    "start_time": "2024-12-18T20:16:47.139Z"
   },
   {
    "duration": 29,
    "start_time": "2024-12-18T20:16:47.240Z"
   },
   {
    "duration": 11,
    "start_time": "2024-12-18T20:16:47.271Z"
   },
   {
    "duration": 165,
    "start_time": "2024-12-18T20:16:47.284Z"
   },
   {
    "duration": 19,
    "start_time": "2024-12-18T20:16:47.453Z"
   },
   {
    "duration": 3,
    "start_time": "2024-12-18T20:16:47.473Z"
   },
   {
    "duration": 3,
    "start_time": "2024-12-18T20:16:47.477Z"
   },
   {
    "duration": 2,
    "start_time": "2024-12-18T20:16:47.482Z"
   },
   {
    "duration": 3,
    "start_time": "2024-12-18T20:16:47.486Z"
   },
   {
    "duration": 4,
    "start_time": "2024-12-18T20:16:47.514Z"
   },
   {
    "duration": 3,
    "start_time": "2024-12-18T20:16:47.519Z"
   },
   {
    "duration": 848,
    "start_time": "2024-12-18T20:16:47.524Z"
   },
   {
    "duration": 20,
    "start_time": "2024-12-18T20:16:48.374Z"
   },
   {
    "duration": 56,
    "start_time": "2024-12-18T20:16:48.396Z"
   },
   {
    "duration": 3,
    "start_time": "2024-12-18T20:16:48.454Z"
   },
   {
    "duration": 1025,
    "start_time": "2024-12-18T20:18:54.028Z"
   },
   {
    "duration": 415,
    "start_time": "2024-12-18T20:18:55.055Z"
   },
   {
    "duration": 13,
    "start_time": "2024-12-18T20:18:55.472Z"
   },
   {
    "duration": 3,
    "start_time": "2024-12-18T20:18:55.486Z"
   },
   {
    "duration": 255,
    "start_time": "2024-12-18T20:18:55.491Z"
   },
   {
    "duration": 258,
    "start_time": "2024-12-18T20:18:55.748Z"
   },
   {
    "duration": 89,
    "start_time": "2024-12-18T20:18:56.011Z"
   },
   {
    "duration": 64,
    "start_time": "2024-12-18T20:18:56.102Z"
   },
   {
    "duration": 23,
    "start_time": "2024-12-18T20:18:56.168Z"
   },
   {
    "duration": 43,
    "start_time": "2024-12-18T20:18:56.193Z"
   },
   {
    "duration": 7,
    "start_time": "2024-12-18T20:18:56.238Z"
   },
   {
    "duration": 153,
    "start_time": "2024-12-18T20:18:56.247Z"
   },
   {
    "duration": 22,
    "start_time": "2024-12-18T20:18:56.402Z"
   },
   {
    "duration": 2,
    "start_time": "2024-12-18T20:18:56.428Z"
   },
   {
    "duration": 4,
    "start_time": "2024-12-18T20:18:56.431Z"
   },
   {
    "duration": 3,
    "start_time": "2024-12-18T20:18:56.436Z"
   },
   {
    "duration": 3,
    "start_time": "2024-12-18T20:18:56.441Z"
   },
   {
    "duration": 3,
    "start_time": "2024-12-18T20:18:56.446Z"
   },
   {
    "duration": 862,
    "start_time": "2024-12-18T20:18:56.450Z"
   },
   {
    "duration": 10,
    "start_time": "2024-12-18T20:18:57.313Z"
   },
   {
    "duration": 48,
    "start_time": "2024-12-18T20:18:57.324Z"
   },
   {
    "duration": 4,
    "start_time": "2024-12-18T20:18:57.373Z"
   },
   {
    "duration": 990,
    "start_time": "2024-12-18T20:19:41.495Z"
   },
   {
    "duration": 408,
    "start_time": "2024-12-18T20:19:42.488Z"
   },
   {
    "duration": 16,
    "start_time": "2024-12-18T20:19:42.898Z"
   },
   {
    "duration": 2,
    "start_time": "2024-12-18T20:19:42.916Z"
   },
   {
    "duration": 248,
    "start_time": "2024-12-18T20:19:42.922Z"
   },
   {
    "duration": 249,
    "start_time": "2024-12-18T20:19:43.172Z"
   },
   {
    "duration": 98,
    "start_time": "2024-12-18T20:19:43.423Z"
   },
   {
    "duration": 58,
    "start_time": "2024-12-18T20:19:43.522Z"
   },
   {
    "duration": 36,
    "start_time": "2024-12-18T20:19:43.582Z"
   },
   {
    "duration": 27,
    "start_time": "2024-12-18T20:19:43.620Z"
   },
   {
    "duration": 7,
    "start_time": "2024-12-18T20:19:43.649Z"
   },
   {
    "duration": 159,
    "start_time": "2024-12-18T20:19:43.658Z"
   },
   {
    "duration": 19,
    "start_time": "2024-12-18T20:19:43.819Z"
   },
   {
    "duration": 2,
    "start_time": "2024-12-18T20:19:43.842Z"
   },
   {
    "duration": 3,
    "start_time": "2024-12-18T20:19:43.845Z"
   },
   {
    "duration": 3,
    "start_time": "2024-12-18T20:19:43.850Z"
   },
   {
    "duration": 3,
    "start_time": "2024-12-18T20:19:43.855Z"
   },
   {
    "duration": 3,
    "start_time": "2024-12-18T20:19:43.860Z"
   },
   {
    "duration": 869,
    "start_time": "2024-12-18T20:19:43.864Z"
   },
   {
    "duration": 9,
    "start_time": "2024-12-18T20:19:44.735Z"
   },
   {
    "duration": 50,
    "start_time": "2024-12-18T20:19:44.746Z"
   },
   {
    "duration": 4,
    "start_time": "2024-12-18T20:19:44.812Z"
   },
   {
    "duration": 4,
    "start_time": "2024-12-18T20:19:44.817Z"
   },
   {
    "duration": 1005,
    "start_time": "2024-12-18T20:21:53.904Z"
   },
   {
    "duration": 423,
    "start_time": "2024-12-18T20:21:54.911Z"
   },
   {
    "duration": 12,
    "start_time": "2024-12-18T20:21:55.336Z"
   },
   {
    "duration": 2,
    "start_time": "2024-12-18T20:21:55.350Z"
   },
   {
    "duration": 255,
    "start_time": "2024-12-18T20:21:55.355Z"
   },
   {
    "duration": 270,
    "start_time": "2024-12-18T20:21:55.613Z"
   },
   {
    "duration": 104,
    "start_time": "2024-12-18T20:21:55.885Z"
   },
   {
    "duration": 79,
    "start_time": "2024-12-18T20:21:55.991Z"
   },
   {
    "duration": 24,
    "start_time": "2024-12-18T20:21:56.071Z"
   },
   {
    "duration": 38,
    "start_time": "2024-12-18T20:21:56.097Z"
   },
   {
    "duration": 7,
    "start_time": "2024-12-18T20:21:56.137Z"
   },
   {
    "duration": 156,
    "start_time": "2024-12-18T20:21:56.146Z"
   },
   {
    "duration": 21,
    "start_time": "2024-12-18T20:21:56.305Z"
   },
   {
    "duration": 2,
    "start_time": "2024-12-18T20:21:56.329Z"
   },
   {
    "duration": 3,
    "start_time": "2024-12-18T20:21:56.333Z"
   },
   {
    "duration": 3,
    "start_time": "2024-12-18T20:21:56.337Z"
   },
   {
    "duration": 3,
    "start_time": "2024-12-18T20:21:56.342Z"
   },
   {
    "duration": 4,
    "start_time": "2024-12-18T20:21:56.346Z"
   },
   {
    "duration": 864,
    "start_time": "2024-12-18T20:21:56.351Z"
   },
   {
    "duration": 12,
    "start_time": "2024-12-18T20:21:57.217Z"
   },
   {
    "duration": 54,
    "start_time": "2024-12-18T20:21:57.230Z"
   },
   {
    "duration": 3,
    "start_time": "2024-12-18T20:21:57.286Z"
   },
   {
    "duration": 22,
    "start_time": "2024-12-18T20:21:57.291Z"
   },
   {
    "duration": 1018,
    "start_time": "2024-12-18T20:22:20.450Z"
   },
   {
    "duration": 409,
    "start_time": "2024-12-18T20:22:21.470Z"
   },
   {
    "duration": 14,
    "start_time": "2024-12-18T20:22:21.881Z"
   },
   {
    "duration": 3,
    "start_time": "2024-12-18T20:22:21.896Z"
   },
   {
    "duration": 228,
    "start_time": "2024-12-18T20:22:21.911Z"
   },
   {
    "duration": 253,
    "start_time": "2024-12-18T20:22:22.141Z"
   },
   {
    "duration": 100,
    "start_time": "2024-12-18T20:22:22.396Z"
   },
   {
    "duration": 65,
    "start_time": "2024-12-18T20:22:22.498Z"
   },
   {
    "duration": 24,
    "start_time": "2024-12-18T20:22:22.564Z"
   },
   {
    "duration": 42,
    "start_time": "2024-12-18T20:22:22.589Z"
   },
   {
    "duration": 7,
    "start_time": "2024-12-18T20:22:22.634Z"
   },
   {
    "duration": 163,
    "start_time": "2024-12-18T20:22:22.643Z"
   },
   {
    "duration": 20,
    "start_time": "2024-12-18T20:22:22.808Z"
   },
   {
    "duration": 2,
    "start_time": "2024-12-18T20:22:22.832Z"
   },
   {
    "duration": 2,
    "start_time": "2024-12-18T20:22:22.836Z"
   },
   {
    "duration": 3,
    "start_time": "2024-12-18T20:22:22.840Z"
   },
   {
    "duration": 3,
    "start_time": "2024-12-18T20:22:22.844Z"
   },
   {
    "duration": 4,
    "start_time": "2024-12-18T20:22:22.848Z"
   },
   {
    "duration": 893,
    "start_time": "2024-12-18T20:22:22.853Z"
   },
   {
    "duration": 29,
    "start_time": "2024-12-18T20:22:23.748Z"
   },
   {
    "duration": 58,
    "start_time": "2024-12-18T20:22:23.779Z"
   },
   {
    "duration": 4,
    "start_time": "2024-12-18T20:22:23.838Z"
   },
   {
    "duration": 2,
    "start_time": "2024-12-18T20:22:23.844Z"
   },
   {
    "duration": 967,
    "start_time": "2024-12-18T20:23:01.174Z"
   },
   {
    "duration": 395,
    "start_time": "2024-12-18T20:23:02.143Z"
   },
   {
    "duration": 13,
    "start_time": "2024-12-18T20:23:02.540Z"
   },
   {
    "duration": 4,
    "start_time": "2024-12-18T20:23:02.554Z"
   },
   {
    "duration": 254,
    "start_time": "2024-12-18T20:23:02.560Z"
   },
   {
    "duration": 248,
    "start_time": "2024-12-18T20:23:02.816Z"
   },
   {
    "duration": 95,
    "start_time": "2024-12-18T20:23:03.066Z"
   },
   {
    "duration": 67,
    "start_time": "2024-12-18T20:23:03.163Z"
   },
   {
    "duration": 26,
    "start_time": "2024-12-18T20:23:03.232Z"
   },
   {
    "duration": 26,
    "start_time": "2024-12-18T20:23:03.260Z"
   },
   {
    "duration": 25,
    "start_time": "2024-12-18T20:23:03.288Z"
   },
   {
    "duration": 152,
    "start_time": "2024-12-18T20:23:03.315Z"
   },
   {
    "duration": 18,
    "start_time": "2024-12-18T20:23:03.468Z"
   },
   {
    "duration": 2,
    "start_time": "2024-12-18T20:23:03.490Z"
   },
   {
    "duration": 18,
    "start_time": "2024-12-18T20:23:03.494Z"
   },
   {
    "duration": 4,
    "start_time": "2024-12-18T20:23:03.513Z"
   },
   {
    "duration": 4,
    "start_time": "2024-12-18T20:23:03.518Z"
   },
   {
    "duration": 3,
    "start_time": "2024-12-18T20:23:03.523Z"
   },
   {
    "duration": 843,
    "start_time": "2024-12-18T20:23:03.529Z"
   },
   {
    "duration": 20,
    "start_time": "2024-12-18T20:23:04.374Z"
   },
   {
    "duration": 57,
    "start_time": "2024-12-18T20:23:04.396Z"
   },
   {
    "duration": 3,
    "start_time": "2024-12-18T20:23:04.455Z"
   },
   {
    "duration": 2,
    "start_time": "2024-12-18T20:23:04.461Z"
   },
   {
    "duration": 25002,
    "start_time": "2024-12-18T20:23:04.465Z"
   },
   {
    "duration": 224,
    "start_time": "2024-12-18T20:24:20.964Z"
   },
   {
    "duration": 2,
    "start_time": "2024-12-18T20:24:36.051Z"
   },
   {
    "duration": 157,
    "start_time": "2024-12-18T20:26:04.011Z"
   },
   {
    "duration": 1020,
    "start_time": "2024-12-18T20:26:08.775Z"
   },
   {
    "duration": 456,
    "start_time": "2024-12-18T20:26:09.797Z"
   },
   {
    "duration": 13,
    "start_time": "2024-12-18T20:26:10.254Z"
   },
   {
    "duration": 2,
    "start_time": "2024-12-18T20:26:10.269Z"
   },
   {
    "duration": 255,
    "start_time": "2024-12-18T20:26:10.274Z"
   },
   {
    "duration": 261,
    "start_time": "2024-12-18T20:26:10.531Z"
   },
   {
    "duration": 96,
    "start_time": "2024-12-18T20:26:10.794Z"
   },
   {
    "duration": 67,
    "start_time": "2024-12-18T20:26:10.892Z"
   },
   {
    "duration": 23,
    "start_time": "2024-12-18T20:26:10.961Z"
   },
   {
    "duration": 34,
    "start_time": "2024-12-18T20:26:10.986Z"
   },
   {
    "duration": 7,
    "start_time": "2024-12-18T20:26:11.022Z"
   },
   {
    "duration": 153,
    "start_time": "2024-12-18T20:26:11.031Z"
   },
   {
    "duration": 27,
    "start_time": "2024-12-18T20:26:11.186Z"
   },
   {
    "duration": 2,
    "start_time": "2024-12-18T20:26:11.217Z"
   },
   {
    "duration": 3,
    "start_time": "2024-12-18T20:26:11.221Z"
   },
   {
    "duration": 2,
    "start_time": "2024-12-18T20:26:11.226Z"
   },
   {
    "duration": 3,
    "start_time": "2024-12-18T20:26:11.230Z"
   },
   {
    "duration": 3,
    "start_time": "2024-12-18T20:26:11.235Z"
   },
   {
    "duration": 871,
    "start_time": "2024-12-18T20:26:11.241Z"
   },
   {
    "duration": 19,
    "start_time": "2024-12-18T20:26:12.114Z"
   },
   {
    "duration": 47,
    "start_time": "2024-12-18T20:26:12.135Z"
   },
   {
    "duration": 3,
    "start_time": "2024-12-18T20:26:12.184Z"
   },
   {
    "duration": 4,
    "start_time": "2024-12-18T20:26:12.212Z"
   },
   {
    "duration": 25077,
    "start_time": "2024-12-18T20:26:12.217Z"
   },
   {
    "duration": 3,
    "start_time": "2024-12-18T20:26:37.296Z"
   },
   {
    "duration": 1322,
    "start_time": "2024-12-18T20:26:37.301Z"
   },
   {
    "duration": 1048,
    "start_time": "2024-12-18T20:29:17.833Z"
   },
   {
    "duration": 411,
    "start_time": "2024-12-18T20:29:18.883Z"
   },
   {
    "duration": 18,
    "start_time": "2024-12-18T20:29:19.296Z"
   },
   {
    "duration": 3,
    "start_time": "2024-12-18T20:29:19.316Z"
   },
   {
    "duration": 239,
    "start_time": "2024-12-18T20:29:19.321Z"
   },
   {
    "duration": 259,
    "start_time": "2024-12-18T20:29:19.562Z"
   },
   {
    "duration": 99,
    "start_time": "2024-12-18T20:29:19.822Z"
   },
   {
    "duration": 63,
    "start_time": "2024-12-18T20:29:19.923Z"
   },
   {
    "duration": 43,
    "start_time": "2024-12-18T20:29:19.988Z"
   },
   {
    "duration": 26,
    "start_time": "2024-12-18T20:29:20.033Z"
   },
   {
    "duration": 7,
    "start_time": "2024-12-18T20:29:20.061Z"
   },
   {
    "duration": 156,
    "start_time": "2024-12-18T20:29:20.069Z"
   },
   {
    "duration": 20,
    "start_time": "2024-12-18T20:29:20.227Z"
   },
   {
    "duration": 843,
    "start_time": "2024-12-18T20:29:20.249Z"
   },
   {
    "duration": 29,
    "start_time": "2024-12-18T20:29:21.093Z"
   },
   {
    "duration": 44,
    "start_time": "2024-12-18T20:29:21.123Z"
   },
   {
    "duration": 3,
    "start_time": "2024-12-18T20:29:21.169Z"
   },
   {
    "duration": 239,
    "start_time": "2024-12-18T20:29:21.174Z"
   },
   {
    "duration": 0,
    "start_time": "2024-12-18T20:29:21.415Z"
   },
   {
    "duration": 0,
    "start_time": "2024-12-18T20:29:21.417Z"
   },
   {
    "duration": 0,
    "start_time": "2024-12-18T20:29:21.418Z"
   },
   {
    "duration": 0,
    "start_time": "2024-12-18T20:29:21.420Z"
   },
   {
    "duration": 989,
    "start_time": "2024-12-18T20:29:29.888Z"
   },
   {
    "duration": 399,
    "start_time": "2024-12-18T20:29:30.879Z"
   },
   {
    "duration": 14,
    "start_time": "2024-12-18T20:29:31.280Z"
   },
   {
    "duration": 2,
    "start_time": "2024-12-18T20:29:31.295Z"
   },
   {
    "duration": 226,
    "start_time": "2024-12-18T20:29:31.312Z"
   },
   {
    "duration": 249,
    "start_time": "2024-12-18T20:29:31.540Z"
   },
   {
    "duration": 98,
    "start_time": "2024-12-18T20:29:31.791Z"
   },
   {
    "duration": 62,
    "start_time": "2024-12-18T20:29:31.891Z"
   },
   {
    "duration": 23,
    "start_time": "2024-12-18T20:29:31.955Z"
   },
   {
    "duration": 45,
    "start_time": "2024-12-18T20:29:31.980Z"
   },
   {
    "duration": 7,
    "start_time": "2024-12-18T20:29:32.026Z"
   },
   {
    "duration": 150,
    "start_time": "2024-12-18T20:29:32.035Z"
   },
   {
    "duration": 28,
    "start_time": "2024-12-18T20:29:32.187Z"
   },
   {
    "duration": 840,
    "start_time": "2024-12-18T20:29:32.218Z"
   },
   {
    "duration": 19,
    "start_time": "2024-12-18T20:29:33.060Z"
   },
   {
    "duration": 58,
    "start_time": "2024-12-18T20:29:33.081Z"
   },
   {
    "duration": 3,
    "start_time": "2024-12-18T20:29:33.141Z"
   },
   {
    "duration": 1003,
    "start_time": "2024-12-18T20:29:51.991Z"
   },
   {
    "duration": 468,
    "start_time": "2024-12-18T20:29:52.996Z"
   },
   {
    "duration": 13,
    "start_time": "2024-12-18T20:29:53.465Z"
   },
   {
    "duration": 2,
    "start_time": "2024-12-18T20:29:53.481Z"
   },
   {
    "duration": 243,
    "start_time": "2024-12-18T20:29:53.486Z"
   },
   {
    "duration": 261,
    "start_time": "2024-12-18T20:29:53.731Z"
   },
   {
    "duration": 95,
    "start_time": "2024-12-18T20:29:53.994Z"
   },
   {
    "duration": 70,
    "start_time": "2024-12-18T20:29:54.091Z"
   },
   {
    "duration": 25,
    "start_time": "2024-12-18T20:29:54.164Z"
   },
   {
    "duration": 40,
    "start_time": "2024-12-18T20:29:54.191Z"
   },
   {
    "duration": 8,
    "start_time": "2024-12-18T20:29:54.233Z"
   },
   {
    "duration": 157,
    "start_time": "2024-12-18T20:29:54.242Z"
   },
   {
    "duration": 22,
    "start_time": "2024-12-18T20:29:54.401Z"
   },
   {
    "duration": 867,
    "start_time": "2024-12-18T20:29:54.427Z"
   },
   {
    "duration": 26,
    "start_time": "2024-12-18T20:29:55.296Z"
   },
   {
    "duration": 45,
    "start_time": "2024-12-18T20:29:55.324Z"
   },
   {
    "duration": 3,
    "start_time": "2024-12-18T20:29:55.371Z"
   },
   {
    "duration": 1028,
    "start_time": "2024-12-18T20:30:09.672Z"
   },
   {
    "duration": 467,
    "start_time": "2024-12-18T20:30:10.703Z"
   },
   {
    "duration": 14,
    "start_time": "2024-12-18T20:30:11.171Z"
   },
   {
    "duration": 2,
    "start_time": "2024-12-18T20:30:11.187Z"
   },
   {
    "duration": 241,
    "start_time": "2024-12-18T20:30:11.212Z"
   },
   {
    "duration": 262,
    "start_time": "2024-12-18T20:30:11.455Z"
   },
   {
    "duration": 101,
    "start_time": "2024-12-18T20:30:11.720Z"
   },
   {
    "duration": 60,
    "start_time": "2024-12-18T20:30:11.822Z"
   },
   {
    "duration": 41,
    "start_time": "2024-12-18T20:30:11.884Z"
   },
   {
    "duration": 27,
    "start_time": "2024-12-18T20:30:11.926Z"
   },
   {
    "duration": 8,
    "start_time": "2024-12-18T20:30:11.955Z"
   },
   {
    "duration": 161,
    "start_time": "2024-12-18T20:30:11.965Z"
   },
   {
    "duration": 21,
    "start_time": "2024-12-18T20:30:12.127Z"
   },
   {
    "duration": 831,
    "start_time": "2024-12-18T20:30:12.150Z"
   },
   {
    "duration": 20,
    "start_time": "2024-12-18T20:30:12.982Z"
   },
   {
    "duration": 50,
    "start_time": "2024-12-18T20:30:13.012Z"
   },
   {
    "duration": 2,
    "start_time": "2024-12-18T20:30:13.064Z"
   },
   {
    "duration": 4,
    "start_time": "2024-12-18T20:30:13.068Z"
   },
   {
    "duration": 4,
    "start_time": "2024-12-18T20:30:13.074Z"
   },
   {
    "duration": 25109,
    "start_time": "2024-12-18T20:30:13.080Z"
   },
   {
    "duration": 2,
    "start_time": "2024-12-18T20:30:38.191Z"
   },
   {
    "duration": 1317,
    "start_time": "2024-12-18T20:30:38.195Z"
   },
   {
    "duration": 338,
    "start_time": "2024-12-18T20:32:18.356Z"
   },
   {
    "duration": 1005,
    "start_time": "2024-12-18T20:32:25.924Z"
   },
   {
    "duration": 420,
    "start_time": "2024-12-18T20:32:26.931Z"
   },
   {
    "duration": 13,
    "start_time": "2024-12-18T20:32:27.352Z"
   },
   {
    "duration": 3,
    "start_time": "2024-12-18T20:32:27.367Z"
   },
   {
    "duration": 240,
    "start_time": "2024-12-18T20:32:27.372Z"
   },
   {
    "duration": 256,
    "start_time": "2024-12-18T20:32:27.614Z"
   },
   {
    "duration": 100,
    "start_time": "2024-12-18T20:32:27.873Z"
   },
   {
    "duration": 71,
    "start_time": "2024-12-18T20:32:27.975Z"
   },
   {
    "duration": 25,
    "start_time": "2024-12-18T20:32:28.048Z"
   },
   {
    "duration": 37,
    "start_time": "2024-12-18T20:32:28.075Z"
   },
   {
    "duration": 6,
    "start_time": "2024-12-18T20:32:28.114Z"
   },
   {
    "duration": 152,
    "start_time": "2024-12-18T20:32:28.122Z"
   },
   {
    "duration": 20,
    "start_time": "2024-12-18T20:32:28.275Z"
   },
   {
    "duration": 841,
    "start_time": "2024-12-18T20:32:28.311Z"
   },
   {
    "duration": 18,
    "start_time": "2024-12-18T20:32:29.154Z"
   },
   {
    "duration": 51,
    "start_time": "2024-12-18T20:32:29.174Z"
   },
   {
    "duration": 3,
    "start_time": "2024-12-18T20:32:29.227Z"
   },
   {
    "duration": 3,
    "start_time": "2024-12-18T20:32:29.231Z"
   },
   {
    "duration": 2,
    "start_time": "2024-12-18T20:32:29.236Z"
   },
   {
    "duration": 25050,
    "start_time": "2024-12-18T20:32:29.240Z"
   },
   {
    "duration": 408,
    "start_time": "2024-12-18T20:32:54.292Z"
   },
   {
    "duration": 0,
    "start_time": "2024-12-18T20:32:54.702Z"
   },
   {
    "duration": 0,
    "start_time": "2024-12-18T20:32:54.702Z"
   },
   {
    "duration": 1,
    "start_time": "2024-12-18T20:32:54.703Z"
   },
   {
    "duration": 988,
    "start_time": "2024-12-18T20:33:33.311Z"
   },
   {
    "duration": 410,
    "start_time": "2024-12-18T20:33:34.302Z"
   },
   {
    "duration": 15,
    "start_time": "2024-12-18T20:33:34.716Z"
   },
   {
    "duration": 2,
    "start_time": "2024-12-18T20:33:34.732Z"
   },
   {
    "duration": 259,
    "start_time": "2024-12-18T20:33:34.737Z"
   },
   {
    "duration": 275,
    "start_time": "2024-12-18T20:33:34.998Z"
   },
   {
    "duration": 99,
    "start_time": "2024-12-18T20:33:35.275Z"
   },
   {
    "duration": 72,
    "start_time": "2024-12-18T20:33:35.376Z"
   },
   {
    "duration": 29,
    "start_time": "2024-12-18T20:33:35.449Z"
   },
   {
    "duration": 38,
    "start_time": "2024-12-18T20:33:35.480Z"
   },
   {
    "duration": 7,
    "start_time": "2024-12-18T20:33:35.520Z"
   },
   {
    "duration": 161,
    "start_time": "2024-12-18T20:33:35.528Z"
   },
   {
    "duration": 25,
    "start_time": "2024-12-18T20:33:35.691Z"
   },
   {
    "duration": 844,
    "start_time": "2024-12-18T20:33:35.720Z"
   },
   {
    "duration": 19,
    "start_time": "2024-12-18T20:33:36.566Z"
   },
   {
    "duration": 62,
    "start_time": "2024-12-18T20:33:36.587Z"
   },
   {
    "duration": 3,
    "start_time": "2024-12-18T20:33:36.651Z"
   },
   {
    "duration": 3,
    "start_time": "2024-12-18T20:33:36.656Z"
   },
   {
    "duration": 5,
    "start_time": "2024-12-18T20:33:36.660Z"
   },
   {
    "duration": 25046,
    "start_time": "2024-12-18T20:33:36.666Z"
   },
   {
    "duration": 1015,
    "start_time": "2024-12-18T20:35:14.688Z"
   },
   {
    "duration": 451,
    "start_time": "2024-12-18T20:35:15.706Z"
   },
   {
    "duration": 13,
    "start_time": "2024-12-18T20:35:16.159Z"
   },
   {
    "duration": 2,
    "start_time": "2024-12-18T20:35:16.174Z"
   },
   {
    "duration": 254,
    "start_time": "2024-12-18T20:35:16.179Z"
   },
   {
    "duration": 281,
    "start_time": "2024-12-18T20:35:16.435Z"
   },
   {
    "duration": 101,
    "start_time": "2024-12-18T20:35:16.718Z"
   },
   {
    "duration": 57,
    "start_time": "2024-12-18T20:35:16.821Z"
   },
   {
    "duration": 36,
    "start_time": "2024-12-18T20:35:16.880Z"
   },
   {
    "duration": 28,
    "start_time": "2024-12-18T20:35:16.918Z"
   },
   {
    "duration": 8,
    "start_time": "2024-12-18T20:35:16.949Z"
   },
   {
    "duration": 164,
    "start_time": "2024-12-18T20:35:16.960Z"
   },
   {
    "duration": 19,
    "start_time": "2024-12-18T20:35:17.126Z"
   },
   {
    "duration": 847,
    "start_time": "2024-12-18T20:35:17.149Z"
   },
   {
    "duration": 31,
    "start_time": "2024-12-18T20:35:17.998Z"
   },
   {
    "duration": 50,
    "start_time": "2024-12-18T20:35:18.031Z"
   },
   {
    "duration": 3,
    "start_time": "2024-12-18T20:35:18.082Z"
   },
   {
    "duration": 2,
    "start_time": "2024-12-18T20:35:18.087Z"
   },
   {
    "duration": 3,
    "start_time": "2024-12-18T20:35:18.091Z"
   },
   {
    "duration": 25013,
    "start_time": "2024-12-18T20:35:18.112Z"
   },
   {
    "duration": 1060,
    "start_time": "2024-12-18T20:38:38.952Z"
   },
   {
    "duration": 443,
    "start_time": "2024-12-18T20:38:40.015Z"
   },
   {
    "duration": 14,
    "start_time": "2024-12-18T20:38:40.460Z"
   },
   {
    "duration": 2,
    "start_time": "2024-12-18T20:38:40.476Z"
   },
   {
    "duration": 266,
    "start_time": "2024-12-18T20:38:40.481Z"
   },
   {
    "duration": 263,
    "start_time": "2024-12-18T20:38:40.748Z"
   },
   {
    "duration": 98,
    "start_time": "2024-12-18T20:38:41.013Z"
   },
   {
    "duration": 57,
    "start_time": "2024-12-18T20:38:41.113Z"
   },
   {
    "duration": 41,
    "start_time": "2024-12-18T20:38:41.172Z"
   },
   {
    "duration": 26,
    "start_time": "2024-12-18T20:38:41.214Z"
   },
   {
    "duration": 7,
    "start_time": "2024-12-18T20:38:41.242Z"
   },
   {
    "duration": 156,
    "start_time": "2024-12-18T20:38:41.251Z"
   },
   {
    "duration": 19,
    "start_time": "2024-12-18T20:38:41.411Z"
   },
   {
    "duration": 844,
    "start_time": "2024-12-18T20:38:41.434Z"
   },
   {
    "duration": 19,
    "start_time": "2024-12-18T20:38:42.280Z"
   },
   {
    "duration": 47,
    "start_time": "2024-12-18T20:38:42.312Z"
   },
   {
    "duration": 2,
    "start_time": "2024-12-18T20:38:42.361Z"
   },
   {
    "duration": 2,
    "start_time": "2024-12-18T20:38:42.365Z"
   },
   {
    "duration": 3,
    "start_time": "2024-12-18T20:38:42.369Z"
   },
   {
    "duration": 3774,
    "start_time": "2024-12-18T20:38:42.373Z"
   },
   {
    "duration": 1027,
    "start_time": "2024-12-18T20:38:59.320Z"
   },
   {
    "duration": 457,
    "start_time": "2024-12-18T20:39:00.349Z"
   },
   {
    "duration": 14,
    "start_time": "2024-12-18T20:39:00.808Z"
   },
   {
    "duration": 2,
    "start_time": "2024-12-18T20:39:00.825Z"
   },
   {
    "duration": 240,
    "start_time": "2024-12-18T20:39:00.829Z"
   },
   {
    "duration": 254,
    "start_time": "2024-12-18T20:39:01.071Z"
   },
   {
    "duration": 94,
    "start_time": "2024-12-18T20:39:01.327Z"
   },
   {
    "duration": 60,
    "start_time": "2024-12-18T20:39:01.423Z"
   },
   {
    "duration": 40,
    "start_time": "2024-12-18T20:39:01.485Z"
   },
   {
    "duration": 26,
    "start_time": "2024-12-18T20:39:01.529Z"
   },
   {
    "duration": 7,
    "start_time": "2024-12-18T20:39:01.556Z"
   },
   {
    "duration": 159,
    "start_time": "2024-12-18T20:39:01.565Z"
   },
   {
    "duration": 21,
    "start_time": "2024-12-18T20:39:01.725Z"
   },
   {
    "duration": 841,
    "start_time": "2024-12-18T20:39:01.748Z"
   },
   {
    "duration": 25,
    "start_time": "2024-12-18T20:39:02.591Z"
   },
   {
    "duration": 44,
    "start_time": "2024-12-18T20:39:02.617Z"
   },
   {
    "duration": 2,
    "start_time": "2024-12-18T20:39:02.663Z"
   },
   {
    "duration": 3,
    "start_time": "2024-12-18T20:39:02.667Z"
   },
   {
    "duration": 3,
    "start_time": "2024-12-18T20:39:02.671Z"
   },
   {
    "duration": 3085,
    "start_time": "2024-12-18T20:39:02.675Z"
   },
   {
    "duration": 1024,
    "start_time": "2024-12-18T20:39:57.994Z"
   },
   {
    "duration": 449,
    "start_time": "2024-12-18T20:39:59.020Z"
   },
   {
    "duration": 14,
    "start_time": "2024-12-18T20:39:59.471Z"
   },
   {
    "duration": 2,
    "start_time": "2024-12-18T20:39:59.487Z"
   },
   {
    "duration": 235,
    "start_time": "2024-12-18T20:39:59.493Z"
   },
   {
    "duration": 262,
    "start_time": "2024-12-18T20:39:59.730Z"
   },
   {
    "duration": 96,
    "start_time": "2024-12-18T20:39:59.993Z"
   },
   {
    "duration": 72,
    "start_time": "2024-12-18T20:40:00.090Z"
   },
   {
    "duration": 24,
    "start_time": "2024-12-18T20:40:00.164Z"
   },
   {
    "duration": 37,
    "start_time": "2024-12-18T20:40:00.189Z"
   },
   {
    "duration": 7,
    "start_time": "2024-12-18T20:40:00.228Z"
   },
   {
    "duration": 160,
    "start_time": "2024-12-18T20:40:00.237Z"
   },
   {
    "duration": 18,
    "start_time": "2024-12-18T20:40:00.398Z"
   },
   {
    "duration": 838,
    "start_time": "2024-12-18T20:40:00.420Z"
   },
   {
    "duration": 22,
    "start_time": "2024-12-18T20:40:01.260Z"
   },
   {
    "duration": 54,
    "start_time": "2024-12-18T20:40:01.284Z"
   },
   {
    "duration": 3,
    "start_time": "2024-12-18T20:40:01.340Z"
   },
   {
    "duration": 4,
    "start_time": "2024-12-18T20:40:01.345Z"
   },
   {
    "duration": 5,
    "start_time": "2024-12-18T20:40:01.350Z"
   },
   {
    "duration": 3039,
    "start_time": "2024-12-18T20:40:01.357Z"
   },
   {
    "duration": 1061,
    "start_time": "2024-12-18T20:40:22.540Z"
   },
   {
    "duration": 446,
    "start_time": "2024-12-18T20:40:23.604Z"
   },
   {
    "duration": 13,
    "start_time": "2024-12-18T20:40:24.052Z"
   },
   {
    "duration": 2,
    "start_time": "2024-12-18T20:40:24.067Z"
   },
   {
    "duration": 253,
    "start_time": "2024-12-18T20:40:24.072Z"
   },
   {
    "duration": 274,
    "start_time": "2024-12-18T20:40:24.327Z"
   },
   {
    "duration": 104,
    "start_time": "2024-12-18T20:40:24.603Z"
   },
   {
    "duration": 69,
    "start_time": "2024-12-18T20:40:24.712Z"
   },
   {
    "duration": 39,
    "start_time": "2024-12-18T20:40:24.783Z"
   },
   {
    "duration": 27,
    "start_time": "2024-12-18T20:40:24.823Z"
   },
   {
    "duration": 8,
    "start_time": "2024-12-18T20:40:24.851Z"
   },
   {
    "duration": 158,
    "start_time": "2024-12-18T20:40:24.860Z"
   },
   {
    "duration": 19,
    "start_time": "2024-12-18T20:40:25.020Z"
   },
   {
    "duration": 866,
    "start_time": "2024-12-18T20:40:25.042Z"
   },
   {
    "duration": 20,
    "start_time": "2024-12-18T20:40:25.911Z"
   },
   {
    "duration": 48,
    "start_time": "2024-12-18T20:40:25.932Z"
   },
   {
    "duration": 2,
    "start_time": "2024-12-18T20:40:25.982Z"
   },
   {
    "duration": 27,
    "start_time": "2024-12-18T20:40:25.986Z"
   },
   {
    "duration": 3,
    "start_time": "2024-12-18T20:40:26.015Z"
   },
   {
    "duration": 919,
    "start_time": "2024-12-18T20:40:26.019Z"
   },
   {
    "duration": 1006,
    "start_time": "2024-12-18T20:40:47.906Z"
   },
   {
    "duration": 443,
    "start_time": "2024-12-18T20:40:48.914Z"
   },
   {
    "duration": 14,
    "start_time": "2024-12-18T20:40:49.359Z"
   },
   {
    "duration": 3,
    "start_time": "2024-12-18T20:40:49.374Z"
   },
   {
    "duration": 254,
    "start_time": "2024-12-18T20:40:49.379Z"
   },
   {
    "duration": 276,
    "start_time": "2024-12-18T20:40:49.635Z"
   },
   {
    "duration": 113,
    "start_time": "2024-12-18T20:40:49.913Z"
   },
   {
    "duration": 59,
    "start_time": "2024-12-18T20:40:50.028Z"
   },
   {
    "duration": 36,
    "start_time": "2024-12-18T20:40:50.088Z"
   },
   {
    "duration": 27,
    "start_time": "2024-12-18T20:40:50.126Z"
   },
   {
    "duration": 8,
    "start_time": "2024-12-18T20:40:50.154Z"
   },
   {
    "duration": 157,
    "start_time": "2024-12-18T20:40:50.163Z"
   },
   {
    "duration": 18,
    "start_time": "2024-12-18T20:40:50.322Z"
   },
   {
    "duration": 858,
    "start_time": "2024-12-18T20:40:50.344Z"
   },
   {
    "duration": 24,
    "start_time": "2024-12-18T20:40:51.203Z"
   },
   {
    "duration": 45,
    "start_time": "2024-12-18T20:40:51.228Z"
   },
   {
    "duration": 3,
    "start_time": "2024-12-18T20:40:51.275Z"
   },
   {
    "duration": 3,
    "start_time": "2024-12-18T20:40:51.279Z"
   },
   {
    "duration": 3,
    "start_time": "2024-12-18T20:40:51.284Z"
   },
   {
    "duration": 907,
    "start_time": "2024-12-18T20:40:51.312Z"
   },
   {
    "duration": 1046,
    "start_time": "2024-12-18T20:44:45.440Z"
   },
   {
    "duration": 1036,
    "start_time": "2024-12-18T20:48:32.862Z"
   },
   {
    "duration": 454,
    "start_time": "2024-12-18T20:48:33.901Z"
   },
   {
    "duration": 13,
    "start_time": "2024-12-18T20:48:34.357Z"
   },
   {
    "duration": 2,
    "start_time": "2024-12-18T20:48:34.372Z"
   },
   {
    "duration": 246,
    "start_time": "2024-12-18T20:48:34.377Z"
   },
   {
    "duration": 275,
    "start_time": "2024-12-18T20:48:34.625Z"
   },
   {
    "duration": 100,
    "start_time": "2024-12-18T20:48:34.902Z"
   },
   {
    "duration": 65,
    "start_time": "2024-12-18T20:48:35.004Z"
   },
   {
    "duration": 556,
    "start_time": "2024-12-18T20:48:35.071Z"
   },
   {
    "duration": 57,
    "start_time": "2024-12-18T20:48:35.629Z"
   },
   {
    "duration": 37,
    "start_time": "2024-12-18T20:48:35.687Z"
   },
   {
    "duration": 25,
    "start_time": "2024-12-18T20:48:35.726Z"
   },
   {
    "duration": 6,
    "start_time": "2024-12-18T20:48:35.753Z"
   },
   {
    "duration": 156,
    "start_time": "2024-12-18T20:48:35.763Z"
   },
   {
    "duration": 18,
    "start_time": "2024-12-18T20:48:35.921Z"
   },
   {
    "duration": 847,
    "start_time": "2024-12-18T20:48:35.940Z"
   },
   {
    "duration": 28,
    "start_time": "2024-12-18T20:48:36.789Z"
   },
   {
    "duration": 45,
    "start_time": "2024-12-18T20:48:36.819Z"
   },
   {
    "duration": 3,
    "start_time": "2024-12-18T20:48:36.866Z"
   },
   {
    "duration": 3,
    "start_time": "2024-12-18T20:48:36.870Z"
   },
   {
    "duration": 3,
    "start_time": "2024-12-18T20:48:36.875Z"
   },
   {
    "duration": 939,
    "start_time": "2024-12-18T20:48:36.881Z"
   },
   {
    "duration": 999,
    "start_time": "2024-12-18T20:48:55.498Z"
   },
   {
    "duration": 445,
    "start_time": "2024-12-18T20:48:56.500Z"
   },
   {
    "duration": 13,
    "start_time": "2024-12-18T20:48:56.946Z"
   },
   {
    "duration": 2,
    "start_time": "2024-12-18T20:48:56.961Z"
   },
   {
    "duration": 239,
    "start_time": "2024-12-18T20:48:56.967Z"
   },
   {
    "duration": 267,
    "start_time": "2024-12-18T20:48:57.208Z"
   },
   {
    "duration": 98,
    "start_time": "2024-12-18T20:48:57.477Z"
   },
   {
    "duration": 71,
    "start_time": "2024-12-18T20:48:57.577Z"
   },
   {
    "duration": 530,
    "start_time": "2024-12-18T20:48:57.650Z"
   },
   {
    "duration": 58,
    "start_time": "2024-12-18T20:48:58.182Z"
   },
   {
    "duration": 23,
    "start_time": "2024-12-18T20:48:58.242Z"
   },
   {
    "duration": 25,
    "start_time": "2024-12-18T20:48:58.266Z"
   },
   {
    "duration": 19,
    "start_time": "2024-12-18T20:48:58.293Z"
   },
   {
    "duration": 150,
    "start_time": "2024-12-18T20:48:58.315Z"
   },
   {
    "duration": 18,
    "start_time": "2024-12-18T20:48:58.467Z"
   },
   {
    "duration": 853,
    "start_time": "2024-12-18T20:48:58.487Z"
   },
   {
    "duration": 19,
    "start_time": "2024-12-18T20:48:59.341Z"
   },
   {
    "duration": 58,
    "start_time": "2024-12-18T20:48:59.362Z"
   },
   {
    "duration": 3,
    "start_time": "2024-12-18T20:48:59.422Z"
   },
   {
    "duration": 3,
    "start_time": "2024-12-18T20:48:59.427Z"
   },
   {
    "duration": 3,
    "start_time": "2024-12-18T20:48:59.431Z"
   },
   {
    "duration": 923,
    "start_time": "2024-12-18T20:48:59.436Z"
   },
   {
    "duration": 164,
    "start_time": "2024-12-18T20:50:28.024Z"
   },
   {
    "duration": 1005,
    "start_time": "2024-12-18T20:50:33.392Z"
   },
   {
    "duration": 465,
    "start_time": "2024-12-18T20:50:34.399Z"
   },
   {
    "duration": 14,
    "start_time": "2024-12-18T20:50:34.866Z"
   },
   {
    "duration": 2,
    "start_time": "2024-12-18T20:50:34.881Z"
   },
   {
    "duration": 260,
    "start_time": "2024-12-18T20:50:34.887Z"
   },
   {
    "duration": 268,
    "start_time": "2024-12-18T20:50:35.148Z"
   },
   {
    "duration": 99,
    "start_time": "2024-12-18T20:50:35.418Z"
   },
   {
    "duration": 57,
    "start_time": "2024-12-18T20:50:35.520Z"
   },
   {
    "duration": 541,
    "start_time": "2024-12-18T20:50:35.579Z"
   },
   {
    "duration": 5,
    "start_time": "2024-12-18T20:50:36.122Z"
   },
   {
    "duration": 49,
    "start_time": "2024-12-18T20:50:36.129Z"
   },
   {
    "duration": 43,
    "start_time": "2024-12-18T20:50:36.179Z"
   },
   {
    "duration": 26,
    "start_time": "2024-12-18T20:50:36.224Z"
   },
   {
    "duration": 5,
    "start_time": "2024-12-18T20:50:36.253Z"
   },
   {
    "duration": 166,
    "start_time": "2024-12-18T20:50:36.260Z"
   },
   {
    "duration": 18,
    "start_time": "2024-12-18T20:50:36.428Z"
   },
   {
    "duration": 873,
    "start_time": "2024-12-18T20:50:36.447Z"
   },
   {
    "duration": 20,
    "start_time": "2024-12-18T20:50:37.322Z"
   },
   {
    "duration": 49,
    "start_time": "2024-12-18T20:50:37.343Z"
   },
   {
    "duration": 17,
    "start_time": "2024-12-18T20:50:37.395Z"
   },
   {
    "duration": 3,
    "start_time": "2024-12-18T20:50:37.414Z"
   },
   {
    "duration": 3,
    "start_time": "2024-12-18T20:50:37.419Z"
   },
   {
    "duration": 923,
    "start_time": "2024-12-18T20:50:37.423Z"
   },
   {
    "duration": 1051,
    "start_time": "2024-12-18T20:52:26.044Z"
   },
   {
    "duration": 462,
    "start_time": "2024-12-18T20:52:27.098Z"
   },
   {
    "duration": 13,
    "start_time": "2024-12-18T20:52:27.561Z"
   },
   {
    "duration": 2,
    "start_time": "2024-12-18T20:52:27.576Z"
   },
   {
    "duration": 248,
    "start_time": "2024-12-18T20:52:27.581Z"
   },
   {
    "duration": 269,
    "start_time": "2024-12-18T20:52:27.831Z"
   },
   {
    "duration": 97,
    "start_time": "2024-12-18T20:52:28.103Z"
   },
   {
    "duration": 67,
    "start_time": "2024-12-18T20:52:28.202Z"
   },
   {
    "duration": 535,
    "start_time": "2024-12-18T20:52:28.271Z"
   },
   {
    "duration": 4,
    "start_time": "2024-12-18T20:52:28.811Z"
   },
   {
    "duration": 49,
    "start_time": "2024-12-18T20:52:28.817Z"
   },
   {
    "duration": 91,
    "start_time": "2024-12-18T20:52:28.868Z"
   },
   {
    "duration": 23,
    "start_time": "2024-12-18T20:52:28.960Z"
   },
   {
    "duration": 37,
    "start_time": "2024-12-18T20:52:28.987Z"
   },
   {
    "duration": 4,
    "start_time": "2024-12-18T20:52:29.026Z"
   },
   {
    "duration": 150,
    "start_time": "2024-12-18T20:52:29.032Z"
   },
   {
    "duration": 28,
    "start_time": "2024-12-18T20:52:29.184Z"
   },
   {
    "duration": 852,
    "start_time": "2024-12-18T20:52:29.214Z"
   },
   {
    "duration": 20,
    "start_time": "2024-12-18T20:52:30.067Z"
   },
   {
    "duration": 63,
    "start_time": "2024-12-18T20:52:30.089Z"
   },
   {
    "duration": 3,
    "start_time": "2024-12-18T20:52:30.153Z"
   },
   {
    "duration": 3,
    "start_time": "2024-12-18T20:52:30.158Z"
   },
   {
    "duration": 4,
    "start_time": "2024-12-18T20:52:30.162Z"
   },
   {
    "duration": 946,
    "start_time": "2024-12-18T20:52:30.167Z"
   },
   {
    "duration": 1002,
    "start_time": "2024-12-18T20:53:06.503Z"
   },
   {
    "duration": 452,
    "start_time": "2024-12-18T20:53:07.507Z"
   },
   {
    "duration": 13,
    "start_time": "2024-12-18T20:53:07.961Z"
   },
   {
    "duration": 2,
    "start_time": "2024-12-18T20:53:07.976Z"
   },
   {
    "duration": 269,
    "start_time": "2024-12-18T20:53:07.981Z"
   },
   {
    "duration": 259,
    "start_time": "2024-12-18T20:53:08.253Z"
   },
   {
    "duration": 99,
    "start_time": "2024-12-18T20:53:08.513Z"
   },
   {
    "duration": 58,
    "start_time": "2024-12-18T20:53:08.615Z"
   },
   {
    "duration": 525,
    "start_time": "2024-12-18T20:53:08.675Z"
   },
   {
    "duration": 3,
    "start_time": "2024-12-18T20:53:09.202Z"
   },
   {
    "duration": 52,
    "start_time": "2024-12-18T20:53:09.213Z"
   },
   {
    "duration": 18,
    "start_time": "2024-12-18T20:53:09.268Z"
   },
   {
    "duration": 43,
    "start_time": "2024-12-18T20:53:09.288Z"
   },
   {
    "duration": 5,
    "start_time": "2024-12-18T20:53:09.334Z"
   },
   {
    "duration": 130,
    "start_time": "2024-12-18T20:53:09.341Z"
   },
   {
    "duration": 17,
    "start_time": "2024-12-18T20:53:09.473Z"
   },
   {
    "duration": 697,
    "start_time": "2024-12-18T20:53:09.492Z"
   },
   {
    "duration": 27,
    "start_time": "2024-12-18T20:53:10.191Z"
   },
   {
    "duration": 38,
    "start_time": "2024-12-18T20:53:10.220Z"
   },
   {
    "duration": 3,
    "start_time": "2024-12-18T20:53:10.259Z"
   },
   {
    "duration": 3,
    "start_time": "2024-12-18T20:53:10.264Z"
   },
   {
    "duration": 2,
    "start_time": "2024-12-18T20:53:10.269Z"
   },
   {
    "duration": 719,
    "start_time": "2024-12-18T20:53:10.273Z"
   },
   {
    "duration": 6102,
    "start_time": "2024-12-18T20:53:10.995Z"
   },
   {
    "duration": 3,
    "start_time": "2024-12-18T20:53:17.099Z"
   },
   {
    "duration": 554,
    "start_time": "2024-12-18T20:53:17.112Z"
   },
   {
    "duration": 2,
    "start_time": "2024-12-18T20:53:17.668Z"
   },
   {
    "duration": 1032,
    "start_time": "2024-12-18T20:53:33.030Z"
   },
   {
    "duration": 405,
    "start_time": "2024-12-18T20:53:34.064Z"
   },
   {
    "duration": 13,
    "start_time": "2024-12-18T20:53:34.471Z"
   },
   {
    "duration": 3,
    "start_time": "2024-12-18T20:53:34.485Z"
   },
   {
    "duration": 249,
    "start_time": "2024-12-18T20:53:34.491Z"
   },
   {
    "duration": 259,
    "start_time": "2024-12-18T20:53:34.742Z"
   },
   {
    "duration": 97,
    "start_time": "2024-12-18T20:53:35.003Z"
   },
   {
    "duration": 68,
    "start_time": "2024-12-18T20:53:35.102Z"
   },
   {
    "duration": 531,
    "start_time": "2024-12-18T20:53:35.172Z"
   },
   {
    "duration": 7,
    "start_time": "2024-12-18T20:53:35.705Z"
   },
   {
    "duration": 49,
    "start_time": "2024-12-18T20:53:35.714Z"
   },
   {
    "duration": 17,
    "start_time": "2024-12-18T20:53:35.765Z"
   },
   {
    "duration": 37,
    "start_time": "2024-12-18T20:53:35.784Z"
   },
   {
    "duration": 4,
    "start_time": "2024-12-18T20:53:35.825Z"
   },
   {
    "duration": 131,
    "start_time": "2024-12-18T20:53:35.831Z"
   },
   {
    "duration": 17,
    "start_time": "2024-12-18T20:53:35.964Z"
   },
   {
    "duration": 684,
    "start_time": "2024-12-18T20:53:35.983Z"
   },
   {
    "duration": 20,
    "start_time": "2024-12-18T20:53:36.669Z"
   },
   {
    "duration": 51,
    "start_time": "2024-12-18T20:53:36.690Z"
   },
   {
    "duration": 3,
    "start_time": "2024-12-18T20:53:36.742Z"
   },
   {
    "duration": 229,
    "start_time": "2024-12-18T20:53:36.747Z"
   },
   {
    "duration": 0,
    "start_time": "2024-12-18T20:53:36.977Z"
   },
   {
    "duration": 0,
    "start_time": "2024-12-18T20:53:36.979Z"
   },
   {
    "duration": 0,
    "start_time": "2024-12-18T20:53:36.980Z"
   },
   {
    "duration": 0,
    "start_time": "2024-12-18T20:53:36.981Z"
   },
   {
    "duration": 0,
    "start_time": "2024-12-18T20:53:36.982Z"
   },
   {
    "duration": 0,
    "start_time": "2024-12-18T20:53:36.983Z"
   },
   {
    "duration": 1004,
    "start_time": "2024-12-18T20:53:58.189Z"
   },
   {
    "duration": 440,
    "start_time": "2024-12-18T20:53:59.195Z"
   },
   {
    "duration": 14,
    "start_time": "2024-12-18T20:53:59.636Z"
   },
   {
    "duration": 2,
    "start_time": "2024-12-18T20:53:59.651Z"
   },
   {
    "duration": 247,
    "start_time": "2024-12-18T20:53:59.656Z"
   },
   {
    "duration": 259,
    "start_time": "2024-12-18T20:53:59.905Z"
   },
   {
    "duration": 104,
    "start_time": "2024-12-18T20:54:00.166Z"
   },
   {
    "duration": 76,
    "start_time": "2024-12-18T20:54:00.274Z"
   },
   {
    "duration": 537,
    "start_time": "2024-12-18T20:54:00.352Z"
   },
   {
    "duration": 4,
    "start_time": "2024-12-18T20:54:00.890Z"
   },
   {
    "duration": 58,
    "start_time": "2024-12-18T20:54:00.896Z"
   },
   {
    "duration": 18,
    "start_time": "2024-12-18T20:54:00.955Z"
   },
   {
    "duration": 21,
    "start_time": "2024-12-18T20:54:00.975Z"
   },
   {
    "duration": 5,
    "start_time": "2024-12-18T20:54:01.013Z"
   },
   {
    "duration": 122,
    "start_time": "2024-12-18T20:54:01.020Z"
   },
   {
    "duration": 13,
    "start_time": "2024-12-18T20:54:01.144Z"
   },
   {
    "duration": 676,
    "start_time": "2024-12-18T20:54:01.158Z"
   },
   {
    "duration": 18,
    "start_time": "2024-12-18T20:54:01.836Z"
   },
   {
    "duration": 56,
    "start_time": "2024-12-18T20:54:01.856Z"
   },
   {
    "duration": 3,
    "start_time": "2024-12-18T20:54:01.914Z"
   },
   {
    "duration": 1068,
    "start_time": "2024-12-18T20:55:36.832Z"
   },
   {
    "duration": 471,
    "start_time": "2024-12-18T20:55:37.903Z"
   },
   {
    "duration": 14,
    "start_time": "2024-12-18T20:55:38.375Z"
   },
   {
    "duration": 3,
    "start_time": "2024-12-18T20:55:38.390Z"
   },
   {
    "duration": 240,
    "start_time": "2024-12-18T20:55:38.396Z"
   },
   {
    "duration": 248,
    "start_time": "2024-12-18T20:55:38.638Z"
   },
   {
    "duration": 100,
    "start_time": "2024-12-18T20:55:38.888Z"
   },
   {
    "duration": 65,
    "start_time": "2024-12-18T20:55:38.990Z"
   },
   {
    "duration": 533,
    "start_time": "2024-12-18T20:55:39.057Z"
   },
   {
    "duration": 4,
    "start_time": "2024-12-18T20:55:39.592Z"
   },
   {
    "duration": 58,
    "start_time": "2024-12-18T20:55:39.598Z"
   },
   {
    "duration": 17,
    "start_time": "2024-12-18T20:55:39.658Z"
   },
   {
    "duration": 38,
    "start_time": "2024-12-18T20:55:39.677Z"
   },
   {
    "duration": 5,
    "start_time": "2024-12-18T20:55:39.719Z"
   },
   {
    "duration": 126,
    "start_time": "2024-12-18T20:55:39.726Z"
   },
   {
    "duration": 16,
    "start_time": "2024-12-18T20:55:39.854Z"
   },
   {
    "duration": 699,
    "start_time": "2024-12-18T20:55:39.872Z"
   },
   {
    "duration": 19,
    "start_time": "2024-12-18T20:55:40.573Z"
   },
   {
    "duration": 54,
    "start_time": "2024-12-18T20:55:40.596Z"
   },
   {
    "duration": 3,
    "start_time": "2024-12-18T20:55:40.652Z"
   },
   {
    "duration": 3,
    "start_time": "2024-12-18T20:55:40.657Z"
   },
   {
    "duration": 3,
    "start_time": "2024-12-18T20:55:40.662Z"
   },
   {
    "duration": 716,
    "start_time": "2024-12-18T20:55:40.667Z"
   },
   {
    "duration": 6112,
    "start_time": "2024-12-18T20:55:41.385Z"
   },
   {
    "duration": 3,
    "start_time": "2024-12-18T20:55:47.499Z"
   },
   {
    "duration": 565,
    "start_time": "2024-12-18T20:55:47.512Z"
   },
   {
    "duration": 2,
    "start_time": "2024-12-18T20:55:48.079Z"
   },
   {
    "duration": 314,
    "start_time": "2024-12-18T20:55:56.689Z"
   },
   {
    "duration": 227,
    "start_time": "2024-12-18T20:57:23.996Z"
   },
   {
    "duration": 4,
    "start_time": "2024-12-18T20:57:32.992Z"
   },
   {
    "duration": 3,
    "start_time": "2024-12-18T20:58:11.777Z"
   },
   {
    "duration": 3,
    "start_time": "2024-12-18T20:59:33.710Z"
   },
   {
    "duration": 1044,
    "start_time": "2024-12-18T21:00:07.635Z"
   },
   {
    "duration": 401,
    "start_time": "2024-12-18T21:00:08.681Z"
   },
   {
    "duration": 14,
    "start_time": "2024-12-18T21:00:09.084Z"
   },
   {
    "duration": 3,
    "start_time": "2024-12-18T21:00:09.099Z"
   },
   {
    "duration": 244,
    "start_time": "2024-12-18T21:00:09.113Z"
   },
   {
    "duration": 269,
    "start_time": "2024-12-18T21:00:09.359Z"
   },
   {
    "duration": 144,
    "start_time": "2024-12-18T21:00:09.631Z"
   },
   {
    "duration": 71,
    "start_time": "2024-12-18T21:00:09.778Z"
   },
   {
    "duration": 571,
    "start_time": "2024-12-18T21:00:09.851Z"
   },
   {
    "duration": 4,
    "start_time": "2024-12-18T21:00:10.424Z"
   },
   {
    "duration": 49,
    "start_time": "2024-12-18T21:00:10.430Z"
   },
   {
    "duration": 39,
    "start_time": "2024-12-18T21:00:10.481Z"
   },
   {
    "duration": 21,
    "start_time": "2024-12-18T21:00:10.521Z"
   },
   {
    "duration": 5,
    "start_time": "2024-12-18T21:00:10.545Z"
   },
   {
    "duration": 133,
    "start_time": "2024-12-18T21:00:10.551Z"
   },
   {
    "duration": 27,
    "start_time": "2024-12-18T21:00:10.687Z"
   },
   {
    "duration": 716,
    "start_time": "2024-12-18T21:00:10.716Z"
   },
   {
    "duration": 26,
    "start_time": "2024-12-18T21:00:11.434Z"
   },
   {
    "duration": 51,
    "start_time": "2024-12-18T21:00:11.461Z"
   },
   {
    "duration": 3,
    "start_time": "2024-12-18T21:00:11.513Z"
   },
   {
    "duration": 3,
    "start_time": "2024-12-18T21:00:11.518Z"
   },
   {
    "duration": 3,
    "start_time": "2024-12-18T21:00:11.522Z"
   },
   {
    "duration": 725,
    "start_time": "2024-12-18T21:00:11.528Z"
   },
   {
    "duration": 6137,
    "start_time": "2024-12-18T21:00:12.255Z"
   },
   {
    "duration": 4,
    "start_time": "2024-12-18T21:00:18.395Z"
   },
   {
    "duration": 12,
    "start_time": "2024-12-18T21:00:18.401Z"
   },
   {
    "duration": 3,
    "start_time": "2024-12-18T21:00:18.415Z"
   },
   {
    "duration": 559,
    "start_time": "2024-12-18T21:00:18.419Z"
   },
   {
    "duration": 316,
    "start_time": "2024-12-18T21:00:18.980Z"
   },
   {
    "duration": 3,
    "start_time": "2024-12-18T21:00:19.298Z"
   },
   {
    "duration": 10,
    "start_time": "2024-12-18T21:00:19.303Z"
   },
   {
    "duration": 49,
    "start_time": "2024-12-18T21:01:36.158Z"
   },
   {
    "duration": 9,
    "start_time": "2024-12-18T21:02:14.799Z"
   },
   {
    "duration": 3,
    "start_time": "2024-12-18T21:02:30.170Z"
   },
   {
    "duration": 3,
    "start_time": "2024-12-18T21:02:30.650Z"
   },
   {
    "duration": 229,
    "start_time": "2024-12-18T21:02:41.362Z"
   },
   {
    "duration": 4,
    "start_time": "2024-12-18T21:02:47.186Z"
   },
   {
    "duration": 3,
    "start_time": "2024-12-18T21:02:47.829Z"
   },
   {
    "duration": 964,
    "start_time": "2024-12-18T21:04:03.184Z"
   },
   {
    "duration": 402,
    "start_time": "2024-12-18T21:04:04.150Z"
   },
   {
    "duration": 14,
    "start_time": "2024-12-18T21:04:04.554Z"
   },
   {
    "duration": 2,
    "start_time": "2024-12-18T21:04:04.569Z"
   },
   {
    "duration": 260,
    "start_time": "2024-12-18T21:04:04.574Z"
   },
   {
    "duration": 264,
    "start_time": "2024-12-18T21:04:04.836Z"
   },
   {
    "duration": 94,
    "start_time": "2024-12-18T21:04:05.103Z"
   },
   {
    "duration": 59,
    "start_time": "2024-12-18T21:04:05.211Z"
   },
   {
    "duration": 522,
    "start_time": "2024-12-18T21:04:05.272Z"
   },
   {
    "duration": 4,
    "start_time": "2024-12-18T21:04:05.796Z"
   },
   {
    "duration": 62,
    "start_time": "2024-12-18T21:04:05.801Z"
   },
   {
    "duration": 18,
    "start_time": "2024-12-18T21:04:05.865Z"
   },
   {
    "duration": 37,
    "start_time": "2024-12-18T21:04:05.885Z"
   },
   {
    "duration": 4,
    "start_time": "2024-12-18T21:04:05.927Z"
   },
   {
    "duration": 130,
    "start_time": "2024-12-18T21:04:05.933Z"
   },
   {
    "duration": 15,
    "start_time": "2024-12-18T21:04:06.065Z"
   },
   {
    "duration": 678,
    "start_time": "2024-12-18T21:04:06.082Z"
   },
   {
    "duration": 18,
    "start_time": "2024-12-18T21:04:06.761Z"
   },
   {
    "duration": 50,
    "start_time": "2024-12-18T21:04:06.781Z"
   },
   {
    "duration": 2,
    "start_time": "2024-12-18T21:04:06.833Z"
   },
   {
    "duration": 3,
    "start_time": "2024-12-18T21:04:06.837Z"
   },
   {
    "duration": 4,
    "start_time": "2024-12-18T21:04:06.841Z"
   },
   {
    "duration": 740,
    "start_time": "2024-12-18T21:04:06.846Z"
   },
   {
    "duration": 6162,
    "start_time": "2024-12-18T21:04:07.589Z"
   },
   {
    "duration": 3,
    "start_time": "2024-12-18T21:04:13.753Z"
   },
   {
    "duration": 3,
    "start_time": "2024-12-18T21:04:13.758Z"
   },
   {
    "duration": 4,
    "start_time": "2024-12-18T21:04:13.762Z"
   },
   {
    "duration": 578,
    "start_time": "2024-12-18T21:04:13.767Z"
   },
   {
    "duration": 310,
    "start_time": "2024-12-18T21:04:14.346Z"
   },
   {
    "duration": 3,
    "start_time": "2024-12-18T21:04:14.658Z"
   },
   {
    "duration": 3,
    "start_time": "2024-12-18T21:04:14.663Z"
   },
   {
    "duration": 70,
    "start_time": "2024-12-18T21:04:14.668Z"
   },
   {
    "duration": 73,
    "start_time": "2024-12-18T21:04:14.740Z"
   },
   {
    "duration": 5,
    "start_time": "2024-12-18T21:04:14.816Z"
   },
   {
    "duration": 4,
    "start_time": "2024-12-18T21:04:14.823Z"
   },
   {
    "duration": 1003,
    "start_time": "2024-12-18T21:06:21.945Z"
   },
   {
    "duration": 433,
    "start_time": "2024-12-18T21:06:22.951Z"
   },
   {
    "duration": 14,
    "start_time": "2024-12-18T21:06:23.385Z"
   },
   {
    "duration": 11,
    "start_time": "2024-12-18T21:06:23.401Z"
   },
   {
    "duration": 240,
    "start_time": "2024-12-18T21:06:23.414Z"
   },
   {
    "duration": 256,
    "start_time": "2024-12-18T21:06:23.655Z"
   },
   {
    "duration": 100,
    "start_time": "2024-12-18T21:06:23.913Z"
   },
   {
    "duration": 57,
    "start_time": "2024-12-18T21:06:24.014Z"
   },
   {
    "duration": 540,
    "start_time": "2024-12-18T21:06:24.073Z"
   },
   {
    "duration": 4,
    "start_time": "2024-12-18T21:06:24.615Z"
   },
   {
    "duration": 49,
    "start_time": "2024-12-18T21:06:24.621Z"
   },
   {
    "duration": 40,
    "start_time": "2024-12-18T21:06:24.672Z"
   },
   {
    "duration": 23,
    "start_time": "2024-12-18T21:06:24.715Z"
   },
   {
    "duration": 5,
    "start_time": "2024-12-18T21:06:24.742Z"
   },
   {
    "duration": 133,
    "start_time": "2024-12-18T21:06:24.749Z"
   },
   {
    "duration": 16,
    "start_time": "2024-12-18T21:06:24.884Z"
   },
   {
    "duration": 697,
    "start_time": "2024-12-18T21:06:24.913Z"
   },
   {
    "duration": 19,
    "start_time": "2024-12-18T21:06:25.612Z"
   },
   {
    "duration": 36,
    "start_time": "2024-12-18T21:06:25.633Z"
   },
   {
    "duration": 3,
    "start_time": "2024-12-18T21:06:25.671Z"
   },
   {
    "duration": 747,
    "start_time": "2024-12-18T21:06:25.675Z"
   },
   {
    "duration": 0,
    "start_time": "2024-12-18T21:06:26.424Z"
   },
   {
    "duration": 0,
    "start_time": "2024-12-18T21:06:26.425Z"
   },
   {
    "duration": 0,
    "start_time": "2024-12-18T21:06:26.426Z"
   },
   {
    "duration": 0,
    "start_time": "2024-12-18T21:06:26.427Z"
   },
   {
    "duration": 1,
    "start_time": "2024-12-18T21:06:26.428Z"
   },
   {
    "duration": 0,
    "start_time": "2024-12-18T21:06:26.429Z"
   },
   {
    "duration": 0,
    "start_time": "2024-12-18T21:06:26.430Z"
   },
   {
    "duration": 0,
    "start_time": "2024-12-18T21:06:26.431Z"
   },
   {
    "duration": 0,
    "start_time": "2024-12-18T21:06:26.432Z"
   },
   {
    "duration": 0,
    "start_time": "2024-12-18T21:06:26.433Z"
   },
   {
    "duration": 0,
    "start_time": "2024-12-18T21:06:26.434Z"
   },
   {
    "duration": 0,
    "start_time": "2024-12-18T21:06:26.435Z"
   },
   {
    "duration": 0,
    "start_time": "2024-12-18T21:06:26.436Z"
   },
   {
    "duration": 0,
    "start_time": "2024-12-18T21:06:26.437Z"
   },
   {
    "duration": 2,
    "start_time": "2024-12-18T21:07:04.144Z"
   },
   {
    "duration": 1087,
    "start_time": "2024-12-18T21:08:05.139Z"
   },
   {
    "duration": 460,
    "start_time": "2024-12-18T21:08:06.228Z"
   },
   {
    "duration": 14,
    "start_time": "2024-12-18T21:08:06.689Z"
   },
   {
    "duration": 2,
    "start_time": "2024-12-18T21:08:06.712Z"
   },
   {
    "duration": 246,
    "start_time": "2024-12-18T21:08:06.716Z"
   },
   {
    "duration": 267,
    "start_time": "2024-12-18T21:08:06.964Z"
   },
   {
    "duration": 100,
    "start_time": "2024-12-18T21:08:07.233Z"
   },
   {
    "duration": 58,
    "start_time": "2024-12-18T21:08:07.335Z"
   },
   {
    "duration": 538,
    "start_time": "2024-12-18T21:08:07.395Z"
   },
   {
    "duration": 4,
    "start_time": "2024-12-18T21:08:07.934Z"
   },
   {
    "duration": 49,
    "start_time": "2024-12-18T21:08:07.940Z"
   },
   {
    "duration": 35,
    "start_time": "2024-12-18T21:08:07.991Z"
   },
   {
    "duration": 25,
    "start_time": "2024-12-18T21:08:08.028Z"
   },
   {
    "duration": 4,
    "start_time": "2024-12-18T21:08:08.057Z"
   },
   {
    "duration": 135,
    "start_time": "2024-12-18T21:08:08.063Z"
   },
   {
    "duration": 20,
    "start_time": "2024-12-18T21:08:08.200Z"
   },
   {
    "duration": 698,
    "start_time": "2024-12-18T21:08:08.221Z"
   },
   {
    "duration": 20,
    "start_time": "2024-12-18T21:08:08.920Z"
   },
   {
    "duration": 39,
    "start_time": "2024-12-18T21:08:08.942Z"
   },
   {
    "duration": 3,
    "start_time": "2024-12-18T21:08:08.982Z"
   },
   {
    "duration": 1067,
    "start_time": "2024-12-18T21:16:53.744Z"
   },
   {
    "duration": 452,
    "start_time": "2024-12-18T21:16:54.814Z"
   },
   {
    "duration": 15,
    "start_time": "2024-12-18T21:16:55.267Z"
   },
   {
    "duration": 2,
    "start_time": "2024-12-18T21:16:55.284Z"
   },
   {
    "duration": 276,
    "start_time": "2024-12-18T21:16:55.288Z"
   },
   {
    "duration": 254,
    "start_time": "2024-12-18T21:16:55.565Z"
   },
   {
    "duration": 101,
    "start_time": "2024-12-18T21:16:55.821Z"
   },
   {
    "duration": 57,
    "start_time": "2024-12-18T21:16:55.924Z"
   },
   {
    "duration": 542,
    "start_time": "2024-12-18T21:16:55.982Z"
   },
   {
    "duration": 4,
    "start_time": "2024-12-18T21:16:56.526Z"
   },
   {
    "duration": 50,
    "start_time": "2024-12-18T21:16:56.532Z"
   },
   {
    "duration": 38,
    "start_time": "2024-12-18T21:16:56.584Z"
   },
   {
    "duration": 21,
    "start_time": "2024-12-18T21:16:56.624Z"
   },
   {
    "duration": 4,
    "start_time": "2024-12-18T21:16:56.650Z"
   },
   {
    "duration": 127,
    "start_time": "2024-12-18T21:16:56.656Z"
   },
   {
    "duration": 16,
    "start_time": "2024-12-18T21:16:56.784Z"
   },
   {
    "duration": 671,
    "start_time": "2024-12-18T21:16:56.813Z"
   },
   {
    "duration": 28,
    "start_time": "2024-12-18T21:16:57.485Z"
   },
   {
    "duration": 41,
    "start_time": "2024-12-18T21:16:57.514Z"
   },
   {
    "duration": 3,
    "start_time": "2024-12-18T21:16:57.557Z"
   },
   {
    "duration": 3,
    "start_time": "2024-12-18T21:16:57.562Z"
   },
   {
    "duration": 1862,
    "start_time": "2024-12-18T21:16:57.567Z"
   },
   {
    "duration": 293,
    "start_time": "2024-12-18T21:16:59.434Z"
   },
   {
    "duration": 3,
    "start_time": "2024-12-18T21:16:59.730Z"
   },
   {
    "duration": 3,
    "start_time": "2024-12-18T21:16:59.735Z"
   },
   {
    "duration": 3,
    "start_time": "2024-12-18T21:16:59.740Z"
   },
   {
    "duration": 749,
    "start_time": "2024-12-18T21:16:59.744Z"
   },
   {
    "duration": 6165,
    "start_time": "2024-12-18T21:17:00.495Z"
   },
   {
    "duration": 4,
    "start_time": "2024-12-18T21:17:06.662Z"
   },
   {
    "duration": 3,
    "start_time": "2024-12-18T21:17:06.667Z"
   },
   {
    "duration": 4,
    "start_time": "2024-12-18T21:17:06.672Z"
   },
   {
    "duration": 574,
    "start_time": "2024-12-18T21:17:06.677Z"
   },
   {
    "duration": 316,
    "start_time": "2024-12-18T21:17:07.255Z"
   },
   {
    "duration": 3,
    "start_time": "2024-12-18T21:17:07.573Z"
   },
   {
    "duration": 3,
    "start_time": "2024-12-18T21:17:07.578Z"
   },
   {
    "duration": 63,
    "start_time": "2024-12-18T21:17:07.582Z"
   },
   {
    "duration": 84,
    "start_time": "2024-12-18T21:17:07.647Z"
   },
   {
    "duration": 80,
    "start_time": "2024-12-18T21:17:07.733Z"
   },
   {
    "duration": 3,
    "start_time": "2024-12-18T21:17:07.815Z"
   },
   {
    "duration": 1067,
    "start_time": "2024-12-18T21:22:43.232Z"
   },
   {
    "duration": 414,
    "start_time": "2024-12-18T21:22:44.302Z"
   },
   {
    "duration": 17,
    "start_time": "2024-12-18T21:22:44.718Z"
   },
   {
    "duration": 2,
    "start_time": "2024-12-18T21:22:44.737Z"
   },
   {
    "duration": 252,
    "start_time": "2024-12-18T21:22:44.743Z"
   },
   {
    "duration": 271,
    "start_time": "2024-12-18T21:22:44.997Z"
   },
   {
    "duration": 100,
    "start_time": "2024-12-18T21:22:45.270Z"
   },
   {
    "duration": 73,
    "start_time": "2024-12-18T21:22:45.372Z"
   },
   {
    "duration": 541,
    "start_time": "2024-12-18T21:22:45.447Z"
   },
   {
    "duration": 4,
    "start_time": "2024-12-18T21:22:45.989Z"
   },
   {
    "duration": 68,
    "start_time": "2024-12-18T21:22:45.994Z"
   },
   {
    "duration": 20,
    "start_time": "2024-12-18T21:22:46.065Z"
   },
   {
    "duration": 29,
    "start_time": "2024-12-18T21:22:46.087Z"
   },
   {
    "duration": 5,
    "start_time": "2024-12-18T21:22:46.121Z"
   },
   {
    "duration": 131,
    "start_time": "2024-12-18T21:22:46.127Z"
   },
   {
    "duration": 39,
    "start_time": "2024-12-18T21:22:46.260Z"
   },
   {
    "duration": 675,
    "start_time": "2024-12-18T21:22:46.301Z"
   },
   {
    "duration": 19,
    "start_time": "2024-12-18T21:22:46.977Z"
   },
   {
    "duration": 49,
    "start_time": "2024-12-18T21:22:46.998Z"
   },
   {
    "duration": 3,
    "start_time": "2024-12-18T21:22:47.048Z"
   },
   {
    "duration": 3,
    "start_time": "2024-12-18T21:22:47.053Z"
   },
   {
    "duration": 1962,
    "start_time": "2024-12-18T21:22:47.057Z"
   },
   {
    "duration": 291,
    "start_time": "2024-12-18T21:22:49.021Z"
   },
   {
    "duration": 4,
    "start_time": "2024-12-18T21:22:49.314Z"
   },
   {
    "duration": 3,
    "start_time": "2024-12-18T21:22:49.320Z"
   },
   {
    "duration": 3,
    "start_time": "2024-12-18T21:22:49.325Z"
   },
   {
    "duration": 730,
    "start_time": "2024-12-18T21:22:49.330Z"
   },
   {
    "duration": 6145,
    "start_time": "2024-12-18T21:22:50.062Z"
   },
   {
    "duration": 6,
    "start_time": "2024-12-18T21:22:56.208Z"
   },
   {
    "duration": 3,
    "start_time": "2024-12-18T21:22:56.215Z"
   },
   {
    "duration": 3,
    "start_time": "2024-12-18T21:22:56.220Z"
   },
   {
    "duration": 567,
    "start_time": "2024-12-18T21:22:56.224Z"
   },
   {
    "duration": 314,
    "start_time": "2024-12-18T21:22:56.792Z"
   },
   {
    "duration": 5,
    "start_time": "2024-12-18T21:22:57.108Z"
   },
   {
    "duration": 3,
    "start_time": "2024-12-18T21:22:57.115Z"
   },
   {
    "duration": 92,
    "start_time": "2024-12-18T21:22:57.120Z"
   },
   {
    "duration": 12,
    "start_time": "2024-12-18T21:22:57.224Z"
   },
   {
    "duration": 75,
    "start_time": "2024-12-18T21:22:57.238Z"
   },
   {
    "duration": 3,
    "start_time": "2024-12-18T21:22:57.315Z"
   },
   {
    "duration": 1021,
    "start_time": "2024-12-18T21:23:14.491Z"
   },
   {
    "duration": 415,
    "start_time": "2024-12-18T21:23:15.515Z"
   },
   {
    "duration": 15,
    "start_time": "2024-12-18T21:23:15.932Z"
   },
   {
    "duration": 2,
    "start_time": "2024-12-18T21:23:15.948Z"
   },
   {
    "duration": 274,
    "start_time": "2024-12-18T21:23:15.953Z"
   },
   {
    "duration": 258,
    "start_time": "2024-12-18T21:23:16.229Z"
   },
   {
    "duration": 96,
    "start_time": "2024-12-18T21:23:16.489Z"
   },
   {
    "duration": 73,
    "start_time": "2024-12-18T21:23:16.586Z"
   },
   {
    "duration": 537,
    "start_time": "2024-12-18T21:23:16.661Z"
   },
   {
    "duration": 4,
    "start_time": "2024-12-18T21:23:17.200Z"
   },
   {
    "duration": 53,
    "start_time": "2024-12-18T21:23:17.211Z"
   },
   {
    "duration": 20,
    "start_time": "2024-12-18T21:23:17.265Z"
   },
   {
    "duration": 38,
    "start_time": "2024-12-18T21:23:17.287Z"
   },
   {
    "duration": 5,
    "start_time": "2024-12-18T21:23:17.329Z"
   },
   {
    "duration": 127,
    "start_time": "2024-12-18T21:23:17.336Z"
   },
   {
    "duration": 15,
    "start_time": "2024-12-18T21:23:17.465Z"
   },
   {
    "duration": 681,
    "start_time": "2024-12-18T21:23:17.482Z"
   },
   {
    "duration": 18,
    "start_time": "2024-12-18T21:23:18.165Z"
   },
   {
    "duration": 44,
    "start_time": "2024-12-18T21:23:18.184Z"
   },
   {
    "duration": 2,
    "start_time": "2024-12-18T21:23:18.230Z"
   },
   {
    "duration": 3,
    "start_time": "2024-12-18T21:23:18.234Z"
   },
   {
    "duration": 1791,
    "start_time": "2024-12-18T21:23:18.239Z"
   },
   {
    "duration": 210,
    "start_time": "2024-12-18T21:23:20.113Z"
   },
   {
    "duration": 5,
    "start_time": "2024-12-18T21:23:20.325Z"
   },
   {
    "duration": 3,
    "start_time": "2024-12-18T21:23:20.332Z"
   },
   {
    "duration": 3,
    "start_time": "2024-12-18T21:23:20.337Z"
   },
   {
    "duration": 690,
    "start_time": "2024-12-18T21:23:20.412Z"
   },
   {
    "duration": 6042,
    "start_time": "2024-12-18T21:23:21.104Z"
   },
   {
    "duration": 3,
    "start_time": "2024-12-18T21:23:27.148Z"
   },
   {
    "duration": 3,
    "start_time": "2024-12-18T21:23:27.153Z"
   },
   {
    "duration": 3,
    "start_time": "2024-12-18T21:23:27.158Z"
   },
   {
    "duration": 584,
    "start_time": "2024-12-18T21:23:27.163Z"
   },
   {
    "duration": 314,
    "start_time": "2024-12-18T21:23:27.748Z"
   },
   {
    "duration": 4,
    "start_time": "2024-12-18T21:23:28.063Z"
   },
   {
    "duration": 3,
    "start_time": "2024-12-18T21:23:28.069Z"
   },
   {
    "duration": 61,
    "start_time": "2024-12-18T21:23:28.074Z"
   },
   {
    "duration": 77,
    "start_time": "2024-12-18T21:23:28.136Z"
   },
   {
    "duration": 5,
    "start_time": "2024-12-18T21:23:28.214Z"
   },
   {
    "duration": 3,
    "start_time": "2024-12-18T21:23:28.221Z"
   },
   {
    "duration": 1089,
    "start_time": "2024-12-18T21:23:34.428Z"
   },
   {
    "duration": 396,
    "start_time": "2024-12-18T21:23:35.519Z"
   },
   {
    "duration": 14,
    "start_time": "2024-12-18T21:23:35.917Z"
   },
   {
    "duration": 2,
    "start_time": "2024-12-18T21:23:35.932Z"
   },
   {
    "duration": 238,
    "start_time": "2024-12-18T21:23:35.937Z"
   },
   {
    "duration": 251,
    "start_time": "2024-12-18T21:23:36.177Z"
   },
   {
    "duration": 97,
    "start_time": "2024-12-18T21:23:36.430Z"
   },
   {
    "duration": 57,
    "start_time": "2024-12-18T21:23:36.529Z"
   },
   {
    "duration": 547,
    "start_time": "2024-12-18T21:23:36.588Z"
   },
   {
    "duration": 4,
    "start_time": "2024-12-18T21:23:37.137Z"
   },
   {
    "duration": 49,
    "start_time": "2024-12-18T21:23:37.142Z"
   },
   {
    "duration": 36,
    "start_time": "2024-12-18T21:23:37.193Z"
   },
   {
    "duration": 20,
    "start_time": "2024-12-18T21:23:37.236Z"
   },
   {
    "duration": 5,
    "start_time": "2024-12-18T21:23:37.260Z"
   },
   {
    "duration": 128,
    "start_time": "2024-12-18T21:23:37.267Z"
   },
   {
    "duration": 36,
    "start_time": "2024-12-18T21:23:37.397Z"
   },
   {
    "duration": 916,
    "start_time": "2024-12-18T21:23:37.435Z"
   },
   {
    "duration": 72,
    "start_time": "2024-12-18T21:23:38.353Z"
   },
   {
    "duration": 90,
    "start_time": "2024-12-18T21:23:38.426Z"
   },
   {
    "duration": 3,
    "start_time": "2024-12-18T21:23:38.518Z"
   },
   {
    "duration": 3,
    "start_time": "2024-12-18T21:23:38.523Z"
   },
   {
    "duration": 1890,
    "start_time": "2024-12-18T21:23:38.528Z"
   },
   {
    "duration": 211,
    "start_time": "2024-12-18T21:23:40.423Z"
   },
   {
    "duration": 4,
    "start_time": "2024-12-18T21:23:40.712Z"
   },
   {
    "duration": 4,
    "start_time": "2024-12-18T21:23:40.717Z"
   },
   {
    "duration": 4,
    "start_time": "2024-12-18T21:23:40.722Z"
   },
   {
    "duration": 712,
    "start_time": "2024-12-18T21:23:40.727Z"
   },
   {
    "duration": 6163,
    "start_time": "2024-12-18T21:23:41.441Z"
   },
   {
    "duration": 7,
    "start_time": "2024-12-18T21:23:47.606Z"
   },
   {
    "duration": 3,
    "start_time": "2024-12-18T21:23:47.615Z"
   },
   {
    "duration": 2,
    "start_time": "2024-12-18T21:23:47.620Z"
   },
   {
    "duration": 571,
    "start_time": "2024-12-18T21:23:47.624Z"
   },
   {
    "duration": 321,
    "start_time": "2024-12-18T21:23:48.197Z"
   },
   {
    "duration": 3,
    "start_time": "2024-12-18T21:23:48.521Z"
   },
   {
    "duration": 3,
    "start_time": "2024-12-18T21:23:48.527Z"
   },
   {
    "duration": 93,
    "start_time": "2024-12-18T21:23:48.534Z"
   },
   {
    "duration": 7,
    "start_time": "2024-12-18T21:23:48.630Z"
   },
   {
    "duration": 77,
    "start_time": "2024-12-18T21:23:48.638Z"
   },
   {
    "duration": 6,
    "start_time": "2024-12-18T21:23:48.717Z"
   },
   {
    "duration": 12,
    "start_time": "2024-12-18T21:24:06.570Z"
   },
   {
    "duration": 994,
    "start_time": "2024-12-18T21:24:59.666Z"
   },
   {
    "duration": 399,
    "start_time": "2024-12-18T21:25:00.663Z"
   },
   {
    "duration": 14,
    "start_time": "2024-12-18T21:25:01.064Z"
   },
   {
    "duration": 4,
    "start_time": "2024-12-18T21:25:01.079Z"
   },
   {
    "duration": 238,
    "start_time": "2024-12-18T21:25:01.086Z"
   },
   {
    "duration": 253,
    "start_time": "2024-12-18T21:25:01.327Z"
   },
   {
    "duration": 96,
    "start_time": "2024-12-18T21:25:01.581Z"
   },
   {
    "duration": 72,
    "start_time": "2024-12-18T21:25:01.679Z"
   },
   {
    "duration": 530,
    "start_time": "2024-12-18T21:25:01.752Z"
   },
   {
    "duration": 4,
    "start_time": "2024-12-18T21:25:02.284Z"
   },
   {
    "duration": 64,
    "start_time": "2024-12-18T21:25:02.290Z"
   },
   {
    "duration": 19,
    "start_time": "2024-12-18T21:25:02.355Z"
   },
   {
    "duration": 3,
    "start_time": "2024-12-18T21:25:02.375Z"
   },
   {
    "duration": 4,
    "start_time": "2024-12-18T21:25:02.382Z"
   },
   {
    "duration": 2,
    "start_time": "2024-12-18T21:25:02.388Z"
   },
   {
    "duration": 21,
    "start_time": "2024-12-18T21:25:02.391Z"
   },
   {
    "duration": 385,
    "start_time": "2024-12-18T21:25:02.414Z"
   },
   {
    "duration": 0,
    "start_time": "2024-12-18T21:25:02.801Z"
   },
   {
    "duration": 0,
    "start_time": "2024-12-18T21:25:02.802Z"
   },
   {
    "duration": 0,
    "start_time": "2024-12-18T21:25:02.803Z"
   },
   {
    "duration": 0,
    "start_time": "2024-12-18T21:25:02.804Z"
   },
   {
    "duration": 0,
    "start_time": "2024-12-18T21:25:02.805Z"
   },
   {
    "duration": 0,
    "start_time": "2024-12-18T21:25:02.806Z"
   },
   {
    "duration": 0,
    "start_time": "2024-12-18T21:25:02.812Z"
   },
   {
    "duration": 0,
    "start_time": "2024-12-18T21:25:02.813Z"
   },
   {
    "duration": 0,
    "start_time": "2024-12-18T21:25:02.814Z"
   },
   {
    "duration": 0,
    "start_time": "2024-12-18T21:25:02.816Z"
   },
   {
    "duration": 0,
    "start_time": "2024-12-18T21:25:02.818Z"
   },
   {
    "duration": 0,
    "start_time": "2024-12-18T21:25:02.819Z"
   },
   {
    "duration": 0,
    "start_time": "2024-12-18T21:25:02.821Z"
   },
   {
    "duration": 0,
    "start_time": "2024-12-18T21:25:02.822Z"
   },
   {
    "duration": 0,
    "start_time": "2024-12-18T21:25:02.823Z"
   },
   {
    "duration": 0,
    "start_time": "2024-12-18T21:25:02.824Z"
   },
   {
    "duration": 0,
    "start_time": "2024-12-18T21:25:02.825Z"
   },
   {
    "duration": 0,
    "start_time": "2024-12-18T21:25:02.826Z"
   },
   {
    "duration": 0,
    "start_time": "2024-12-18T21:25:02.827Z"
   },
   {
    "duration": 0,
    "start_time": "2024-12-18T21:25:02.828Z"
   },
   {
    "duration": 0,
    "start_time": "2024-12-18T21:25:02.829Z"
   },
   {
    "duration": 0,
    "start_time": "2024-12-18T21:25:02.830Z"
   },
   {
    "duration": 1062,
    "start_time": "2024-12-18T21:25:48.780Z"
   },
   {
    "duration": 420,
    "start_time": "2024-12-18T21:25:49.845Z"
   },
   {
    "duration": 15,
    "start_time": "2024-12-18T21:25:50.267Z"
   },
   {
    "duration": 2,
    "start_time": "2024-12-18T21:25:50.285Z"
   },
   {
    "duration": 231,
    "start_time": "2024-12-18T21:25:50.290Z"
   },
   {
    "duration": 248,
    "start_time": "2024-12-18T21:25:50.523Z"
   },
   {
    "duration": 96,
    "start_time": "2024-12-18T21:25:50.773Z"
   },
   {
    "duration": 70,
    "start_time": "2024-12-18T21:25:50.871Z"
   },
   {
    "duration": 519,
    "start_time": "2024-12-18T21:25:50.942Z"
   },
   {
    "duration": 4,
    "start_time": "2024-12-18T21:25:51.463Z"
   },
   {
    "duration": 61,
    "start_time": "2024-12-18T21:25:51.469Z"
   },
   {
    "duration": 19,
    "start_time": "2024-12-18T21:25:51.531Z"
   },
   {
    "duration": 20,
    "start_time": "2024-12-18T21:25:51.551Z"
   },
   {
    "duration": 5,
    "start_time": "2024-12-18T21:25:51.575Z"
   },
   {
    "duration": 137,
    "start_time": "2024-12-18T21:25:51.581Z"
   },
   {
    "duration": 16,
    "start_time": "2024-12-18T21:25:51.720Z"
   },
   {
    "duration": 711,
    "start_time": "2024-12-18T21:25:51.737Z"
   },
   {
    "duration": 17,
    "start_time": "2024-12-18T21:25:52.450Z"
   },
   {
    "duration": 66,
    "start_time": "2024-12-18T21:25:52.468Z"
   },
   {
    "duration": 3,
    "start_time": "2024-12-18T21:25:52.536Z"
   },
   {
    "duration": 3,
    "start_time": "2024-12-18T21:25:52.541Z"
   },
   {
    "duration": 1868,
    "start_time": "2024-12-18T21:25:52.546Z"
   },
   {
    "duration": 216,
    "start_time": "2024-12-18T21:25:54.416Z"
   },
   {
    "duration": 78,
    "start_time": "2024-12-18T21:25:54.634Z"
   },
   {
    "duration": 4,
    "start_time": "2024-12-18T21:25:54.715Z"
   },
   {
    "duration": 3,
    "start_time": "2024-12-18T21:25:54.721Z"
   },
   {
    "duration": 717,
    "start_time": "2024-12-18T21:25:54.726Z"
   },
   {
    "duration": 6044,
    "start_time": "2024-12-18T21:25:55.445Z"
   },
   {
    "duration": 4,
    "start_time": "2024-12-18T21:26:01.491Z"
   },
   {
    "duration": 5,
    "start_time": "2024-12-18T21:26:01.496Z"
   },
   {
    "duration": 12,
    "start_time": "2024-12-18T21:26:01.502Z"
   },
   {
    "duration": 561,
    "start_time": "2024-12-18T21:26:01.516Z"
   },
   {
    "duration": 316,
    "start_time": "2024-12-18T21:26:02.079Z"
   },
   {
    "duration": 4,
    "start_time": "2024-12-18T21:26:02.396Z"
   },
   {
    "duration": 10,
    "start_time": "2024-12-18T21:26:02.402Z"
   },
   {
    "duration": 98,
    "start_time": "2024-12-18T21:26:02.414Z"
   },
   {
    "duration": 5,
    "start_time": "2024-12-18T21:26:02.514Z"
   },
   {
    "duration": 94,
    "start_time": "2024-12-18T21:26:02.520Z"
   },
   {
    "duration": 4,
    "start_time": "2024-12-18T21:26:02.615Z"
   },
   {
    "duration": 32,
    "start_time": "2024-12-18T21:27:00.680Z"
   },
   {
    "duration": 1020,
    "start_time": "2024-12-18T21:30:59.674Z"
   },
   {
    "duration": 415,
    "start_time": "2024-12-18T21:31:00.696Z"
   },
   {
    "duration": 14,
    "start_time": "2024-12-18T21:31:01.113Z"
   },
   {
    "duration": 2,
    "start_time": "2024-12-18T21:31:01.129Z"
   },
   {
    "duration": 242,
    "start_time": "2024-12-18T21:31:01.134Z"
   },
   {
    "duration": 251,
    "start_time": "2024-12-18T21:31:01.378Z"
   },
   {
    "duration": 91,
    "start_time": "2024-12-18T21:31:01.631Z"
   },
   {
    "duration": 57,
    "start_time": "2024-12-18T21:31:01.725Z"
   },
   {
    "duration": 545,
    "start_time": "2024-12-18T21:31:01.783Z"
   },
   {
    "duration": 4,
    "start_time": "2024-12-18T21:31:02.330Z"
   },
   {
    "duration": 48,
    "start_time": "2024-12-18T21:31:02.335Z"
   },
   {
    "duration": 35,
    "start_time": "2024-12-18T21:31:02.385Z"
   },
   {
    "duration": 20,
    "start_time": "2024-12-18T21:31:02.422Z"
   },
   {
    "duration": 5,
    "start_time": "2024-12-18T21:31:02.447Z"
   },
   {
    "duration": 131,
    "start_time": "2024-12-18T21:31:02.453Z"
   },
   {
    "duration": 13,
    "start_time": "2024-12-18T21:31:02.585Z"
   },
   {
    "duration": 665,
    "start_time": "2024-12-18T21:31:02.611Z"
   },
   {
    "duration": 18,
    "start_time": "2024-12-18T21:31:03.278Z"
   },
   {
    "duration": 48,
    "start_time": "2024-12-18T21:31:03.297Z"
   },
   {
    "duration": 111,
    "start_time": "2024-12-18T21:31:03.347Z"
   },
   {
    "duration": 3,
    "start_time": "2024-12-18T21:31:03.460Z"
   },
   {
    "duration": 3,
    "start_time": "2024-12-18T21:31:03.465Z"
   },
   {
    "duration": 590,
    "start_time": "2024-12-18T21:31:03.470Z"
   },
   {
    "duration": 0,
    "start_time": "2024-12-18T21:31:04.062Z"
   },
   {
    "duration": 0,
    "start_time": "2024-12-18T21:31:04.063Z"
   },
   {
    "duration": 0,
    "start_time": "2024-12-18T21:31:04.064Z"
   },
   {
    "duration": 0,
    "start_time": "2024-12-18T21:31:04.065Z"
   },
   {
    "duration": 0,
    "start_time": "2024-12-18T21:31:04.066Z"
   },
   {
    "duration": 0,
    "start_time": "2024-12-18T21:31:04.068Z"
   },
   {
    "duration": 0,
    "start_time": "2024-12-18T21:31:04.069Z"
   },
   {
    "duration": 0,
    "start_time": "2024-12-18T21:31:04.072Z"
   },
   {
    "duration": 0,
    "start_time": "2024-12-18T21:31:04.073Z"
   },
   {
    "duration": 0,
    "start_time": "2024-12-18T21:31:04.074Z"
   },
   {
    "duration": 0,
    "start_time": "2024-12-18T21:31:04.076Z"
   },
   {
    "duration": 0,
    "start_time": "2024-12-18T21:31:04.077Z"
   },
   {
    "duration": 0,
    "start_time": "2024-12-18T21:31:04.078Z"
   },
   {
    "duration": 0,
    "start_time": "2024-12-18T21:31:04.079Z"
   },
   {
    "duration": 0,
    "start_time": "2024-12-18T21:31:04.080Z"
   },
   {
    "duration": 0,
    "start_time": "2024-12-18T21:31:04.111Z"
   },
   {
    "duration": 0,
    "start_time": "2024-12-18T21:31:04.113Z"
   },
   {
    "duration": 1111,
    "start_time": "2024-12-18T21:31:57.324Z"
   },
   {
    "duration": 701,
    "start_time": "2024-12-18T21:31:58.437Z"
   },
   {
    "duration": 14,
    "start_time": "2024-12-18T21:31:59.140Z"
   },
   {
    "duration": 2,
    "start_time": "2024-12-18T21:31:59.156Z"
   },
   {
    "duration": 238,
    "start_time": "2024-12-18T21:31:59.161Z"
   },
   {
    "duration": 258,
    "start_time": "2024-12-18T21:31:59.400Z"
   },
   {
    "duration": 92,
    "start_time": "2024-12-18T21:31:59.659Z"
   },
   {
    "duration": 70,
    "start_time": "2024-12-18T21:31:59.753Z"
   },
   {
    "duration": 519,
    "start_time": "2024-12-18T21:31:59.825Z"
   },
   {
    "duration": 3,
    "start_time": "2024-12-18T21:32:00.346Z"
   },
   {
    "duration": 49,
    "start_time": "2024-12-18T21:32:00.351Z"
   },
   {
    "duration": 20,
    "start_time": "2024-12-18T21:32:00.412Z"
   },
   {
    "duration": 20,
    "start_time": "2024-12-18T21:32:00.433Z"
   },
   {
    "duration": 5,
    "start_time": "2024-12-18T21:32:00.458Z"
   },
   {
    "duration": 133,
    "start_time": "2024-12-18T21:32:00.465Z"
   },
   {
    "duration": 18,
    "start_time": "2024-12-18T21:32:00.600Z"
   },
   {
    "duration": 680,
    "start_time": "2024-12-18T21:32:00.620Z"
   },
   {
    "duration": 28,
    "start_time": "2024-12-18T21:32:01.302Z"
   },
   {
    "duration": 39,
    "start_time": "2024-12-18T21:32:01.332Z"
   },
   {
    "duration": 3,
    "start_time": "2024-12-18T21:32:01.372Z"
   },
   {
    "duration": 3,
    "start_time": "2024-12-18T21:32:01.377Z"
   },
   {
    "duration": 1940,
    "start_time": "2024-12-18T21:32:01.382Z"
   },
   {
    "duration": 290,
    "start_time": "2024-12-18T21:32:03.324Z"
   },
   {
    "duration": 4,
    "start_time": "2024-12-18T21:32:03.616Z"
   },
   {
    "duration": 4,
    "start_time": "2024-12-18T21:32:03.622Z"
   },
   {
    "duration": 4,
    "start_time": "2024-12-18T21:32:03.628Z"
   },
   {
    "duration": 750,
    "start_time": "2024-12-18T21:32:03.633Z"
   },
   {
    "duration": 6139,
    "start_time": "2024-12-18T21:32:04.385Z"
   },
   {
    "duration": 3,
    "start_time": "2024-12-18T21:32:10.526Z"
   },
   {
    "duration": 4,
    "start_time": "2024-12-18T21:32:10.531Z"
   },
   {
    "duration": 4,
    "start_time": "2024-12-18T21:32:10.536Z"
   },
   {
    "duration": 581,
    "start_time": "2024-12-18T21:32:10.541Z"
   },
   {
    "duration": 311,
    "start_time": "2024-12-18T21:32:11.124Z"
   },
   {
    "duration": 4,
    "start_time": "2024-12-18T21:32:11.437Z"
   },
   {
    "duration": 3,
    "start_time": "2024-12-18T21:32:11.443Z"
   },
   {
    "duration": 75,
    "start_time": "2024-12-18T21:32:11.447Z"
   },
   {
    "duration": 11,
    "start_time": "2024-12-18T21:32:11.524Z"
   },
   {
    "duration": 6,
    "start_time": "2024-12-18T21:32:11.614Z"
   },
   {
    "duration": 3,
    "start_time": "2024-12-18T21:32:11.621Z"
   },
   {
    "duration": 3,
    "start_time": "2024-12-18T21:33:45.316Z"
   },
   {
    "duration": 3,
    "start_time": "2024-12-18T21:33:45.836Z"
   },
   {
    "duration": 2157,
    "start_time": "2024-12-18T21:33:46.063Z"
   },
   {
    "duration": 297,
    "start_time": "2024-12-18T21:33:48.222Z"
   },
   {
    "duration": 1078,
    "start_time": "2024-12-18T21:35:24.433Z"
   },
   {
    "duration": 402,
    "start_time": "2024-12-18T21:35:25.513Z"
   },
   {
    "duration": 14,
    "start_time": "2024-12-18T21:35:25.917Z"
   },
   {
    "duration": 2,
    "start_time": "2024-12-18T21:35:25.932Z"
   },
   {
    "duration": 260,
    "start_time": "2024-12-18T21:35:25.938Z"
   },
   {
    "duration": 262,
    "start_time": "2024-12-18T21:35:26.200Z"
   },
   {
    "duration": 102,
    "start_time": "2024-12-18T21:35:26.463Z"
   },
   {
    "duration": 71,
    "start_time": "2024-12-18T21:35:26.567Z"
   },
   {
    "duration": 525,
    "start_time": "2024-12-18T21:35:26.640Z"
   },
   {
    "duration": 4,
    "start_time": "2024-12-18T21:35:27.167Z"
   },
   {
    "duration": 62,
    "start_time": "2024-12-18T21:35:27.172Z"
   },
   {
    "duration": 20,
    "start_time": "2024-12-18T21:35:27.237Z"
   },
   {
    "duration": 21,
    "start_time": "2024-12-18T21:35:27.259Z"
   },
   {
    "duration": 4,
    "start_time": "2024-12-18T21:35:27.285Z"
   },
   {
    "duration": 139,
    "start_time": "2024-12-18T21:35:27.291Z"
   },
   {
    "duration": 15,
    "start_time": "2024-12-18T21:35:27.432Z"
   },
   {
    "duration": 719,
    "start_time": "2024-12-18T21:35:27.449Z"
   },
   {
    "duration": 18,
    "start_time": "2024-12-18T21:35:28.170Z"
   },
   {
    "duration": 51,
    "start_time": "2024-12-18T21:35:28.190Z"
   },
   {
    "duration": 3,
    "start_time": "2024-12-18T21:35:28.242Z"
   },
   {
    "duration": 3,
    "start_time": "2024-12-18T21:35:28.247Z"
   },
   {
    "duration": 1961,
    "start_time": "2024-12-18T21:35:28.252Z"
   },
   {
    "duration": 300,
    "start_time": "2024-12-18T21:35:30.216Z"
   },
   {
    "duration": 3,
    "start_time": "2024-12-18T21:35:30.517Z"
   },
   {
    "duration": 3,
    "start_time": "2024-12-18T21:35:30.522Z"
   },
   {
    "duration": 3,
    "start_time": "2024-12-18T21:35:30.527Z"
   },
   {
    "duration": 749,
    "start_time": "2024-12-18T21:35:30.531Z"
   },
   {
    "duration": 6171,
    "start_time": "2024-12-18T21:35:31.282Z"
   },
   {
    "duration": 3,
    "start_time": "2024-12-18T21:35:37.455Z"
   },
   {
    "duration": 3,
    "start_time": "2024-12-18T21:35:37.460Z"
   },
   {
    "duration": 2,
    "start_time": "2024-12-18T21:35:37.465Z"
   },
   {
    "duration": 2381,
    "start_time": "2024-12-18T21:35:37.469Z"
   },
   {
    "duration": 325,
    "start_time": "2024-12-18T21:35:39.852Z"
   },
   {
    "duration": 4,
    "start_time": "2024-12-18T21:35:40.178Z"
   },
   {
    "duration": 3,
    "start_time": "2024-12-18T21:35:40.184Z"
   },
   {
    "duration": 57,
    "start_time": "2024-12-18T21:35:40.188Z"
   },
   {
    "duration": 69,
    "start_time": "2024-12-18T21:35:40.247Z"
   },
   {
    "duration": 5,
    "start_time": "2024-12-18T21:35:40.318Z"
   },
   {
    "duration": 3,
    "start_time": "2024-12-18T21:35:40.324Z"
   },
   {
    "duration": 1034,
    "start_time": "2024-12-18T21:36:30.762Z"
   },
   {
    "duration": 401,
    "start_time": "2024-12-18T21:36:31.799Z"
   },
   {
    "duration": 21,
    "start_time": "2024-12-18T21:36:32.201Z"
   },
   {
    "duration": 2,
    "start_time": "2024-12-18T21:36:32.224Z"
   },
   {
    "duration": 395,
    "start_time": "2024-12-18T21:36:32.230Z"
   },
   {
    "duration": 420,
    "start_time": "2024-12-18T21:36:32.627Z"
   },
   {
    "duration": 104,
    "start_time": "2024-12-18T21:36:33.048Z"
   },
   {
    "duration": 70,
    "start_time": "2024-12-18T21:36:33.154Z"
   },
   {
    "duration": 595,
    "start_time": "2024-12-18T21:36:33.226Z"
   },
   {
    "duration": 4,
    "start_time": "2024-12-18T21:36:33.823Z"
   },
   {
    "duration": 49,
    "start_time": "2024-12-18T21:36:33.829Z"
   },
   {
    "duration": 35,
    "start_time": "2024-12-18T21:36:33.880Z"
   },
   {
    "duration": 21,
    "start_time": "2024-12-18T21:36:33.916Z"
   },
   {
    "duration": 4,
    "start_time": "2024-12-18T21:36:33.942Z"
   },
   {
    "duration": 133,
    "start_time": "2024-12-18T21:36:33.948Z"
   },
   {
    "duration": 15,
    "start_time": "2024-12-18T21:36:34.083Z"
   },
   {
    "duration": 690,
    "start_time": "2024-12-18T21:36:34.100Z"
   },
   {
    "duration": 34,
    "start_time": "2024-12-18T21:36:34.792Z"
   },
   {
    "duration": 39,
    "start_time": "2024-12-18T21:36:34.827Z"
   },
   {
    "duration": 3,
    "start_time": "2024-12-18T21:36:34.868Z"
   },
   {
    "duration": 3,
    "start_time": "2024-12-18T21:36:34.873Z"
   },
   {
    "duration": 2046,
    "start_time": "2024-12-18T21:36:34.877Z"
   },
   {
    "duration": 295,
    "start_time": "2024-12-18T21:36:36.927Z"
   },
   {
    "duration": 3,
    "start_time": "2024-12-18T21:36:37.225Z"
   },
   {
    "duration": 3,
    "start_time": "2024-12-18T21:36:37.232Z"
   },
   {
    "duration": 2,
    "start_time": "2024-12-18T21:36:37.237Z"
   },
   {
    "duration": 744,
    "start_time": "2024-12-18T21:36:37.241Z"
   },
   {
    "duration": 6061,
    "start_time": "2024-12-18T21:36:37.987Z"
   },
   {
    "duration": 3,
    "start_time": "2024-12-18T21:36:44.049Z"
   },
   {
    "duration": 3,
    "start_time": "2024-12-18T21:36:44.054Z"
   },
   {
    "duration": 3,
    "start_time": "2024-12-18T21:36:44.059Z"
   },
   {
    "duration": 8660,
    "start_time": "2024-12-18T21:36:44.064Z"
   },
   {
    "duration": 341,
    "start_time": "2024-12-18T21:36:52.726Z"
   },
   {
    "duration": 4,
    "start_time": "2024-12-18T21:36:53.068Z"
   },
   {
    "duration": 3,
    "start_time": "2024-12-18T21:36:53.074Z"
   },
   {
    "duration": 73,
    "start_time": "2024-12-18T21:36:53.079Z"
   },
   {
    "duration": 66,
    "start_time": "2024-12-18T21:36:53.154Z"
   },
   {
    "duration": 5,
    "start_time": "2024-12-18T21:36:53.223Z"
   },
   {
    "duration": 4,
    "start_time": "2024-12-18T21:36:53.231Z"
   },
   {
    "duration": 5,
    "start_time": "2024-12-18T21:38:58.691Z"
   },
   {
    "duration": 1037,
    "start_time": "2024-12-18T21:41:56.215Z"
   },
   {
    "duration": 458,
    "start_time": "2024-12-18T21:41:57.254Z"
   },
   {
    "duration": 16,
    "start_time": "2024-12-18T21:41:57.714Z"
   },
   {
    "duration": 5,
    "start_time": "2024-12-18T21:41:57.733Z"
   },
   {
    "duration": 239,
    "start_time": "2024-12-18T21:41:57.741Z"
   },
   {
    "duration": 281,
    "start_time": "2024-12-18T21:41:57.982Z"
   },
   {
    "duration": 119,
    "start_time": "2024-12-18T21:41:58.265Z"
   },
   {
    "duration": 68,
    "start_time": "2024-12-18T21:41:58.385Z"
   },
   {
    "duration": 578,
    "start_time": "2024-12-18T21:41:58.454Z"
   },
   {
    "duration": 4,
    "start_time": "2024-12-18T21:41:59.033Z"
   },
   {
    "duration": 75,
    "start_time": "2024-12-18T21:41:59.038Z"
   },
   {
    "duration": 25,
    "start_time": "2024-12-18T21:41:59.115Z"
   },
   {
    "duration": 25,
    "start_time": "2024-12-18T21:41:59.142Z"
   },
   {
    "duration": 6,
    "start_time": "2024-12-18T21:41:59.170Z"
   },
   {
    "duration": 145,
    "start_time": "2024-12-18T21:41:59.177Z"
   },
   {
    "duration": 15,
    "start_time": "2024-12-18T21:41:59.326Z"
   },
   {
    "duration": 766,
    "start_time": "2024-12-18T21:41:59.343Z"
   },
   {
    "duration": 21,
    "start_time": "2024-12-18T21:42:00.111Z"
   },
   {
    "duration": 49,
    "start_time": "2024-12-18T21:42:00.134Z"
   },
   {
    "duration": 2,
    "start_time": "2024-12-18T21:42:00.185Z"
   },
   {
    "duration": 3,
    "start_time": "2024-12-18T21:42:00.189Z"
   },
   {
    "duration": 1931,
    "start_time": "2024-12-18T21:42:00.193Z"
   },
   {
    "duration": 290,
    "start_time": "2024-12-18T21:42:02.126Z"
   },
   {
    "duration": 4,
    "start_time": "2024-12-18T21:42:02.418Z"
   },
   {
    "duration": 3,
    "start_time": "2024-12-18T21:42:02.423Z"
   },
   {
    "duration": 3,
    "start_time": "2024-12-18T21:42:02.428Z"
   },
   {
    "duration": 752,
    "start_time": "2024-12-18T21:42:02.432Z"
   },
   {
    "duration": 6242,
    "start_time": "2024-12-18T21:42:03.185Z"
   },
   {
    "duration": 5,
    "start_time": "2024-12-18T21:42:09.429Z"
   },
   {
    "duration": 3,
    "start_time": "2024-12-18T21:42:09.435Z"
   },
   {
    "duration": 4,
    "start_time": "2024-12-18T21:42:09.440Z"
   },
   {
    "duration": 8657,
    "start_time": "2024-12-18T21:42:09.446Z"
   },
   {
    "duration": 338,
    "start_time": "2024-12-18T21:42:18.104Z"
   },
   {
    "duration": 4,
    "start_time": "2024-12-18T21:42:18.444Z"
   },
   {
    "duration": 3,
    "start_time": "2024-12-18T21:42:18.450Z"
   },
   {
    "duration": 68,
    "start_time": "2024-12-18T21:42:18.455Z"
   },
   {
    "duration": 5,
    "start_time": "2024-12-18T21:42:18.525Z"
   },
   {
    "duration": 2,
    "start_time": "2024-12-18T21:42:18.532Z"
   },
   {
    "duration": 79,
    "start_time": "2024-12-18T21:42:18.536Z"
   }
  ],
  "kernelspec": {
   "display_name": "Python 3 (ipykernel)",
   "language": "python",
   "name": "python3"
  },
  "language_info": {
   "codemirror_mode": {
    "name": "ipython",
    "version": 3
   },
   "file_extension": ".py",
   "mimetype": "text/x-python",
   "name": "python",
   "nbconvert_exporter": "python",
   "pygments_lexer": "ipython3",
   "version": "3.9.19"
  },
  "toc": {
   "base_numbering": 1,
   "nav_menu": {},
   "number_sections": true,
   "sideBar": true,
   "skip_h1_title": true,
   "title_cell": "Table of Contents",
   "title_sidebar": "Contents",
   "toc_cell": false,
   "toc_position": {
    "height": "calc(100% - 180px)",
    "left": "10px",
    "top": "150px",
    "width": "284.797px"
   },
   "toc_section_display": true,
   "toc_window_display": true
  }
 },
 "nbformat": 4,
 "nbformat_minor": 2
}
