{
 "cells": [
  {
   "cell_type": "code",
   "execution_count": null,
   "metadata": {},
   "outputs": [],
   "source": []
  },
  {
   "cell_type": "markdown",
   "metadata": {},
   "source": [
    "# SECOND HAND CAR\n",
    "\n",
    "<B>Rusty Bargain</B> es un servicio de venta de coches de segunda mano que essta desarrollando una app para atraer a nuevos clientes. Gracias a esa app, puedes averiguar rápidamente el valor de mercado de tu coche. Debido a que se tiene acceso al historial, especificaciones tecnicas, versiones de equipamiento y precios.\n",
    "\n",
    "<B>Objetivo</B>\n",
    "- Crear un modelo el cual pueda predecir el precio.\n",
    "- Pero debe de tener una calidad de prediccion.\n",
    "- Velocidad de prediccion\n",
    "- Tiempo para el entrenamiento.\n",
    "\n",
    "\n",
    "Entrenar diferentes modelos con varios hiperparámetros. Los modelos a utilizar son <b>Bosque aleatorio, árbol de decisión y regresion lineal</b>\n",
    "\n",
    "<B>Observaciones</B>\n",
    "- Utilizar la metrica RECM para evaluar los modelos.\n",
    "- La regresion lineal no es muy buena para el ajuste de hiperparametros, pero es perfecta para hacer pruebas de cordura de otros metodos. Si la potenciación de gradiente funciona peor que la regresión lineal, definitivamente salio mal.\n",
    "- Usa la libreria LightGBM\n",
    "- Utilizar OHE (One-Hot-Encoding)\n",
    "\n",
    "<B>Características</B>\n",
    "- DateCrawled — fecha en la que se descargó el perfil de la base de datos\n",
    "- VehicleType — tipo de carrocería del vehículo\n",
    "- RegistrationYear — año de matriculación del vehículo\n",
    "- Gearbox — tipo de caja de cambios\n",
    "- Power — potencia (CV)\n",
    "- Model — modelo del vehículo\n",
    "- Mileage — kilometraje (medido en km de acuerdo con las especificidades regionales del conjunto de datos)\n",
    "- RegistrationMonth — mes de matriculación del vehículo\n",
    "- FuelType — tipo de combustible\n",
    "- Brand — marca del vehículo\n",
    "- NotRepaired — vehículo con o sin reparación\n",
    "- DateCreated — fecha de creación del perfil\n",
    "- NumberOfPictures — número de fotos del vehículo\n",
    "- PostalCode — código postal del propietario del perfil (usuario)\n",
    "- LastSeen — fecha de la última vez que el usuario estuvo activo"
   ]
  },
  {
   "cell_type": "markdown",
   "metadata": {},
   "source": [
    "## Importacion de librerias"
   ]
  },
  {
   "cell_type": "code",
   "execution_count": 3,
   "metadata": {},
   "outputs": [],
   "source": [
    "import pandas as pd\n",
    "import numpy as np\n",
    "import matplotlib as plt\n",
    "import seaborn as sns\n",
    "\n",
    "from sklearn.model_selection import train_test_split\n",
    "from sklearn.metrics import mean_absolute_error\n",
    "\n",
    "#Modelos\n",
    "from sklearn.linear_model import LinearRegression\n",
    "from sklearn.ensemble import RandomForestClassifier\n",
    "from sklearn.tree import DecisionTreeClassifier\n",
    "import lightgbm as lgb\n",
    "\n",
    "#Encoder\n",
    "from sklearn.preprocessing import OrdinalEncoder\n",
    "\n",
    "#Estandarizar\n",
    "from sklearn.preprocessing import MaxAbsScaler"
   ]
  },
  {
   "cell_type": "code",
   "execution_count": null,
   "metadata": {},
   "outputs": [],
   "source": []
  }
 ],
 "metadata": {
  "kernelspec": {
   "display_name": "base",
   "language": "python",
   "name": "python3"
  },
  "language_info": {
   "codemirror_mode": {
    "name": "ipython",
    "version": 3
   },
   "file_extension": ".py",
   "mimetype": "text/x-python",
   "name": "python",
   "nbconvert_exporter": "python",
   "pygments_lexer": "ipython3",
   "version": "3.12.4"
  }
 },
 "nbformat": 4,
 "nbformat_minor": 2
}
